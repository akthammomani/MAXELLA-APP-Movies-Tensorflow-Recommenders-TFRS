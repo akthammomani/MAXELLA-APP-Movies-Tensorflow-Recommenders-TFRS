{
 "cells": [
  {
   "cell_type": "markdown",
   "id": "6163fad7",
   "metadata": {},
   "source": [
    "# Features Importance Using Deep & Cross Network (DCN)\n",
    "\n",
    "\n",
    "![logo_small](https://user-images.githubusercontent.com/67468718/127299425-533f0a3c-c965-42a5-886a-5272170d9e0e.JPG)\n",
    "\n",
    "\n",
    "\n",
    "## 1. Introduction\n",
    "\n",
    "**Deep and cross network, short for DCN**, came out of Google Research, and is designed to learn explicit and bounded-degree cross features effectively:\n",
    " * large and sparse feature space is extremely hard to train.\n",
    " * Oftentimes, we needed to do a lot of manual feature engineering, including designing cross features, which is very challenging and less effective.\n",
    " * Whilst possible to use additional neural networks under such circumstances, it's not the most efficient approach.\n",
    " \n",
    "***Deep and cross network (DCN) is specifically designed to tackle all above challenges.***\n",
    "\n",
    "\n",
    "### 1.1 Feature Cross\n",
    "\n",
    "Let's say we're building a recommender system to sell a blender to customers. Then our customers' past purchase history, such as purchased bananas and purchased cooking books, or geographic features are single features. If one has purchased both bananas and cooking books, then this customer will be more likely to click on the recommended blender. The combination of purchased bananas and the purchased cooking books is referred to as feature cross, which provides additional interaction information beyond the individual features. You can keep adding more cross features to even higher degrees:\n",
    "\n",
    "![feature_cross](https://user-images.githubusercontent.com/67468718/135774082-c46d2f22-ea20-451c-af1a-ee4453f69176.JPG)\n",
    "\n",
    "### 1.2 Cross Network\n",
    "\n",
    "In real world recommendation systems, we often have large and sparse feature space. So identifying effective feature processes in this setting would often require manual feature engineering or exhaustive search, which is highly inefficient. To tackle this issue, ***Google Research team has proposed Deep and Cross Network, DCN.***\n",
    "\n",
    "It starts with an input layer, typically an embedding layer, followed by a cross network containing multiple cross layers that models explicitly feature interactions, and then combines with a deep network that models implicit feature interactions. The deep network is just a traditional multilayer construction. But the core of DCN is really the cross network. It explicitly applies feature crossing at each layer. And the highest polynomial degree increases with layer depth. The figure here shows the deep and cross layer in the mathematical form.\n",
    "\n",
    "![dcn](https://user-images.githubusercontent.com/67468718/135774206-d017c326-2568-49ce-ab13-98b696e6de84.JPG)\n",
    "\n",
    "### 1.3 Deep & Cross Network Architecture\n",
    "\n",
    "There are a couple of ways to combine the cross network and the deep networ:\n",
    " * Stack the deep network on top of the cross network.\n",
    " * Place deep & cross networs in parallel.\n",
    " \n",
    "![DCN_structure](https://user-images.githubusercontent.com/67468718/135774992-b26eabcf-bd9e-40c2-b702-abb1cb193ff7.JPG)"
   ]
  },
  {
   "cell_type": "markdown",
   "id": "9b47fa7f",
   "metadata": {},
   "source": [
    "## 2. Dataset: \n",
    "\n",
    "**Movie Lens** contains a set of movie ratings from the MovieLens website, a movie recommendation service. This dataset was collected and maintained by [GroupLens](https://grouplens.org/) , a research group at the University of Minnesota. There are 5 versions included: \"25m\", \"latest-small\", \"100k\", \"1m\", \"20m\". In all datasets, the movies data and ratings data are joined on \"movieId\". The 25m dataset, latest-small dataset, and 20m dataset contain only movie data and rating data. The 1m dataset and 100k dataset contain demographic data in addition to movie and rating data.\n",
    "\n",
    "**movie_lens/1m** can be treated in two ways:\n",
    "\n",
    "  * It can be interpreted as expressesing which movies the users watched (and rated), and which they did not. This is a form of *implicit feedback*, where users' watches tell us which things they prefer to see and which they'd rather not see (This means that every movie a user watched is a positive example, and every movie they have not seen is an implicit negative example).\n",
    "  * It can also be seen as expressesing how much the users liked the movies they did watch. This is a form of *explicit feedback*: given that a user watched a movie, we can tell roughly how much they liked by looking at the rating they have given.\n",
    "\n",
    "\n",
    "\n",
    "**(a) [movie_lens/1m-ratings](https://www.tensorflow.org/datasets/catalog/movie_lens#movie_lens1m-ratings):**\n",
    " * Config description: This dataset contains 1,000,209 anonymous ratings of approximately 3,900 movies made by 6,040 MovieLens users who joined MovieLens. Ratings are in whole-star increments. This dataset contains demographic data of users in addition to data on movies and ratings.\n",
    " * This dataset is the largest dataset that includes demographic data from movie_lens.\n",
    " * \"user_gender\": gender of the user who made the rating; a true value corresponds to male\n",
    " * \"bucketized_user_age\": bucketized age values of the user who made the rating, the values and the corresponding ranges are:\n",
    "   * 1: \"Under 18\"\n",
    "   * 18: \"18-24\"\n",
    "   * 25: \"25-34\"\n",
    "   * 35: \"35-44\"\n",
    "   * 45: \"45-49\"\n",
    "   * 50: \"50-55\"\n",
    "   * 56: \"56+\"\n",
    " * \"user_occupation_label\": the occupation of the user who made the rating represented by an integer-encoded label; labels are preprocessed to be consistent across different versions\n",
    " * \"user_occupation_text\": the occupation of the user who made the rating in the original string; different versions can have different set of raw text labels\n",
    " * \"user_zip_code\": the zip code of the user who made the rating.\n",
    " * Download size: 5.64 MiB\n",
    " * Dataset size: 308.42 MiB\n",
    " * Auto-cached ([documentation](https://www.tensorflow.org/datasets/performances#auto-caching)): No\n",
    " * Features:\n",
    " ```\n",
    " FeaturesDict({\n",
    "               'bucketized_user_age': tf.float32,\n",
    "               'movie_genres': Sequence(ClassLabel(shape=(), dtype=tf.int64, num_classes=21)),\n",
    "               'movie_id': tf.string,\n",
    "               'movie_title': tf.string,\n",
    "               'raw_user_age': tf.float32,\n",
    "               'timestamp': tf.int64,\n",
    "               'user_gender': tf.bool,\n",
    "               'user_id': tf.string,\n",
    "               'user_occupation_label': ClassLabel(shape=(), dtype=tf.int64, num_classes=22),\n",
    "               'user_occupation_text': tf.string,\n",
    "               'user_rating': tf.float32,\n",
    "               'user_zip_code': tf.string,\n",
    "              })\n",
    " ```\n",
    "**Example:**\n",
    "\n",
    "|bucketized_user_age\t|movie_genres|\tmovie_id|\tmovie_title|\traw_user_age|\ttimestamp|\tuser_gender|\tuser_id\t|user_occupation_label|\tuser_occupation_text\t|user_rating\t|user_zip_code|\n",
    "|:----:|:----:|:----:|:----:|:----:|:----:|:----:|:----:|:----:|:----:|:----:|:----:|\n",
    "|45.0\t|7 (Drama)|b'357'\t|b\"One Flew Over the Cuckoo's Nest (1975)\"\t|46.0\t|879024327\t|True\t|b'138'\t|4 (doctor/health care)\t|b'doctor'\t|4.0|\tb'53211'|\n",
    "\n",
    "\n",
    "**(b) [movie_lens/1m-movies](https://www.tensorflow.org/datasets/catalog/movie_lens#movie_lens1m-movies):**\n",
    "\n",
    " * Config description: This dataset contains data of approximately 3,900 movies rated in the 1m dataset.\n",
    " * Download size: 5.64 MiB\n",
    " * Dataset size: 351.12 KiB\n",
    " * Auto-cached ([documentation](https://www.tensorflow.org/datasets/performances#auto-caching)): Yes\n",
    " * Features:\n",
    "```\n",
    "FeaturesDict({\n",
    "              'movie_genres': Sequence(ClassLabel(shape=(), dtype=tf.int64, num_classes=21)),\n",
    "              'movie_id': tf.string,\n",
    "              'movie_title': tf.string,\n",
    "             })\n",
    "```\n",
    "**Example:**\n",
    "\n",
    "|movie_genres\t|movie_id\t|movie_title|\n",
    "|:-----:|:-----:|:-----:|\n",
    "|4 (Comedy) |b'1681'\t|b'You So Crazy (1994)'|\t\n",
    "|0 (Action)|b'838'\t|b'In the Line of Duty 2 (1987)'|\n"
   ]
  },
  {
   "cell_type": "markdown",
   "id": "7c51a05e",
   "metadata": {},
   "source": [
    "## 3. Sourcing and Loading\n",
    "\n",
    "### 3.1 Import relevant libraries"
   ]
  },
  {
   "cell_type": "code",
   "execution_count": 1,
   "id": "7d223838",
   "metadata": {},
   "outputs": [],
   "source": [
    "# Import the necessary Libararies: \n",
    "\n",
    "import os\n",
    "import pprint\n",
    "import tempfile\n",
    "import matplotlib.pyplot as plt\n",
    "from typing import Dict, Text\n",
    "\n",
    "import numpy as np\n",
    "import tensorflow as tf\n",
    "import tensorflow_datasets as tfds\n",
    "from typing import Dict, Text\n",
    "import pandas as pd\n",
    "import numpy as np\n",
    "\n",
    "import tensorflow as tf\n",
    "\n",
    "import tensorflow_datasets as tfds\n",
    "import tensorflow_recommenders as tfrs\n",
    "\n",
    "plt.style.use('ggplot')"
   ]
  },
  {
   "cell_type": "markdown",
   "id": "10b9d01a",
   "metadata": {},
   "source": [
    "### 3.2 Preparing the dataset\n",
    "\n",
    "Let's first have a look at the data.\n",
    "\n",
    "We use the MovieLens dataset from Tensorflow Datasets. Loading **[movie_lens/1m-ratings](https://www.tensorflow.org/datasets/catalog/movie_lens#movie_lens1m-ratings)** yields a ***tf.data.Dataset*** object containing the ratings data and loading **[movie_lens/1m-movies](https://www.tensorflow.org/datasets/catalog/movie_lens#movie_lens1m-movies)** yields a ***tf.data.Dataset*** object containing only the movies data.\n",
    "\n",
    "Note that since the MovieLens dataset does not have predefined splits, all data are under train split."
   ]
  },
  {
   "cell_type": "code",
   "execution_count": 2,
   "id": "c49caba2",
   "metadata": {},
   "outputs": [],
   "source": [
    "# Ratings data.\n",
    "ratings = tfds.load(\"movielens/1m-ratings\", split=\"train\", shuffle_files=True)\n"
   ]
  },
  {
   "cell_type": "code",
   "execution_count": 3,
   "id": "8920e803",
   "metadata": {},
   "outputs": [
    {
     "name": "stdout",
     "output_type": "stream",
     "text": [
      "{'bucketized_user_age': 25.0,\n",
      " 'movie_genres': array([7], dtype=int64),\n",
      " 'movie_id': b'1203',\n",
      " 'movie_title': b'12 Angry Men (1957)',\n",
      " 'timestamp': 1015736614,\n",
      " 'user_gender': True,\n",
      " 'user_id': b'3475',\n",
      " 'user_occupation_label': 14,\n",
      " 'user_occupation_text': b'sales/marketing',\n",
      " 'user_rating': 3.0,\n",
      " 'user_zip_code': b'33133'}\n"
     ]
    }
   ],
   "source": [
    "#The ratings dataset returns a dictionary of movie id, user id, the assigned rating, timestamp, movie information, and user information:\n",
    "#View the data from ratings dataset:\n",
    "for x in ratings.take(1).as_numpy_iterator():\n",
    "    pprint.pprint(x)"
   ]
  },
  {
   "cell_type": "code",
   "execution_count": 4,
   "id": "8399463b",
   "metadata": {},
   "outputs": [
    {
     "data": {
      "text/plain": [
       "tensorflow.python.data.ops.dataset_ops._OptionsDataset"
      ]
     },
     "execution_count": 4,
     "metadata": {},
     "output_type": "execute_result"
    }
   ],
   "source": [
    "type(ratings)"
   ]
  },
  {
   "cell_type": "markdown",
   "id": "9014c3c9",
   "metadata": {},
   "source": [
    "Next, we're only going to extract the movie title and the user id. So, we're actually not going to extract the rating itself and the reason why is that we're treating these as **implicit recommendations** in this case because that's easier to do a large scale like we mentioned earlier we want to try to keep things simple in **the retrieval stage** because it's operating over potentially a massive amount of data so to that end we're just going to assume that any movie that a user rated is one that they were really interested in if they took the time to watch it then it expresses some level of interest:\n",
    "\n",
    "***Any rating is an implicit positive rating for a movie and the absence of a rating is an implicit negative rating for that movie***"
   ]
  },
  {
   "cell_type": "code",
   "execution_count": 5,
   "id": "e673da2d",
   "metadata": {},
   "outputs": [],
   "source": [
    "#Let's select the necessary attributes:\n",
    "\n",
    "ratings = ratings.map(lambda x: {\n",
    "                                 \"movie_id\": x[\"movie_id\"],\n",
    "                                 \"user_id\": x[\"user_id\"],\n",
    "                                 \"user_rating\": x[\"user_rating\"],\n",
    "                                 \"user_gender\": int(x[\"user_gender\"]),\n",
    "                                 \"user_zip_code\": x[\"user_zip_code\"],\n",
    "                                 \"user_occupation_text\": x[\"user_occupation_text\"],\n",
    "                                 \"bucketized_user_age\": int(x[\"bucketized_user_age\"]),                                \n",
    "                                })\n",
    "\n"
   ]
  },
  {
   "cell_type": "code",
   "execution_count": 6,
   "id": "9b06d312",
   "metadata": {},
   "outputs": [
    {
     "data": {
      "text/plain": [
       "1000209"
      ]
     },
     "execution_count": 6,
     "metadata": {},
     "output_type": "execute_result"
    }
   ],
   "source": [
    "len(ratings)"
   ]
  },
  {
   "cell_type": "code",
   "execution_count": 7,
   "id": "ae885400",
   "metadata": {},
   "outputs": [],
   "source": [
    "# let's use a random split, putting 75% of the ratings in the train set, and 25% in the test set:\n",
    "# Assign a seed=42 for consistency of results and reproducibility:\n",
    "seed = 42\n",
    "l = len(ratings)\n",
    "\n",
    "tf.random.set_seed(seed)\n",
    "shuffled = ratings.shuffle(l, seed=seed, reshuffle_each_iteration=False)\n",
    "\n",
    "#Save 75% of the data for training and 25% for testing:\n",
    "train_ = int(0.75 * l)\n",
    "test_ = int(0.25 * l)\n",
    "\n",
    "train = shuffled.take(train_)\n",
    "test = shuffled.skip(train_).take(test_)"
   ]
  },
  {
   "cell_type": "code",
   "execution_count": 8,
   "id": "f5e10ac0",
   "metadata": {},
   "outputs": [],
   "source": [
    "#Then, let's create vocabulary for each feature:\n",
    "\n",
    "feature_names = [\"movie_id\", \"user_id\", \"user_gender\", \"user_zip_code\",\n",
    "                 \"user_occupation_text\", \"bucketized_user_age\"]\n",
    "\n",
    "vocabularies = {}\n",
    "\n",
    "for feature_name in feature_names:\n",
    "    vocab = ratings.batch(l).map(lambda x: x[feature_name])\n",
    "    vocabularies[feature_name] = np.unique(np.concatenate(list(vocab)))"
   ]
  },
  {
   "cell_type": "markdown",
   "id": "21d9d746",
   "metadata": {},
   "source": [
    "## 4. Model construction\n",
    "\n",
    "The model architecture we will be building starts with an embedding layer, which is fed into a cross network followed by a deep network. The embedding dimension is set to 32 for all the features. You could also use different embedding sizes for different features."
   ]
  },
  {
   "cell_type": "code",
   "execution_count": 29,
   "id": "14a83098",
   "metadata": {},
   "outputs": [],
   "source": [
    "class DCN(tfrs.Model):\n",
    "    def __init__(self, use_cross_layer, deep_layer_sizes, projection_dim=None):\n",
    "        super().__init__()\n",
    "\n",
    "        self.embedding_dimension = 32\n",
    "\n",
    "        str_features = [\"movie_id\", \"user_id\", \"user_zip_code\",\n",
    "                        \"user_occupation_text\"]\n",
    "        int_features = [\"user_gender\", \"bucketized_user_age\"]\n",
    "\n",
    "        self._all_features = str_features + int_features\n",
    "        self._embeddings = {}\n",
    "\n",
    "        # Compute embeddings for string features.\n",
    "        for feature_name in str_features:\n",
    "            vocabulary = vocabularies[feature_name]\n",
    "            self._embeddings[feature_name] = tf.keras.Sequential(\n",
    "                                                                [tf.keras.layers.experimental.preprocessing.StringLookup(\n",
    "                                                                 vocabulary=vocabulary, mask_token=None),\n",
    "                                                                 tf.keras.layers.Embedding(len(vocabulary) + 1,\n",
    "                                                                 self.embedding_dimension)\n",
    "                                           ])\n",
    "      \n",
    "        # Compute embeddings for int features.\n",
    "        for feature_name in int_features:\n",
    "            vocabulary = vocabularies[feature_name]\n",
    "            self._embeddings[feature_name] = tf.keras.Sequential(\n",
    "                                                                 [tf.keras.layers.experimental.preprocessing.IntegerLookup(\n",
    "                                                                 vocabulary=vocabulary, mask_value=None),\n",
    "                                                                 tf.keras.layers.Embedding(len(vocabulary) + 1,\n",
    "                                                                 self.embedding_dimension)\n",
    "                                           ])\n",
    "\n",
    "        if use_cross_layer:\n",
    "            self._cross_layer = tfrs.layers.dcn.Cross(\n",
    "                                                      projection_dim=projection_dim,\n",
    "                                                      kernel_initializer=\"glorot_uniform\")\n",
    "        else:\n",
    "            self._cross_layer = None\n",
    "\n",
    "        self._deep_layers = [tf.keras.layers.Dense(layer_size, activation=\"relu\")\n",
    "            for layer_size in deep_layer_sizes]\n",
    "\n",
    "        self._logit_layer = tf.keras.layers.Dense(1)\n",
    "\n",
    "        self.task = tfrs.tasks.Ranking(\n",
    "            loss=tf.keras.losses.MeanSquaredError(),\n",
    "            metrics=[tf.keras.metrics.RootMeanSquaredError(\"RMSE\")]\n",
    "            )\n",
    "\n",
    "    def call(self, features):\n",
    "        # Concatenate embeddings\n",
    "        embeddings = []\n",
    "        for feature_name in self._all_features:\n",
    "            embedding_fn = self._embeddings[feature_name]\n",
    "            embeddings.append(embedding_fn(features[feature_name]))\n",
    "\n",
    "        x = tf.concat(embeddings, axis=1)\n",
    "\n",
    "        # Build Cross Network\n",
    "        if self._cross_layer is not None:\n",
    "            x = self._cross_layer(x)\n",
    "    \n",
    "    # Build Deep Network\n",
    "        for deep_layer in self._deep_layers:\n",
    "            x = deep_layer(x)\n",
    "\n",
    "        return self._logit_layer(x)\n",
    "\n",
    "    def compute_loss(self, features, training=False):\n",
    "        labels = features.pop(\"user_rating\")\n",
    "        scores = self(features)\n",
    "        return self.task(labels=labels,predictions=scores,\n",
    "        )        "
   ]
  },
  {
   "cell_type": "markdown",
   "id": "11fcb42a",
   "metadata": {},
   "source": [
    "### 4.1 Model Training"
   ]
  },
  {
   "cell_type": "code",
   "execution_count": 30,
   "id": "9461b1ce",
   "metadata": {},
   "outputs": [],
   "source": [
    "# Then shuffle, batch, and cache the training and evaluation data:\n",
    "# Segment the batches so that the model runs 13 training batches (2^13) and 11 test batches (2^11) per epoch, \n",
    "# while having a batch size which is a multiple of 2^n.\n",
    "cached_train = train.shuffle(l).batch(8192).cache()\n",
    "cached_test = test.batch(2048).cache()"
   ]
  },
  {
   "cell_type": "markdown",
   "id": "3edfcf22",
   "metadata": {},
   "source": [
    "Now let's define a function that runs a model multiple times and returns the model's RMSE mean and standard deviation out of multiple runs"
   ]
  },
  {
   "cell_type": "code",
   "execution_count": 34,
   "id": "eaaf4b62",
   "metadata": {},
   "outputs": [],
   "source": [
    "def run_models(use_cross_layer, deep_layer_sizes, projection_dim=None, num_runs=5):\n",
    "    models = []\n",
    "    rmses = []\n",
    "\n",
    "    for i in range(num_runs):\n",
    "        model = DCN(use_cross_layer=use_cross_layer,\n",
    "                    deep_layer_sizes=deep_layer_sizes,\n",
    "                    projection_dim=projection_dim)\n",
    "        model.compile(optimizer=tf.keras.optimizers.Adam(learning_rate))\n",
    "        models.append(model)\n",
    "\n",
    "        model.fit(cached_train, epochs=epochs, verbose=False)\n",
    "        metrics = model.evaluate(cached_test, return_dict=True)\n",
    "        rmses.append(metrics[\"RMSE\"])\n",
    "\n",
    "    mean, stdv = np.average(rmses), np.std(rmses)\n",
    "\n",
    "    return {\"model\": models, \"mean\": mean, \"stdv\": stdv}"
   ]
  },
  {
   "cell_type": "markdown",
   "id": "90dbb3b5",
   "metadata": {},
   "source": [
    "We set some hyper-parameters for the models. Note that these hyper-parameters are set globally for all the models for demonstration purpose. If you want to obtain the best performance for each model, or conduct a fair comparison among models, then we'd suggest you to fine-tune the hyper-parameters. Remember that the model architecture and optimization schemes are intertwined."
   ]
  },
  {
   "cell_type": "code",
   "execution_count": 35,
   "id": "c57cb229",
   "metadata": {},
   "outputs": [],
   "source": [
    "epochs = 32\n",
    "learning_rate = 0.01"
   ]
  },
  {
   "cell_type": "markdown",
   "id": "45df44b8",
   "metadata": {},
   "source": [
    "#### 4.1.1 DCN (stacked)\n",
    "\n",
    "We first train a DCN model with a stacked structure, that is, the inputs are fed to a cross network followed by a deep network.\n",
    "\n",
    "![DCN_stacked](https://user-images.githubusercontent.com/67468718/135777802-cacec165-ed8c-4951-85ee-f3fe1f421b4d.JPG)"
   ]
  },
  {
   "cell_type": "code",
   "execution_count": 36,
   "id": "f8c4aefa",
   "metadata": {},
   "outputs": [
    {
     "name": "stdout",
     "output_type": "stream",
     "text": [
      "WARNING:tensorflow:mask_value is deprecated, use mask_token instead.\n"
     ]
    },
    {
     "name": "stderr",
     "output_type": "stream",
     "text": [
      "WARNING:tensorflow:mask_value is deprecated, use mask_token instead.\n"
     ]
    },
    {
     "name": "stdout",
     "output_type": "stream",
     "text": [
      "WARNING:tensorflow:mask_value is deprecated, use mask_token instead.\n"
     ]
    },
    {
     "name": "stderr",
     "output_type": "stream",
     "text": [
      "WARNING:tensorflow:mask_value is deprecated, use mask_token instead.\n"
     ]
    },
    {
     "name": "stdout",
     "output_type": "stream",
     "text": [
      "123/123 [==============================] - 2s 14ms/step - RMSE: 0.8345 - loss: 0.6948 - regularization_loss: 0.0000e+00 - total_loss: 0.6948\n",
      "WARNING:tensorflow:mask_value is deprecated, use mask_token instead.\n"
     ]
    },
    {
     "name": "stderr",
     "output_type": "stream",
     "text": [
      "WARNING:tensorflow:mask_value is deprecated, use mask_token instead.\n"
     ]
    },
    {
     "name": "stdout",
     "output_type": "stream",
     "text": [
      "WARNING:tensorflow:mask_value is deprecated, use mask_token instead.\n"
     ]
    },
    {
     "name": "stderr",
     "output_type": "stream",
     "text": [
      "WARNING:tensorflow:mask_value is deprecated, use mask_token instead.\n"
     ]
    },
    {
     "name": "stdout",
     "output_type": "stream",
     "text": [
      "123/123 [==============================] - 2s 16ms/step - RMSE: 0.8413 - loss: 0.7084 - regularization_loss: 0.0000e+00 - total_loss: 0.7084\n",
      "WARNING:tensorflow:mask_value is deprecated, use mask_token instead.\n"
     ]
    },
    {
     "name": "stderr",
     "output_type": "stream",
     "text": [
      "WARNING:tensorflow:mask_value is deprecated, use mask_token instead.\n"
     ]
    },
    {
     "name": "stdout",
     "output_type": "stream",
     "text": [
      "WARNING:tensorflow:mask_value is deprecated, use mask_token instead.\n"
     ]
    },
    {
     "name": "stderr",
     "output_type": "stream",
     "text": [
      "WARNING:tensorflow:mask_value is deprecated, use mask_token instead.\n"
     ]
    },
    {
     "name": "stdout",
     "output_type": "stream",
     "text": [
      "123/123 [==============================] - 2s 14ms/step - RMSE: 0.8322 - loss: 0.6930 - regularization_loss: 0.0000e+00 - total_loss: 0.6930\n",
      "WARNING:tensorflow:mask_value is deprecated, use mask_token instead.\n"
     ]
    },
    {
     "name": "stderr",
     "output_type": "stream",
     "text": [
      "WARNING:tensorflow:mask_value is deprecated, use mask_token instead.\n"
     ]
    },
    {
     "name": "stdout",
     "output_type": "stream",
     "text": [
      "WARNING:tensorflow:mask_value is deprecated, use mask_token instead.\n"
     ]
    },
    {
     "name": "stderr",
     "output_type": "stream",
     "text": [
      "WARNING:tensorflow:mask_value is deprecated, use mask_token instead.\n"
     ]
    },
    {
     "name": "stdout",
     "output_type": "stream",
     "text": [
      "123/123 [==============================] - 1s 10ms/step - RMSE: 0.8233 - loss: 0.6763 - regularization_loss: 0.0000e+00 - total_loss: 0.6763\n",
      "WARNING:tensorflow:mask_value is deprecated, use mask_token instead.\n"
     ]
    },
    {
     "name": "stderr",
     "output_type": "stream",
     "text": [
      "WARNING:tensorflow:mask_value is deprecated, use mask_token instead.\n"
     ]
    },
    {
     "name": "stdout",
     "output_type": "stream",
     "text": [
      "WARNING:tensorflow:mask_value is deprecated, use mask_token instead.\n"
     ]
    },
    {
     "name": "stderr",
     "output_type": "stream",
     "text": [
      "WARNING:tensorflow:mask_value is deprecated, use mask_token instead.\n"
     ]
    },
    {
     "name": "stdout",
     "output_type": "stream",
     "text": [
      "123/123 [==============================] - 2s 11ms/step - RMSE: 0.7660 - loss: 0.5863 - regularization_loss: 0.0000e+00 - total_loss: 0.5863\n"
     ]
    }
   ],
   "source": [
    "dcn_result = run_models(use_cross_layer=True, deep_layer_sizes=[192, 192])"
   ]
  },
  {
   "cell_type": "code",
   "execution_count": 46,
   "id": "b8b4a1b6",
   "metadata": {},
   "outputs": [
    {
     "name": "stdout",
     "output_type": "stream",
     "text": [
      "Visualizing the Weight Matrix Learned by DCN\n"
     ]
    },
    {
     "name": "stderr",
     "output_type": "stream",
     "text": [
      "C:\\Users\\aktha\\anaconda3\\envs\\tfrs\\lib\\site-packages\\ipykernel_launcher.py:24: UserWarning: FixedFormatter should only be used together with FixedLocator\n",
      "C:\\Users\\aktha\\anaconda3\\envs\\tfrs\\lib\\site-packages\\ipykernel_launcher.py:25: UserWarning: FixedFormatter should only be used together with FixedLocator\n"
     ]
    },
    {
     "data": {
      "text/plain": [
       "<Figure size 864x864 with 0 Axes>"
      ]
     },
     "metadata": {},
     "output_type": "display_data"
    },
    {
     "data": {
      "image/png": "[encoded data removed]",
      "text/plain": [
       "<Figure size 288x288 with 2 Axes>"
      ]
     },
     "metadata": {},
     "output_type": "display_data"
    }
   ],
   "source": [
    "from mpl_toolkits.axes_grid1 import make_axes_locatable\n",
    "\n",
    "model = dcn_result[\"model\"][0]\n",
    "mat = model._cross_layer._dense.kernel\n",
    "features = model._all_features\n",
    "\n",
    "block_norm = np.ones([len(features), len(features)])\n",
    "dim = model.embedding_dimension\n",
    "\n",
    "# Compute the norms of the blocks.\n",
    "for i in range(len(features)):\n",
    "    for j in range(len(features)):\n",
    "        block = mat[i * dim:(i + 1) * dim,\n",
    "                j * dim:(j + 1) * dim]\n",
    "        block_norm[i,j] = np.linalg.norm(block, ord=\"fro\")\n",
    "\n",
    "plt.figure(figsize=(12,12))\n",
    "im = plt.matshow(block_norm, cmap=plt.cm.Blues)\n",
    "ax = plt.gca()\n",
    "divider = make_axes_locatable(ax)\n",
    "cax = divider.append_axes(\"right\", size=\"5%\", pad=0.1)\n",
    "plt.colorbar(im, cax=cax)\n",
    "cax.tick_params(labelsize=10) \n",
    "_ = ax.set_xticklabels([\"\"] + features, rotation=45, ha=\"left\", fontsize=10)\n",
    "_ = ax.set_yticklabels([\"\"] + features, fontsize=10)\n",
    "#plt.title('Visualizing the Weight Matrix Learned by DCN')\n",
    "print('Visualizing the Weight Matrix Learned by DCN')"
   ]
  },
  {
   "cell_type": "markdown",
   "id": "20d9941a",
   "metadata": {},
   "source": [
    "One of the nice things about DCN is that you can visualize the weights from the cross network and see if it has successfully learned the important feature process.\n",
    "As shown above, the stronger the interaction between two features is. In this case, the feature cross of user ID and movie ID is of great importance."
   ]
  },
  {
   "cell_type": "markdown",
   "id": "9570b0a9",
   "metadata": {},
   "source": [
    "#### 4.1.2 Low-rank DCN\n",
    "\n",
    "To reduce the training and serving cost, we leverage low-rank techniques to approximate the DCN weight matrices. The rank is passed in through argument projection_dim; a smaller projection_dim results in a lower cost. Note that projection_dim needs to be smaller than (input size)/2 to reduce the cost. In practice, we've observed using low-rank DCN with rank (input size)/4 consistently preserved the accuracy of a full-rank DCN.\n",
    "\n",
    "![low-rank-dcn](https://user-images.githubusercontent.com/67468718/137226644-e5bebcf9-2648-407c-94a5-108435076570.JPG)"
   ]
  },
  {
   "cell_type": "code",
   "execution_count": 47,
   "id": "6d99083e",
   "metadata": {},
   "outputs": [
    {
     "name": "stdout",
     "output_type": "stream",
     "text": [
      "WARNING:tensorflow:mask_value is deprecated, use mask_token instead.\n"
     ]
    },
    {
     "name": "stderr",
     "output_type": "stream",
     "text": [
      "WARNING:tensorflow:mask_value is deprecated, use mask_token instead.\n"
     ]
    },
    {
     "name": "stdout",
     "output_type": "stream",
     "text": [
      "WARNING:tensorflow:mask_value is deprecated, use mask_token instead.\n"
     ]
    },
    {
     "name": "stderr",
     "output_type": "stream",
     "text": [
      "WARNING:tensorflow:mask_value is deprecated, use mask_token instead.\n"
     ]
    },
    {
     "name": "stdout",
     "output_type": "stream",
     "text": [
      "123/123 [==============================] - 2s 10ms/step - RMSE: 0.7961 - loss: 0.6334 - regularization_loss: 0.0000e+00 - total_loss: 0.6334\n",
      "WARNING:tensorflow:mask_value is deprecated, use mask_token instead.\n"
     ]
    },
    {
     "name": "stderr",
     "output_type": "stream",
     "text": [
      "WARNING:tensorflow:mask_value is deprecated, use mask_token instead.\n"
     ]
    },
    {
     "name": "stdout",
     "output_type": "stream",
     "text": [
      "WARNING:tensorflow:mask_value is deprecated, use mask_token instead.\n"
     ]
    },
    {
     "name": "stderr",
     "output_type": "stream",
     "text": [
      "WARNING:tensorflow:mask_value is deprecated, use mask_token instead.\n"
     ]
    },
    {
     "name": "stdout",
     "output_type": "stream",
     "text": [
      "123/123 [==============================] - 2s 10ms/step - RMSE: 0.8296 - loss: 0.6869 - regularization_loss: 0.0000e+00 - total_loss: 0.6869\n",
      "WARNING:tensorflow:mask_value is deprecated, use mask_token instead.\n"
     ]
    },
    {
     "name": "stderr",
     "output_type": "stream",
     "text": [
      "WARNING:tensorflow:mask_value is deprecated, use mask_token instead.\n"
     ]
    },
    {
     "name": "stdout",
     "output_type": "stream",
     "text": [
      "WARNING:tensorflow:mask_value is deprecated, use mask_token instead.\n"
     ]
    },
    {
     "name": "stderr",
     "output_type": "stream",
     "text": [
      "WARNING:tensorflow:mask_value is deprecated, use mask_token instead.\n"
     ]
    },
    {
     "name": "stdout",
     "output_type": "stream",
     "text": [
      "123/123 [==============================] - 2s 10ms/step - RMSE: 0.8437 - loss: 0.7134 - regularization_loss: 0.0000e+00 - total_loss: 0.7134\n",
      "WARNING:tensorflow:mask_value is deprecated, use mask_token instead.\n"
     ]
    },
    {
     "name": "stderr",
     "output_type": "stream",
     "text": [
      "WARNING:tensorflow:mask_value is deprecated, use mask_token instead.\n"
     ]
    },
    {
     "name": "stdout",
     "output_type": "stream",
     "text": [
      "WARNING:tensorflow:mask_value is deprecated, use mask_token instead.\n"
     ]
    },
    {
     "name": "stderr",
     "output_type": "stream",
     "text": [
      "WARNING:tensorflow:mask_value is deprecated, use mask_token instead.\n"
     ]
    },
    {
     "name": "stdout",
     "output_type": "stream",
     "text": [
      "123/123 [==============================] - 2s 12ms/step - RMSE: 0.8270 - loss: 0.6850 - regularization_loss: 0.0000e+00 - total_loss: 0.6850\n",
      "WARNING:tensorflow:mask_value is deprecated, use mask_token instead.\n"
     ]
    },
    {
     "name": "stderr",
     "output_type": "stream",
     "text": [
      "WARNING:tensorflow:mask_value is deprecated, use mask_token instead.\n"
     ]
    },
    {
     "name": "stdout",
     "output_type": "stream",
     "text": [
      "WARNING:tensorflow:mask_value is deprecated, use mask_token instead.\n"
     ]
    },
    {
     "name": "stderr",
     "output_type": "stream",
     "text": [
      "WARNING:tensorflow:mask_value is deprecated, use mask_token instead.\n"
     ]
    },
    {
     "name": "stdout",
     "output_type": "stream",
     "text": [
      "123/123 [==============================] - 2s 11ms/step - RMSE: 0.8368 - loss: 0.7005 - regularization_loss: 0.0000e+00 - total_loss: 0.7005\n"
     ]
    }
   ],
   "source": [
    "dcn_lr_result = run_models(use_cross_layer=True,\n",
    "                           projection_dim=20,\n",
    "                           deep_layer_sizes=[192, 192])"
   ]
  },
  {
   "cell_type": "markdown",
   "id": "09c9994c",
   "metadata": {},
   "source": [
    "#### 4.1.3 DNN (Cross Layer = False)\n",
    "\n",
    "We train a same-sized DNN model as a reference."
   ]
  },
  {
   "cell_type": "code",
   "execution_count": 48,
   "id": "0b84f794",
   "metadata": {
    "scrolled": false
   },
   "outputs": [
    {
     "name": "stdout",
     "output_type": "stream",
     "text": [
      "WARNING:tensorflow:mask_value is deprecated, use mask_token instead.\n"
     ]
    },
    {
     "name": "stderr",
     "output_type": "stream",
     "text": [
      "WARNING:tensorflow:mask_value is deprecated, use mask_token instead.\n"
     ]
    },
    {
     "name": "stdout",
     "output_type": "stream",
     "text": [
      "WARNING:tensorflow:mask_value is deprecated, use mask_token instead.\n"
     ]
    },
    {
     "name": "stderr",
     "output_type": "stream",
     "text": [
      "WARNING:tensorflow:mask_value is deprecated, use mask_token instead.\n"
     ]
    },
    {
     "name": "stdout",
     "output_type": "stream",
     "text": [
      "123/123 [==============================] - 2s 12ms/step - RMSE: 0.7605 - loss: 0.5796 - regularization_loss: 0.0000e+00 - total_loss: 0.5796\n",
      "WARNING:tensorflow:mask_value is deprecated, use mask_token instead.\n"
     ]
    },
    {
     "name": "stderr",
     "output_type": "stream",
     "text": [
      "WARNING:tensorflow:mask_value is deprecated, use mask_token instead.\n"
     ]
    },
    {
     "name": "stdout",
     "output_type": "stream",
     "text": [
      "WARNING:tensorflow:mask_value is deprecated, use mask_token instead.\n"
     ]
    },
    {
     "name": "stderr",
     "output_type": "stream",
     "text": [
      "WARNING:tensorflow:mask_value is deprecated, use mask_token instead.\n"
     ]
    },
    {
     "name": "stdout",
     "output_type": "stream",
     "text": [
      "123/123 [==============================] - 2s 11ms/step - RMSE: 0.7835 - loss: 0.6156 - regularization_loss: 0.0000e+00 - total_loss: 0.6156\n",
      "WARNING:tensorflow:mask_value is deprecated, use mask_token instead.\n"
     ]
    },
    {
     "name": "stderr",
     "output_type": "stream",
     "text": [
      "WARNING:tensorflow:mask_value is deprecated, use mask_token instead.\n"
     ]
    },
    {
     "name": "stdout",
     "output_type": "stream",
     "text": [
      "WARNING:tensorflow:mask_value is deprecated, use mask_token instead.\n"
     ]
    },
    {
     "name": "stderr",
     "output_type": "stream",
     "text": [
      "WARNING:tensorflow:mask_value is deprecated, use mask_token instead.\n"
     ]
    },
    {
     "name": "stdout",
     "output_type": "stream",
     "text": [
      "123/123 [==============================] - 1s 9ms/step - RMSE: 0.8021 - loss: 0.6434 - regularization_loss: 0.0000e+00 - total_loss: 0.6434\n",
      "WARNING:tensorflow:mask_value is deprecated, use mask_token instead.\n"
     ]
    },
    {
     "name": "stderr",
     "output_type": "stream",
     "text": [
      "WARNING:tensorflow:mask_value is deprecated, use mask_token instead.\n"
     ]
    },
    {
     "name": "stdout",
     "output_type": "stream",
     "text": [
      "WARNING:tensorflow:mask_value is deprecated, use mask_token instead.\n"
     ]
    },
    {
     "name": "stderr",
     "output_type": "stream",
     "text": [
      "WARNING:tensorflow:mask_value is deprecated, use mask_token instead.\n"
     ]
    },
    {
     "name": "stdout",
     "output_type": "stream",
     "text": [
      "123/123 [==============================] - 1s 9ms/step - RMSE: 0.7904 - loss: 0.6245 - regularization_loss: 0.0000e+00 - total_loss: 0.6245\n",
      "WARNING:tensorflow:mask_value is deprecated, use mask_token instead.\n"
     ]
    },
    {
     "name": "stderr",
     "output_type": "stream",
     "text": [
      "WARNING:tensorflow:mask_value is deprecated, use mask_token instead.\n"
     ]
    },
    {
     "name": "stdout",
     "output_type": "stream",
     "text": [
      "WARNING:tensorflow:mask_value is deprecated, use mask_token instead.\n"
     ]
    },
    {
     "name": "stderr",
     "output_type": "stream",
     "text": [
      "WARNING:tensorflow:mask_value is deprecated, use mask_token instead.\n"
     ]
    },
    {
     "name": "stdout",
     "output_type": "stream",
     "text": [
      "123/123 [==============================] - 2s 11ms/step - RMSE: 0.7603 - loss: 0.5793 - regularization_loss: 0.0000e+00 - total_loss: 0.5793\n"
     ]
    }
   ],
   "source": [
    "dnn_result = run_models(use_cross_layer=False,\n",
    "                        deep_layer_sizes=[192, 192, 192])"
   ]
  },
  {
   "cell_type": "code",
   "execution_count": 49,
   "id": "b32bd9c3",
   "metadata": {},
   "outputs": [
    {
     "name": "stdout",
     "output_type": "stream",
     "text": [
      "DCN            RMSE mean: 0.8195, stdv: 0.0273\n",
      "DCN (low-rank) RMSE mean: 0.8266, stdv: 0.0164\n",
      "DNN            RMSE mean: 0.7794, stdv: 0.0166\n"
     ]
    }
   ],
   "source": [
    "print(\"DCN            RMSE mean: {:.4f}, stdv: {:.4f}\".format(dcn_result[\"mean\"], dcn_result[\"stdv\"]))\n",
    "print(\"DCN (low-rank) RMSE mean: {:.4f}, stdv: {:.4f}\".format(dcn_lr_result[\"mean\"], dcn_lr_result[\"stdv\"]))\n",
    "print(\"DNN            RMSE mean: {:.4f}, stdv: {:.4f}\".format(dnn_result[\"mean\"], dnn_result[\"stdv\"]))"
   ]
  },
  {
   "cell_type": "code",
   "execution_count": 43,
   "id": "76d96ef3",
   "metadata": {},
   "outputs": [
    {
     "data": {
      "text/html": [
       "<style>.container { width:75% !important; }</style>"
      ],
      "text/plain": [
       "<IPython.core.display.HTML object>"
      ]
     },
     "metadata": {},
     "output_type": "display_data"
    }
   ],
   "source": [
    "from IPython.core.display import display, HTML\n",
    "display(HTML(\"<style>.container { width:75% !important; }</style>\"))"
   ]
  },
  {
   "cell_type": "code",
   "execution_count": null,
   "id": "7ef66c37",
   "metadata": {},
   "outputs": [],
   "source": []
  }
 ],
 "metadata": {
  "kernelspec": {
   "display_name": "Python [conda env:tfrs] *",
   "language": "python",
   "name": "conda-env-tfrs-py"
  },
  "language_info": {
   "codemirror_mode": {
    "name": "ipython",
    "version": 3
   },
   "file_extension": ".py",
   "mimetype": "text/x-python",
   "name": "python",
   "nbconvert_exporter": "python",
   "pygments_lexer": "ipython3",
   "version": "3.7.10"
  }
 },
 "nbformat": 4,
 "nbformat_minor": 5
}
