{
 "cells": [
  {
   "cell_type": "markdown",
   "id": "6163fad7",
   "metadata": {},
   "source": [
    "# TensorFlow Recommenders (TFRS) - Second Stage: Ranking\n",
    "\n",
    "![logo_small](https://user-images.githubusercontent.com/67468718/127299425-533f0a3c-c965-42a5-886a-5272170d9e0e.JPG)\n",
    "\n",
    "\n",
    "## Contents:\n",
    "\n",
    " 1. Introduction\n",
    " 2. Dataset\n",
    " 3. Sourcing and Loading\n",
    "  * Import relevant libraries\n",
    "  * preparing the dataset\n",
    " 4. Implementing a Ranking Model\n",
    "  * Loss and metrics\n",
    "  * The full model\n",
    "  * Fitting and evaluating\n",
    "  * Visualization: Total loss and RMSE over epochs\n",
    " 5. Ranking\n",
    "\n",
    "## 1. Introduction\n",
    "\n",
    "**Real-world recommender systems are often composed of two stages:**\n",
    "\n",
    " * The retrieval stage (Selects recommendation candidates): is responsible for selecting an initial set of hundreds of candidates from all possible candidates. The main objective of this model is to efficiently weed out all candidates that the user is not interested in. Because the retrieval model may be dealing with millions of candidates, it has to be computationally efficient.\n",
    "\n",
    " * The ranking stage (Selects the best candidates and rank them): takes the outputs of the retrieval model and fine-tunes them to select the best possible handful of recommendations. Its task is to narrow down the set of items the user may be interested in to a shortlist of likely candidates.\n",
    "\n",
    "\n",
    "In this Notebook, we're going to build and train such a ranking model using the Movielens dataset (1m Dataset).\n",
    "\n",
    "We're going to:\n",
    "\n",
    " * Get our data and split it into a training and test set.\n",
    " * Implement a ranking model.\n",
    " * Fit and evaluate it.\n"
   ]
  },
  {
   "cell_type": "markdown",
   "id": "9b47fa7f",
   "metadata": {},
   "source": [
    "## 2. Dataset: \n",
    "\n",
    "**Movie Lens** contains a set of movie ratings from the MovieLens website, a movie recommendation service. This dataset was collected and maintained by [GroupLens](https://grouplens.org/) , a research group at the University of Minnesota. There are 5 versions included: \"25m\", \"latest-small\", \"100k\", \"1m\", \"20m\". In all datasets, the movies data and ratings data are joined on \"movieId\". The 25m dataset, latest-small dataset, and 20m dataset contain only movie data and rating data. The 1m dataset and 100k dataset contain demographic data in addition to movie and rating data.\n",
    "\n",
    "**movie_lens/1m** can be treated in two ways:\n",
    "\n",
    "  * It can be interpreted as expressesing which movies the users watched (and rated), and which they did not. This is a form of *implicit feedback*, where users' watches tell us which things they prefer to see and which they'd rather not see (This means that every movie a user watched is a positive example, and every movie they have not seen is an implicit negative example).\n",
    "  * It can also be seen as expressesing how much the users liked the movies they did watch. This is a form of *explicit feedback*: given that a user watched a movie, we can tell roughly how much they liked by looking at the rating they have given.\n",
    "\n",
    "\n",
    "\n",
    "**[movie_lens/1m-ratings](https://www.tensorflow.org/datasets/catalog/movie_lens#movie_lens1m-ratings):**\n",
    " * Config description: This dataset contains 1,000,209 anonymous ratings of approximately 3,900 movies made by 6,040 MovieLens users who joined MovieLens. Ratings are in whole-star increments. This dataset contains demographic data of users in addition to data on movies and ratings.\n",
    " * This dataset is the largest dataset that includes demographic data from movie_lens.\n",
    " * \"user_gender\": gender of the user who made the rating; a true value corresponds to male\n",
    " * \"bucketized_user_age\": bucketized age values of the user who made the rating, the values and the corresponding ranges are:\n",
    "   * 1: \"Under 18\"\n",
    "   * 18: \"18-24\"\n",
    "   * 25: \"25-34\"\n",
    "   * 35: \"35-44\"\n",
    "   * 45: \"45-49\"\n",
    "   * 50: \"50-55\"\n",
    "   * 56: \"56+\"\n",
    " * \"user_occupation_label\": the occupation of the user who made the rating represented by an integer-encoded label; labels are preprocessed to be consistent across different versions\n",
    " * \"user_occupation_text\": the occupation of the user who made the rating in the original string; different versions can have different set of raw text labels\n",
    " * \"user_zip_code\": the zip code of the user who made the rating.\n",
    " * Download size: 5.64 MiB\n",
    " * Dataset size: 308.42 MiB\n",
    " * Auto-cached ([documentation](https://www.tensorflow.org/datasets/performances#auto-caching)): No\n",
    " * Features:\n",
    " ```\n",
    " FeaturesDict({\n",
    "               'bucketized_user_age': tf.float32,\n",
    "               'movie_genres': Sequence(ClassLabel(shape=(), dtype=tf.int64, num_classes=21)),\n",
    "               'movie_id': tf.string,\n",
    "               'movie_title': tf.string,\n",
    "               'raw_user_age': tf.float32,\n",
    "               'timestamp': tf.int64,\n",
    "               'user_gender': tf.bool,\n",
    "               'user_id': tf.string,\n",
    "               'user_occupation_label': ClassLabel(shape=(), dtype=tf.int64, num_classes=22),\n",
    "               'user_occupation_text': tf.string,\n",
    "               'user_rating': tf.float32,\n",
    "               'user_zip_code': tf.string,\n",
    "              })\n",
    " ```\n",
    "**Example:**\n",
    "\n",
    "|bucketized_user_age\t|movie_genres|\tmovie_id|\tmovie_title|\traw_user_age|\ttimestamp|\tuser_gender|\tuser_id\t|user_occupation_label|\tuser_occupation_text\t|user_rating\t|user_zip_code|\n",
    "|:----:|:----:|:----:|:----:|:----:|:----:|:----:|:----:|:----:|:----:|:----:|:----:|\n",
    "|45.0\t|7 (Drama)|b'357'\t|b\"One Flew Over the Cuckoo's Nest (1975)\"\t|46.0\t|879024327\t|True\t|b'138'\t|4 (doctor/health care)\t|b'doctor'\t|4.0|\tb'53211'|\n"
   ]
  },
  {
   "cell_type": "markdown",
   "id": "91c9b7d3",
   "metadata": {},
   "source": [
    "## 3. Sourcing and Loading\n",
    "\n",
    "### 3.1 Import relevant libraries"
   ]
  },
  {
   "cell_type": "code",
   "execution_count": 2,
   "id": "7d223838",
   "metadata": {},
   "outputs": [],
   "source": [
    "# Import the necessary Libararies: \n",
    "\n",
    "import os\n",
    "import pprint\n",
    "import tempfile\n",
    "import matplotlib.pyplot as plt\n",
    "from typing import Dict, Text\n",
    "\n",
    "import numpy as np\n",
    "import tensorflow as tf\n",
    "import tensorflow_datasets as tfds\n",
    "from typing import Dict, Text\n",
    "import pandas as pd\n",
    "import numpy as np\n",
    "\n",
    "import tensorflow as tf\n",
    "\n",
    "import tensorflow_datasets as tfds\n",
    "import tensorflow_recommenders as tfrs\n",
    "\n",
    "plt.style.use('ggplot')"
   ]
  },
  {
   "cell_type": "markdown",
   "id": "4a320a49",
   "metadata": {},
   "source": [
    "### 3.2 Preparing the dataset\n",
    "\n",
    "Let's first have a look at the data.\n",
    "\n",
    "We use the MovieLens dataset from Tensorflow Datasets. Loading **[movie_lens/1m-ratings](https://www.tensorflow.org/datasets/catalog/movie_lens#movie_lens1m-ratings)** yields a ***tf.data.Dataset*** object.\n",
    "\n",
    "Note that since the MovieLens dataset does not have predefined splits, all data are under train split."
   ]
  },
  {
   "cell_type": "code",
   "execution_count": 3,
   "id": "c49caba2",
   "metadata": {},
   "outputs": [],
   "source": [
    "# Ratings data.\n",
    "ratings = tfds.load(\"movielens/1m-ratings\", split=\"train\", shuffle_files=True)\n"
   ]
  },
  {
   "cell_type": "code",
   "execution_count": 4,
   "id": "8920e803",
   "metadata": {},
   "outputs": [
    {
     "name": "stdout",
     "output_type": "stream",
     "text": [
      "{'bucketized_user_age': 18.0,\n",
      " 'movie_genres': array([0], dtype=int64),\n",
      " 'movie_id': b'3635',\n",
      " 'movie_title': b'Spy Who Loved Me, The (1977)',\n",
      " 'timestamp': 961180111,\n",
      " 'user_gender': True,\n",
      " 'user_id': b'5264',\n",
      " 'user_occupation_label': 17,\n",
      " 'user_occupation_text': b'college/grad student',\n",
      " 'user_rating': 4.0,\n",
      " 'user_zip_code': b'15217'}\n"
     ]
    }
   ],
   "source": [
    "#The ratings dataset returns a dictionary of movie id, user id, the assigned rating, timestamp, movie information, and user information:\n",
    "#View the data from ratings dataset:\n",
    "for x in ratings.take(1).as_numpy_iterator():\n",
    "    pprint.pprint(x)"
   ]
  },
  {
   "cell_type": "code",
   "execution_count": 6,
   "id": "8399463b",
   "metadata": {},
   "outputs": [
    {
     "data": {
      "text/plain": [
       "tensorflow.python.data.ops.dataset_ops._OptionsDataset"
      ]
     },
     "execution_count": 6,
     "metadata": {},
     "output_type": "execute_result"
    }
   ],
   "source": [
    "type(ratings)"
   ]
  },
  {
   "cell_type": "markdown",
   "id": "03f9ffa4",
   "metadata": {},
   "source": [
    "Next, As you can see below, in the map function, the ratings are considered explicit feedback since we can tell roughly how much the users like the movies based on the rating numbers."
   ]
  },
  {
   "cell_type": "code",
   "execution_count": 7,
   "id": "e673da2d",
   "metadata": {},
   "outputs": [],
   "source": [
    "#Let's select the necessary attributes:\n",
    "\n",
    "ratings = ratings.map(lambda x: {\n",
    "                                 \"movie_title\": x[\"movie_title\"],\n",
    "                                 \"user_id\": x[\"user_id\"],\n",
    "                                 \"user_rating\": x[\"user_rating\"]\n",
    "                                })\n",
    "\n"
   ]
  },
  {
   "cell_type": "code",
   "execution_count": 8,
   "id": "9b06d312",
   "metadata": {},
   "outputs": [
    {
     "data": {
      "text/plain": [
       "1000209"
      ]
     },
     "execution_count": 8,
     "metadata": {},
     "output_type": "execute_result"
    }
   ],
   "source": [
    "len(ratings)"
   ]
  },
  {
   "cell_type": "code",
   "execution_count": 9,
   "id": "ae885400",
   "metadata": {},
   "outputs": [],
   "source": [
    "# let's use a random split, putting 75% of the ratings in the train set, and 25% in the test set:\n",
    "# Assign a seed=42 for consistency of results and reproducibility:\n",
    "seed = 42\n",
    "l = len(ratings)\n",
    "\n",
    "tf.random.set_seed(seed)\n",
    "shuffled = ratings.shuffle(l, seed=seed, reshuffle_each_iteration=False)\n",
    "\n",
    "#Save 75% of the data for training and 25% for testing:\n",
    "train_ = int(0.75 * l)\n",
    "test_ = int(0.25 * l)\n",
    "\n",
    "train = shuffled.take(train_)\n",
    "test = shuffled.skip(train_).take(test_)"
   ]
  },
  {
   "cell_type": "code",
   "execution_count": 10,
   "id": "f5e10ac0",
   "metadata": {},
   "outputs": [
    {
     "data": {
      "text/plain": [
       "array([b'$1,000,000 Duck (1971)', b\"'Night Mother (1986)\",\n",
       "       b\"'Til There Was You (1997)\", b\"'burbs, The (1989)\",\n",
       "       b'...And Justice for All (1979)', b'1-900 (1994)',\n",
       "       b'10 Things I Hate About You (1999)', b'101 Dalmatians (1961)',\n",
       "       b'101 Dalmatians (1996)', b'12 Angry Men (1957)'], dtype=object)"
      ]
     },
     "execution_count": 10,
     "metadata": {},
     "output_type": "execute_result"
    }
   ],
   "source": [
    "# Now, let's find out how many uniques users/movies:\n",
    "movie_titles = ratings.batch(l).map(lambda x: x[\"movie_title\"])\n",
    "user_ids = ratings.batch(l).map(lambda x: x[\"user_id\"])\n",
    "\n",
    "#Movies uniques:\n",
    "unique_movie_titles = np.unique(np.concatenate(list(movie_titles)))\n",
    "\n",
    "#users unique\n",
    "unique_user_ids = np.unique(np.concatenate(list(user_ids)))\n",
    "\n",
    "# take a look at the movies:\n",
    "unique_movie_titles[:10]"
   ]
  },
  {
   "cell_type": "code",
   "execution_count": 11,
   "id": "14a83098",
   "metadata": {},
   "outputs": [
    {
     "name": "stdout",
     "output_type": "stream",
     "text": [
      "3706\n"
     ]
    }
   ],
   "source": [
    "#Movies uniques\n",
    "len_films = len(unique_movie_titles)\n",
    "print(len_films) "
   ]
  },
  {
   "cell_type": "code",
   "execution_count": 12,
   "id": "9461b1ce",
   "metadata": {},
   "outputs": [
    {
     "name": "stdout",
     "output_type": "stream",
     "text": [
      "6040\n"
     ]
    }
   ],
   "source": [
    "#users unique\n",
    "len_users = len(unique_user_ids)\n",
    "print(len_users) "
   ]
  },
  {
   "cell_type": "markdown",
   "id": "ad00ee90",
   "metadata": {},
   "source": [
    "## 4. Implementing a Ranking Model:\n",
    "\n",
    "Ranking models do not face the same efficiency constraints as retrieval models do, and so we have a little bit more freedom in our choice of architectures.\n",
    "\n",
    "A model composed of multiple stacked dense layers is a relatively common architecture for ranking tasks. We can implement it as follows:"
   ]
  },
  {
   "cell_type": "code",
   "execution_count": 14,
   "id": "f1637802",
   "metadata": {},
   "outputs": [],
   "source": [
    "class RankingModel(tf.keras.Model):\n",
    "\n",
    "    def __init__(self):\n",
    "        super().__init__()\n",
    "        #Higher values will correspond to models that may be more accurate, but will also be slower to fit and more prone to overfitting:\n",
    "        embedding_dimension = 64\n",
    "\n",
    "        # Compute embeddings for users.\n",
    "        self.user_embeddings = tf.keras.Sequential([\n",
    "                               tf.keras.layers.experimental.preprocessing.StringLookup(\n",
    "                               vocabulary=unique_user_ids, mask_token=None),\n",
    "                               tf.keras.layers.Embedding(len(unique_user_ids) + 1, embedding_dimension)\n",
    "                                                  ])\n",
    "\n",
    "        # Compute embeddings for movies.\n",
    "        self.movie_embeddings = tf.keras.Sequential([\n",
    "                                tf.keras.layers.experimental.preprocessing.StringLookup(\n",
    "                                vocabulary=unique_movie_titles, mask_token=None),\n",
    "                                tf.keras.layers.Embedding(len(unique_movie_titles) + 1, embedding_dimension)\n",
    "                                                   ])\n",
    "\n",
    "        # Compute predictions.\n",
    "        self.ratings = tf.keras.Sequential([\n",
    "                                          # Learn multiple dense layers.\n",
    "                                          tf.keras.layers.Dense(256, activation=\"relu\"),\n",
    "                                          tf.keras.layers.Dense(64, activation=\"relu\"),\n",
    "                                          # Make rating predictions in the final layer.\n",
    "                                          tf.keras.layers.Dense(1)\n",
    "                                          ])\n",
    "\n",
    "    def call(self, inputs):\n",
    "\n",
    "        user_id, movie_title = inputs\n",
    "\n",
    "        user_embedding = self.user_embeddings(user_id)\n",
    "        movie_embedding = self.movie_embeddings(movie_title)\n",
    "\n",
    "        return self.ratings(tf.concat([user_embedding, movie_embedding], axis=1))"
   ]
  },
  {
   "cell_type": "markdown",
   "id": "b653e877",
   "metadata": {},
   "source": [
    "This model takes user ids and movie titles, and outputs a predicted rating:"
   ]
  },
  {
   "cell_type": "code",
   "execution_count": 21,
   "id": "71481f89",
   "metadata": {},
   "outputs": [
    {
     "name": "stdout",
     "output_type": "stream",
     "text": [
      "WARNING:tensorflow:Layers in a Sequential model should only have a single input tensor, but we receive a <class 'list'> input: ['42']\n",
      "Consider rewriting this model with the Functional API.\n"
     ]
    },
    {
     "name": "stderr",
     "output_type": "stream",
     "text": [
      "WARNING:tensorflow:Layers in a Sequential model should only have a single input tensor, but we receive a <class 'list'> input: ['42']\n",
      "Consider rewriting this model with the Functional API.\n"
     ]
    },
    {
     "name": "stdout",
     "output_type": "stream",
     "text": [
      "WARNING:tensorflow:Layers in a Sequential model should only have a single input tensor, but we receive a <class 'list'> input: ['7th Voyage of Sinbad, The (1958)']\n",
      "Consider rewriting this model with the Functional API.\n"
     ]
    },
    {
     "name": "stderr",
     "output_type": "stream",
     "text": [
      "WARNING:tensorflow:Layers in a Sequential model should only have a single input tensor, but we receive a <class 'list'> input: ['7th Voyage of Sinbad, The (1958)']\n",
      "Consider rewriting this model with the Functional API.\n"
     ]
    },
    {
     "data": {
      "text/plain": [
       "<tf.Tensor: shape=(1, 1), dtype=float32, numpy=array([[0.03309965]], dtype=float32)>"
      ]
     },
     "execution_count": 21,
     "metadata": {},
     "output_type": "execute_result"
    }
   ],
   "source": [
    "RankingModel()(([\"42\"], [\"7th Voyage of Sinbad, The (1958)\"]))\n"
   ]
  },
  {
   "cell_type": "markdown",
   "id": "910ba5f7",
   "metadata": {},
   "source": [
    "Overall, our ranking model takes in a user ID and a movie title and outputs a predicted rating. As we can see above, using our untrained model, user 42 is predicted to give \"7th Voyage of Sinbad, The (1958)\" a rating of 0.033. "
   ]
  },
  {
   "cell_type": "markdown",
   "id": "0e530cb0",
   "metadata": {},
   "source": [
    "### 4.1 Loss and metrics:\n",
    "\n",
    "The next component is the loss used to train our model. TFRS has several loss layers and tasks to make this easy.\n",
    "\n",
    "In this instance, we'll make use of the **Ranking** task object: a convenience wrapper that bundles together the loss function and metric computation.\n",
    "\n",
    "We'll use it together with the **MeanSquaredError** Keras loss in order to predict the ratings.\n"
   ]
  },
  {
   "cell_type": "code",
   "execution_count": 22,
   "id": "6640f327",
   "metadata": {},
   "outputs": [],
   "source": [
    "task = tfrs.tasks.Ranking(\n",
    "                         loss = tf.keras.losses.MeanSquaredError(),\n",
    "                         metrics=[tf.keras.metrics.RootMeanSquaredError()]\n",
    "                         )"
   ]
  },
  {
   "cell_type": "markdown",
   "id": "27b329cd",
   "metadata": {},
   "source": [
    "The task itself is a Keras layer that takes true and predicted as arguments, and returns the computed loss. We'll use that to implement the model's training loop."
   ]
  },
  {
   "cell_type": "markdown",
   "id": "8f5fbc41",
   "metadata": {},
   "source": [
    "### 4.2 The full model\n",
    "\n",
    "We can now put it all together into a model. TFRS exposes a base model class [(tfrs.models.Model)](https://www.tensorflow.org/recommenders/api_docs/python/tfrs/models/Model) which streamlines bulding models: all we need to do is to set up the components in the __init__ method, and implement the compute_loss method, taking in the raw features and returning a loss value.\n",
    "\n",
    "The base model will then take care of creating the appropriate training loop to fit our model\n",
    "\n"
   ]
  },
  {
   "cell_type": "code",
   "execution_count": 23,
   "id": "4bee6877",
   "metadata": {},
   "outputs": [],
   "source": [
    "class MovielensModel(tfrs.models.Model):\n",
    "\n",
    "    def __init__(self):\n",
    "        super().__init__()\n",
    "        self.ranking_model: tf.keras.Model = RankingModel()\n",
    "        self.task: tf.keras.layers.Layer = tfrs.tasks.Ranking(\n",
    "                                                              loss = tf.keras.losses.MeanSquaredError(),\n",
    "                                                               metrics=[tf.keras.metrics.RootMeanSquaredError()]\n",
    "                                                              )\n",
    "\n",
    "    def compute_loss(self, features: Dict[Text, tf.Tensor], training=False) -> tf.Tensor:\n",
    "        rating_predictions = self.ranking_model((features[\"user_id\"], features[\"movie_title\"]))\n",
    "\n",
    "        # The task computes the loss and the metrics.\n",
    "        return self.task(labels=features[\"user_rating\"], predictions=rating_predictions)"
   ]
  },
  {
   "cell_type": "markdown",
   "id": "860617ea",
   "metadata": {},
   "source": [
    "### 4.3 Fitting and evaluating\n",
    "\n",
    "After defining the model, we can use standard Keras fitting and evaluation routines to fit and evaluate the model.\n",
    "\n",
    "**Adagrad** is an algorithm for gradient-based optimization that does just this: It adapts the learning rate to the parameters, performing smaller updates\n",
    "(i.e. low learning rates) for parameters associated with frequently occurring features, and larger updates (i.e. high learning rates) for parameters associated with infrequent features. **For this reason, it is well-suited for dealing with sparse data.**\n",
    "\n",
    "Let's first instantiate the model."
   ]
  },
  {
   "cell_type": "code",
   "execution_count": 24,
   "id": "a13e3455",
   "metadata": {},
   "outputs": [],
   "source": [
    "#Let's first instantiate the model.\n",
    "model = MovielensModel()\n",
    "model.compile(optimizer=tf.keras.optimizers.Adagrad(learning_rate=0.1)) #defauly learning_rate=0.001"
   ]
  },
  {
   "cell_type": "code",
   "execution_count": 25,
   "id": "2aa6d856",
   "metadata": {},
   "outputs": [],
   "source": [
    "# Then shuffle, batch, and cache the training and evaluation data:\n",
    "# Segment the batches so that the model runs 13 training batches (2^13) and 11 test batches (2^11) per epoch, \n",
    "# while having a batch size which is a multiple of 2^n.\n",
    "cached_train = train.shuffle(l).batch(8192).cache()\n",
    "cached_test = test.batch(2048).cache()"
   ]
  },
  {
   "cell_type": "code",
   "execution_count": 26,
   "id": "a0b462c2",
   "metadata": {
    "scrolled": true
   },
   "outputs": [
    {
     "name": "stdout",
     "output_type": "stream",
     "text": [
      "Epoch 1/32\n",
      "92/92 [==============================] - 37s 229ms/step - root_mean_squared_error: 1.2459 - loss: 1.5447 - regularization_loss: 0.0000e+00 - total_loss: 1.5447 - val_root_mean_squared_error: 1.0400 - val_loss: 1.1069 - val_regularization_loss: 0.0000e+00 - val_total_loss: 1.1069\n",
      "Epoch 2/32\n",
      "92/92 [==============================] - 5s 51ms/step - root_mean_squared_error: 0.9934 - loss: 0.9851 - regularization_loss: 0.0000e+00 - total_loss: 0.9851 - val_root_mean_squared_error: 0.9506 - val_loss: 0.9040 - val_regularization_loss: 0.0000e+00 - val_total_loss: 0.9040\n",
      "Epoch 3/32\n",
      "92/92 [==============================] - 5s 51ms/step - root_mean_squared_error: 0.9400 - loss: 0.8827 - regularization_loss: 0.0000e+00 - total_loss: 0.8827 - val_root_mean_squared_error: 0.9235 - val_loss: 0.8370 - val_regularization_loss: 0.0000e+00 - val_total_loss: 0.8370\n",
      "Epoch 4/32\n",
      "92/92 [==============================] - 5s 50ms/step - root_mean_squared_error: 0.9209 - loss: 0.8473 - regularization_loss: 0.0000e+00 - total_loss: 0.8473 - val_root_mean_squared_error: 0.9128 - val_loss: 0.7955 - val_regularization_loss: 0.0000e+00 - val_total_loss: 0.7955\n",
      "Epoch 5/32\n",
      "92/92 [==============================] - 5s 50ms/step - root_mean_squared_error: 0.9136 - loss: 0.8341 - regularization_loss: 0.0000e+00 - total_loss: 0.8341 - val_root_mean_squared_error: 0.9077 - val_loss: 0.7745 - val_regularization_loss: 0.0000e+00 - val_total_loss: 0.7745\n",
      "Epoch 6/32\n",
      "92/92 [==============================] - 5s 50ms/step - root_mean_squared_error: 0.9092 - loss: 0.8261 - regularization_loss: 0.0000e+00 - total_loss: 0.8261 - val_root_mean_squared_error: 0.9049 - val_loss: 0.7623 - val_regularization_loss: 0.0000e+00 - val_total_loss: 0.7623\n",
      "Epoch 7/32\n",
      "92/92 [==============================] - 5s 50ms/step - root_mean_squared_error: 0.9068 - loss: 0.8218 - regularization_loss: 0.0000e+00 - total_loss: 0.8218 - val_root_mean_squared_error: 0.9032 - val_loss: 0.7542 - val_regularization_loss: 0.0000e+00 - val_total_loss: 0.7542\n",
      "Epoch 8/32\n",
      "92/92 [==============================] - 5s 51ms/step - root_mean_squared_error: 0.9053 - loss: 0.8190 - regularization_loss: 0.0000e+00 - total_loss: 0.8190 - val_root_mean_squared_error: 0.9021 - val_loss: 0.7486 - val_regularization_loss: 0.0000e+00 - val_total_loss: 0.7486\n",
      "Epoch 9/32\n",
      "92/92 [==============================] - 5s 51ms/step - root_mean_squared_error: 0.9042 - loss: 0.8170 - regularization_loss: 0.0000e+00 - total_loss: 0.8170 - val_root_mean_squared_error: 0.9014 - val_loss: 0.7443 - val_regularization_loss: 0.0000e+00 - val_total_loss: 0.7443\n",
      "Epoch 10/32\n",
      "92/92 [==============================] - 6s 67ms/step - root_mean_squared_error: 0.9034 - loss: 0.8156 - regularization_loss: 0.0000e+00 - total_loss: 0.8156 - val_root_mean_squared_error: 0.9008 - val_loss: 0.7409 - val_regularization_loss: 0.0000e+00 - val_total_loss: 0.7409\n",
      "Epoch 11/32\n",
      "92/92 [==============================] - 7s 79ms/step - root_mean_squared_error: 0.9028 - loss: 0.8146 - regularization_loss: 0.0000e+00 - total_loss: 0.8146 - val_root_mean_squared_error: 0.9004 - val_loss: 0.7382 - val_regularization_loss: 0.0000e+00 - val_total_loss: 0.7382\n",
      "Epoch 12/32\n",
      "92/92 [==============================] - 7s 76ms/step - root_mean_squared_error: 0.9023 - loss: 0.8137 - regularization_loss: 0.0000e+00 - total_loss: 0.8137 - val_root_mean_squared_error: 0.9000 - val_loss: 0.7359 - val_regularization_loss: 0.0000e+00 - val_total_loss: 0.7359\n",
      "Epoch 13/32\n",
      "92/92 [==============================] - 7s 80ms/step - root_mean_squared_error: 0.9019 - loss: 0.8129 - regularization_loss: 0.0000e+00 - total_loss: 0.8129 - val_root_mean_squared_error: 0.8997 - val_loss: 0.7342 - val_regularization_loss: 0.0000e+00 - val_total_loss: 0.7342\n",
      "Epoch 14/32\n",
      "92/92 [==============================] - 8s 87ms/step - root_mean_squared_error: 0.9015 - loss: 0.8122 - regularization_loss: 0.0000e+00 - total_loss: 0.8122 - val_root_mean_squared_error: 0.8993 - val_loss: 0.7325 - val_regularization_loss: 0.0000e+00 - val_total_loss: 0.7325\n",
      "Epoch 15/32\n",
      "92/92 [==============================] - 8s 83ms/step - root_mean_squared_error: 0.9012 - loss: 0.8115 - regularization_loss: 0.0000e+00 - total_loss: 0.8115 - val_root_mean_squared_error: 0.8990 - val_loss: 0.7309 - val_regularization_loss: 0.0000e+00 - val_total_loss: 0.7309\n",
      "Epoch 16/32\n",
      "92/92 [==============================] - 8s 86ms/step - root_mean_squared_error: 0.9008 - loss: 0.8109 - regularization_loss: 0.0000e+00 - total_loss: 0.8109 - val_root_mean_squared_error: 0.8987 - val_loss: 0.7294 - val_regularization_loss: 0.0000e+00 - val_total_loss: 0.7294\n",
      "Epoch 17/32\n",
      "92/92 [==============================] - 8s 86ms/step - root_mean_squared_error: 0.9005 - loss: 0.8103 - regularization_loss: 0.0000e+00 - total_loss: 0.8103 - val_root_mean_squared_error: 0.8985 - val_loss: 0.7281 - val_regularization_loss: 0.0000e+00 - val_total_loss: 0.7281\n",
      "Epoch 18/32\n",
      "92/92 [==============================] - 8s 91ms/step - root_mean_squared_error: 0.9001 - loss: 0.8097 - regularization_loss: 0.0000e+00 - total_loss: 0.8097 - val_root_mean_squared_error: 0.8981 - val_loss: 0.7268 - val_regularization_loss: 0.0000e+00 - val_total_loss: 0.7268\n",
      "Epoch 19/32\n",
      "92/92 [==============================] - 8s 92ms/step - root_mean_squared_error: 0.8998 - loss: 0.8090 - regularization_loss: 0.0000e+00 - total_loss: 0.8090 - val_root_mean_squared_error: 0.8978 - val_loss: 0.7253 - val_regularization_loss: 0.0000e+00 - val_total_loss: 0.7253\n",
      "Epoch 20/32\n",
      "92/92 [==============================] - 8s 87ms/step - root_mean_squared_error: 0.8994 - loss: 0.8084 - regularization_loss: 0.0000e+00 - total_loss: 0.8084 - val_root_mean_squared_error: 0.8975 - val_loss: 0.7238 - val_regularization_loss: 0.0000e+00 - val_total_loss: 0.7238\n",
      "Epoch 21/32\n",
      "92/92 [==============================] - 8s 90ms/step - root_mean_squared_error: 0.8991 - loss: 0.8078 - regularization_loss: 0.0000e+00 - total_loss: 0.8078 - val_root_mean_squared_error: 0.8972 - val_loss: 0.7221 - val_regularization_loss: 0.0000e+00 - val_total_loss: 0.7221\n",
      "Epoch 22/32\n",
      "92/92 [==============================] - 9s 95ms/step - root_mean_squared_error: 0.8987 - loss: 0.8072 - regularization_loss: 0.0000e+00 - total_loss: 0.8072 - val_root_mean_squared_error: 0.8968 - val_loss: 0.7208 - val_regularization_loss: 0.0000e+00 - val_total_loss: 0.7208\n",
      "Epoch 23/32\n",
      "92/92 [==============================] - 9s 94ms/step - root_mean_squared_error: 0.8984 - loss: 0.8065 - regularization_loss: 0.0000e+00 - total_loss: 0.8065 - val_root_mean_squared_error: 0.8965 - val_loss: 0.7194 - val_regularization_loss: 0.0000e+00 - val_total_loss: 0.7194\n",
      "Epoch 24/32\n",
      "92/92 [==============================] - 9s 95ms/step - root_mean_squared_error: 0.8980 - loss: 0.8059 - regularization_loss: 0.0000e+00 - total_loss: 0.8059 - val_root_mean_squared_error: 0.8961 - val_loss: 0.7177 - val_regularization_loss: 0.0000e+00 - val_total_loss: 0.7177\n",
      "Epoch 25/32\n",
      "92/92 [==============================] - 9s 96ms/step - root_mean_squared_error: 0.8977 - loss: 0.8053 - regularization_loss: 0.0000e+00 - total_loss: 0.8053 - val_root_mean_squared_error: 0.8957 - val_loss: 0.7161 - val_regularization_loss: 0.0000e+00 - val_total_loss: 0.7161\n",
      "Epoch 26/32\n",
      "92/92 [==============================] - 9s 100ms/step - root_mean_squared_error: 0.8974 - loss: 0.8047 - regularization_loss: 0.0000e+00 - total_loss: 0.8047 - val_root_mean_squared_error: 0.8953 - val_loss: 0.7145 - val_regularization_loss: 0.0000e+00 - val_total_loss: 0.7145\n",
      "Epoch 27/32\n",
      "92/92 [==============================] - 9s 98ms/step - root_mean_squared_error: 0.8970 - loss: 0.8041 - regularization_loss: 0.0000e+00 - total_loss: 0.8041 - val_root_mean_squared_error: 0.8948 - val_loss: 0.7131 - val_regularization_loss: 0.0000e+00 - val_total_loss: 0.7131\n",
      "Epoch 28/32\n",
      "92/92 [==============================] - 9s 100ms/step - root_mean_squared_error: 0.8967 - loss: 0.8034 - regularization_loss: 0.0000e+00 - total_loss: 0.8034 - val_root_mean_squared_error: 0.8944 - val_loss: 0.7120 - val_regularization_loss: 0.0000e+00 - val_total_loss: 0.7120\n",
      "Epoch 29/32\n"
     ]
    },
    {
     "name": "stdout",
     "output_type": "stream",
     "text": [
      "92/92 [==============================] - 9s 99ms/step - root_mean_squared_error: 0.8963 - loss: 0.8027 - regularization_loss: 0.0000e+00 - total_loss: 0.8027 - val_root_mean_squared_error: 0.8938 - val_loss: 0.7114 - val_regularization_loss: 0.0000e+00 - val_total_loss: 0.7114\n",
      "Epoch 30/32\n",
      "92/92 [==============================] - 9s 103ms/step - root_mean_squared_error: 0.8958 - loss: 0.8019 - regularization_loss: 0.0000e+00 - total_loss: 0.8019 - val_root_mean_squared_error: 0.8932 - val_loss: 0.7105 - val_regularization_loss: 0.0000e+00 - val_total_loss: 0.7105\n",
      "Epoch 31/32\n",
      "92/92 [==============================] - 9s 99ms/step - root_mean_squared_error: 0.8953 - loss: 0.8010 - regularization_loss: 0.0000e+00 - total_loss: 0.8010 - val_root_mean_squared_error: 0.8925 - val_loss: 0.7103 - val_regularization_loss: 0.0000e+00 - val_total_loss: 0.7103\n",
      "Epoch 32/32\n",
      "92/92 [==============================] - 9s 100ms/step - root_mean_squared_error: 0.8947 - loss: 0.7998 - regularization_loss: 0.0000e+00 - total_loss: 0.7998 - val_root_mean_squared_error: 0.8917 - val_loss: 0.7099 - val_regularization_loss: 0.0000e+00 - val_total_loss: 0.7099\n"
     ]
    }
   ],
   "source": [
    "# Then, let's train the model:\n",
    "history_train = model.fit(cached_train, validation_data = cached_test, epochs=32)"
   ]
  },
  {
   "cell_type": "markdown",
   "id": "fc8d828e",
   "metadata": {},
   "source": [
    "Now, we can compile and train the model using the fit method. You can see that the loss is falling and the RMSE metric is improving."
   ]
  },
  {
   "cell_type": "markdown",
   "id": "328140da",
   "metadata": {},
   "source": [
    "### 4.4 Visualization: Total loss and RMSE over epochs"
   ]
  },
  {
   "cell_type": "code",
   "execution_count": 32,
   "id": "54580136",
   "metadata": {},
   "outputs": [
    {
     "data": {
      "image/png": "[encoded data removed]",
      "text/plain": [
       "<Figure size 1152x432 with 1 Axes>"
      ]
     },
     "metadata": {},
     "output_type": "display_data"
    }
   ],
   "source": [
    "plt.subplots(figsize = (16,6))\n",
    "plt.plot(history_train.history['total_loss'],color='red', alpha=0.8, label='loss')\n",
    "plt.plot(history_train.history['root_mean_squared_error'],color='green', alpha=0.8, label='RMSE')\n",
    "plt.title(\"Total Loss vs RMSE over epochs\", fontsize=14)\n",
    "#plt.ylabel('Loss Total')\n",
    "plt.xlabel('epochs')\n",
    "plt.legend(loc='upper right')\n",
    "plt.show()\n"
   ]
  },
  {
   "cell_type": "code",
   "execution_count": 33,
   "id": "78533902",
   "metadata": {},
   "outputs": [
    {
     "name": "stdout",
     "output_type": "stream",
     "text": [
      "123/123 [==============================] - 1s 5ms/step - root_mean_squared_error: 0.8917 - loss: 0.7939 - regularization_loss: 0.0000e+00 - total_loss: 0.7939\n"
     ]
    },
    {
     "data": {
      "text/plain": [
       "{'root_mean_squared_error': 0.8917417526245117,\n",
       " 'loss': 0.7098668813705444,\n",
       " 'regularization_loss': 0,\n",
       " 'total_loss': 0.7098668813705444}"
      ]
     },
     "execution_count": 33,
     "metadata": {},
     "output_type": "execute_result"
    }
   ],
   "source": [
    "#Evaluate the model\n",
    "model.evaluate(cached_test, return_dict=True)"
   ]
  },
  {
   "cell_type": "markdown",
   "id": "97613c1a",
   "metadata": {},
   "source": [
    "The lower the RMSE metric, the more accurate our model is at predicting ratings."
   ]
  },
  {
   "cell_type": "markdown",
   "id": "e50078e1",
   "metadata": {},
   "source": [
    "## 5. Ranking\n",
    "\n",
    "Finally, let's take five movies from the test sets and see how user number \"42\" would rank them:"
   ]
  },
  {
   "cell_type": "code",
   "execution_count": 34,
   "id": "1bd63c3a",
   "metadata": {},
   "outputs": [
    {
     "name": "stdout",
     "output_type": "stream",
     "text": [
      "WARNING:tensorflow:Layers in a Sequential model should only have a single input tensor, but we receive a <class 'list'> input: ['42']\n",
      "Consider rewriting this model with the Functional API.\n"
     ]
    },
    {
     "name": "stderr",
     "output_type": "stream",
     "text": [
      "WARNING:tensorflow:Layers in a Sequential model should only have a single input tensor, but we receive a <class 'list'> input: ['42']\n",
      "Consider rewriting this model with the Functional API.\n"
     ]
    },
    {
     "name": "stdout",
     "output_type": "stream",
     "text": [
      "WARNING:tensorflow:Layers in a Sequential model should only have a single input tensor, but we receive a <class 'list'> input: [<tf.Tensor: shape=(), dtype=string, numpy=b'Sunset Blvd. (a.k.a. Sunset Boulevard) (1950)'>]\n",
      "Consider rewriting this model with the Functional API.\n"
     ]
    },
    {
     "name": "stderr",
     "output_type": "stream",
     "text": [
      "WARNING:tensorflow:Layers in a Sequential model should only have a single input tensor, but we receive a <class 'list'> input: [<tf.Tensor: shape=(), dtype=string, numpy=b'Sunset Blvd. (a.k.a. Sunset Boulevard) (1950)'>]\n",
      "Consider rewriting this model with the Functional API.\n"
     ]
    },
    {
     "name": "stdout",
     "output_type": "stream",
     "text": [
      "WARNING:tensorflow:Layers in a Sequential model should only have a single input tensor, but we receive a <class 'list'> input: ['42']\n",
      "Consider rewriting this model with the Functional API.\n"
     ]
    },
    {
     "name": "stderr",
     "output_type": "stream",
     "text": [
      "WARNING:tensorflow:Layers in a Sequential model should only have a single input tensor, but we receive a <class 'list'> input: ['42']\n",
      "Consider rewriting this model with the Functional API.\n"
     ]
    },
    {
     "name": "stdout",
     "output_type": "stream",
     "text": [
      "WARNING:tensorflow:Layers in a Sequential model should only have a single input tensor, but we receive a <class 'list'> input: [<tf.Tensor: shape=(), dtype=string, numpy=b'Untouchables, The (1987)'>]\n",
      "Consider rewriting this model with the Functional API.\n"
     ]
    },
    {
     "name": "stderr",
     "output_type": "stream",
     "text": [
      "WARNING:tensorflow:Layers in a Sequential model should only have a single input tensor, but we receive a <class 'list'> input: [<tf.Tensor: shape=(), dtype=string, numpy=b'Untouchables, The (1987)'>]\n",
      "Consider rewriting this model with the Functional API.\n"
     ]
    },
    {
     "name": "stdout",
     "output_type": "stream",
     "text": [
      "WARNING:tensorflow:Layers in a Sequential model should only have a single input tensor, but we receive a <class 'list'> input: ['42']\n",
      "Consider rewriting this model with the Functional API.\n"
     ]
    },
    {
     "name": "stderr",
     "output_type": "stream",
     "text": [
      "WARNING:tensorflow:Layers in a Sequential model should only have a single input tensor, but we receive a <class 'list'> input: ['42']\n",
      "Consider rewriting this model with the Functional API.\n"
     ]
    },
    {
     "name": "stdout",
     "output_type": "stream",
     "text": [
      "WARNING:tensorflow:Layers in a Sequential model should only have a single input tensor, but we receive a <class 'list'> input: [<tf.Tensor: shape=(), dtype=string, numpy=b'Star Wars: Episode IV - A New Hope (1977)'>]\n",
      "Consider rewriting this model with the Functional API.\n"
     ]
    },
    {
     "name": "stderr",
     "output_type": "stream",
     "text": [
      "WARNING:tensorflow:Layers in a Sequential model should only have a single input tensor, but we receive a <class 'list'> input: [<tf.Tensor: shape=(), dtype=string, numpy=b'Star Wars: Episode IV - A New Hope (1977)'>]\n",
      "Consider rewriting this model with the Functional API.\n"
     ]
    },
    {
     "name": "stdout",
     "output_type": "stream",
     "text": [
      "WARNING:tensorflow:Layers in a Sequential model should only have a single input tensor, but we receive a <class 'list'> input: ['42']\n",
      "Consider rewriting this model with the Functional API.\n"
     ]
    },
    {
     "name": "stderr",
     "output_type": "stream",
     "text": [
      "WARNING:tensorflow:Layers in a Sequential model should only have a single input tensor, but we receive a <class 'list'> input: ['42']\n",
      "Consider rewriting this model with the Functional API.\n"
     ]
    },
    {
     "name": "stdout",
     "output_type": "stream",
     "text": [
      "WARNING:tensorflow:Layers in a Sequential model should only have a single input tensor, but we receive a <class 'list'> input: [<tf.Tensor: shape=(), dtype=string, numpy=b\"Muriel's Wedding (1994)\">]\n",
      "Consider rewriting this model with the Functional API.\n"
     ]
    },
    {
     "name": "stderr",
     "output_type": "stream",
     "text": [
      "WARNING:tensorflow:Layers in a Sequential model should only have a single input tensor, but we receive a <class 'list'> input: [<tf.Tensor: shape=(), dtype=string, numpy=b\"Muriel's Wedding (1994)\">]\n",
      "Consider rewriting this model with the Functional API.\n"
     ]
    },
    {
     "name": "stdout",
     "output_type": "stream",
     "text": [
      "WARNING:tensorflow:Layers in a Sequential model should only have a single input tensor, but we receive a <class 'list'> input: ['42']\n",
      "Consider rewriting this model with the Functional API.\n"
     ]
    },
    {
     "name": "stderr",
     "output_type": "stream",
     "text": [
      "WARNING:tensorflow:Layers in a Sequential model should only have a single input tensor, but we receive a <class 'list'> input: ['42']\n",
      "Consider rewriting this model with the Functional API.\n"
     ]
    },
    {
     "name": "stdout",
     "output_type": "stream",
     "text": [
      "WARNING:tensorflow:Layers in a Sequential model should only have a single input tensor, but we receive a <class 'list'> input: [<tf.Tensor: shape=(), dtype=string, numpy=b'Dracula (1958)'>]\n",
      "Consider rewriting this model with the Functional API.\n"
     ]
    },
    {
     "name": "stderr",
     "output_type": "stream",
     "text": [
      "WARNING:tensorflow:Layers in a Sequential model should only have a single input tensor, but we receive a <class 'list'> input: [<tf.Tensor: shape=(), dtype=string, numpy=b'Dracula (1958)'>]\n",
      "Consider rewriting this model with the Functional API.\n"
     ]
    },
    {
     "name": "stdout",
     "output_type": "stream",
     "text": [
      "b'Dracula (1958)'\n",
      "b'Untouchables, The (1987)'\n",
      "b'Sunset Blvd. (a.k.a. Sunset Boulevard) (1950)'\n",
      "b'Star Wars: Episode IV - A New Hope (1977)'\n",
      "b\"Muriel's Wedding (1994)\"\n"
     ]
    }
   ],
   "source": [
    "test_ratings ={}\n",
    "\n",
    "for m in test.take(5):\n",
    "    test_ratings[m[\"movie_title\"].numpy()] = RankingModel()(([\"42\"], [m[\"movie_title\"]]))\n",
    "    \n",
    "for m in sorted(test_ratings, key=test_ratings.get, reverse=True):\n",
    "    print(m)"
   ]
  },
  {
   "cell_type": "markdown",
   "id": "866b16cc",
   "metadata": {},
   "source": [
    "As we can see above, we managed to get the predicted ratings for those five movies, and then we sort them in descending order."
   ]
  },
  {
   "cell_type": "code",
   "execution_count": 13,
   "id": "76d96ef3",
   "metadata": {},
   "outputs": [
    {
     "data": {
      "text/html": [
       "<style>.container { width:75% !important; }</style>"
      ],
      "text/plain": [
       "<IPython.core.display.HTML object>"
      ]
     },
     "metadata": {},
     "output_type": "display_data"
    }
   ],
   "source": [
    "from IPython.core.display import display, HTML\n",
    "display(HTML(\"<style>.container { width:75% !important; }</style>\"))"
   ]
  },
  {
   "cell_type": "code",
   "execution_count": null,
   "id": "7ef66c37",
   "metadata": {},
   "outputs": [],
   "source": []
  }
 ],
 "metadata": {
  "kernelspec": {
   "display_name": "Python [conda env:tfrs] *",
   "language": "python",
   "name": "conda-env-tfrs-py"
  },
  "language_info": {
   "codemirror_mode": {
    "name": "ipython",
    "version": 3
   },
   "file_extension": ".py",
   "mimetype": "text/x-python",
   "name": "python",
   "nbconvert_exporter": "python",
   "pygments_lexer": "ipython3",
   "version": "3.7.10"
  }
 },
 "nbformat": 4,
 "nbformat_minor": 5
}
