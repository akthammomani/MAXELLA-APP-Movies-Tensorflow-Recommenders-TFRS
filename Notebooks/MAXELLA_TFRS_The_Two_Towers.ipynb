{
 "cells": [
  {
   "cell_type": "markdown",
   "id": "6163fad7",
   "metadata": {},
   "source": [
    "# TensorFlow Recommenders (TFRS) - First Stage: Retrieval (The Two Towers Model)\n",
    "\n",
    "![logo_small](https://user-images.githubusercontent.com/67468718/127299425-533f0a3c-c965-42a5-886a-5272170d9e0e.JPG)\n",
    "\n",
    "\n",
    "## Contents:\n",
    "\n",
    " 1. Introduction\n",
    " 2. Dataset\n",
    " 3. Sourcing and Loading:\n",
    "  * Import relevant libraries\n",
    "  * preparing the dataset\n",
    " 4. Implementing a Retrieval Model:\n",
    "  * The query tower\n",
    "  * The candidate tower\n",
    "  * Metrics\n",
    "  * The Full Model (The Two Towers)\n",
    "  * Fitting and evaluating\n",
    "  * Visualization: Total loss and Accuracy over epochs\n",
    " 5. Making predictions\n",
    " 6. Model serving\n",
    "\n",
    "## 1. Introduction\n",
    "\n",
    "**Real-world recommender systems are often composed of two stages:**\n",
    "\n",
    " * The retrieval stage (Selects recommendation candidates): is responsible for selecting an initial set of hundreds of candidates from all possible candidates. The main objective of this model is to efficiently weed out all candidates that the user is not interested in. Because the retrieval model may be dealing with millions of candidates, it has to be computationally efficient.\n",
    "\n",
    " * The ranking stage (Selects the best candidates and rank them): takes the outputs of the retrieval model and fine-tunes them to select the best possible handful of recommendations. Its task is to narrow down the set of items the user may be interested in to a shortlist of likely candidates.\n",
    "\n",
    "\n",
    "**Retrieval models are often composed of two sub-models:**\n",
    "\n",
    "The retrieval model embeds user ID's and movie ID's of rated movies into embedding layers of the same dimension:\n",
    "\n",
    " * A query model computing the query representation (normally a fixed-dimensionality embedding vector) using query features.\n",
    " * A candidate model computing the candidate representation (an equally-sized vector) using the candidate features.\n",
    " \n",
    "As shown below, the two models are multiplied to create a query-candidate affinity scores for each rating during training. If the affinity score for the rating is higher than other for other candidates , then we can consider the model is a good one!!.  \n",
    "<p align=\"center\">\n",
    "  <img width=\"600\" height=\"600\" src=\"https://user-images.githubusercontent.com/67468718/127304344-6aa3770f-a7d9-421c-b2d9-98123dac79ef.JPG\">\n",
    "</p>\n",
    "\n",
    "**Embedding layer Magic!!!**\n",
    "\n",
    "As shown above, we might think of the **embedding layers** as just a way of encoding right a way of forcing the categorical data into some sort of a standard format that can be easily fed into a neural network and usually that's how it's used but embedding layers are more than that!!. The way they're working under the hood is every unique id is being mapped to a vector of n dimensions maybe it's 32 dimensions or 64 dimensions, but it's going to be like a vector of 32 floating point values and we can think of this as a position in a 32-dimensional space that represents the similarity between one user id and another or between one movie id and another so by using **embedding layers** in this way we're kind of getting around that whole problem of **data sparsity** and **sparse vectors** and at the same time, we're getting a measure of similarity out of the deal as well so it's a very simple and straightforward way of getting a recommendation candidates and then we could just brute force sort them all and get our top k recommendations.\n",
    "\n",
    "\n",
    "The outputs of the two models are then multiplied together to give a query-candidate affinity score, with higher scores expressing a better match between the candidate and the query.\n",
    "\n",
    "In this Notebook, we're going to build and train such a two-tower model using the Movielens dataset (1m Dataset).\n",
    "\n",
    "We're going to:\n",
    "\n",
    " * Get our data and split it into a training and test set.\n",
    " * Implement a retrieval model.\n",
    " * Fit and evaluate it.\n",
    " * Export it for efficient serving by building an approximate nearest neighbours (ANN) index."
   ]
  },
  {
   "cell_type": "code",
   "execution_count": null,
   "id": "7e6ab858",
   "metadata": {},
   "outputs": [],
   "source": []
  },
  {
   "cell_type": "markdown",
   "id": "9b47fa7f",
   "metadata": {},
   "source": [
    "## 2. Dataset: \n",
    "\n",
    "**Movie Lens** contains a set of movie ratings from the MovieLens website, a movie recommendation service. This dataset was collected and maintained by [GroupLens](https://grouplens.org/) , a research group at the University of Minnesota. There are 5 versions included: \"25m\", \"latest-small\", \"100k\", \"1m\", \"20m\". In all datasets, the movies data and ratings data are joined on \"movieId\". The 25m dataset, latest-small dataset, and 20m dataset contain only movie data and rating data. The 1m dataset and 100k dataset contain demographic data in addition to movie and rating data.\n",
    "\n",
    "**movie_lens/1m** can be treated in two ways:\n",
    "\n",
    "  * It can be interpreted as expressesing which movies the users watched (and rated), and which they did not. This is a form of *implicit feedback*, where users' watches tell us which things they prefer to see and which they'd rather not see (This means that every movie a user watched is a positive example, and every movie they have not seen is an implicit negative example).\n",
    "  * It can also be seen as expressesing how much the users liked the movies they did watch. This is a form of *explicit feedback*: given that a user watched a movie, we can tell roughly how much they liked by looking at the rating they have given.\n",
    "\n",
    "\n",
    "\n",
    "**(a) [movie_lens/1m-ratings](https://www.tensorflow.org/datasets/catalog/movie_lens#movie_lens1m-ratings):**\n",
    " * Config description: This dataset contains 1,000,209 anonymous ratings of approximately 3,900 movies made by 6,040 MovieLens users who joined MovieLens. Ratings are in whole-star increments. This dataset contains demographic data of users in addition to data on movies and ratings.\n",
    " * This dataset is the largest dataset that includes demographic data from movie_lens.\n",
    " * \"user_gender\": gender of the user who made the rating; a true value corresponds to male\n",
    " * \"bucketized_user_age\": bucketized age values of the user who made the rating, the values and the corresponding ranges are:\n",
    "   * 1: \"Under 18\"\n",
    "   * 18: \"18-24\"\n",
    "   * 25: \"25-34\"\n",
    "   * 35: \"35-44\"\n",
    "   * 45: \"45-49\"\n",
    "   * 50: \"50-55\"\n",
    "   * 56: \"56+\"\n",
    " * \"user_occupation_label\": the occupation of the user who made the rating represented by an integer-encoded label; labels are preprocessed to be consistent across different versions\n",
    " * \"user_occupation_text\": the occupation of the user who made the rating in the original string; different versions can have different set of raw text labels\n",
    " * \"user_zip_code\": the zip code of the user who made the rating.\n",
    " * Download size: 5.64 MiB\n",
    " * Dataset size: 308.42 MiB\n",
    " * Auto-cached ([documentation](https://www.tensorflow.org/datasets/performances#auto-caching)): No\n",
    " * Features:\n",
    " ```\n",
    " FeaturesDict({\n",
    "               'bucketized_user_age': tf.float32,\n",
    "               'movie_genres': Sequence(ClassLabel(shape=(), dtype=tf.int64, num_classes=21)),\n",
    "               'movie_id': tf.string,\n",
    "               'movie_title': tf.string,\n",
    "               'raw_user_age': tf.float32,\n",
    "               'timestamp': tf.int64,\n",
    "               'user_gender': tf.bool,\n",
    "               'user_id': tf.string,\n",
    "               'user_occupation_label': ClassLabel(shape=(), dtype=tf.int64, num_classes=22),\n",
    "               'user_occupation_text': tf.string,\n",
    "               'user_rating': tf.float32,\n",
    "               'user_zip_code': tf.string,\n",
    "              })\n",
    " ```\n",
    "**Example:**\n",
    "\n",
    "|bucketized_user_age\t|movie_genres|\tmovie_id|\tmovie_title|\traw_user_age|\ttimestamp|\tuser_gender|\tuser_id\t|user_occupation_label|\tuser_occupation_text\t|user_rating\t|user_zip_code|\n",
    "|:----:|:----:|:----:|:----:|:----:|:----:|:----:|:----:|:----:|:----:|:----:|:----:|\n",
    "|45.0\t|7 (Drama)|b'357'\t|b\"One Flew Over the Cuckoo's Nest (1975)\"\t|46.0\t|879024327\t|True\t|b'138'\t|4 (doctor/health care)\t|b'doctor'\t|4.0|\tb'53211'|\n",
    "\n",
    "\n",
    "**(b) [movie_lens/1m-movies](https://www.tensorflow.org/datasets/catalog/movie_lens#movie_lens1m-movies):**\n",
    "\n",
    " * Config description: This dataset contains data of approximately 3,900 movies rated in the 1m dataset.\n",
    " * Download size: 5.64 MiB\n",
    " * Dataset size: 351.12 KiB\n",
    " * Auto-cached ([documentation](https://www.tensorflow.org/datasets/performances#auto-caching)): Yes\n",
    " * Features:\n",
    "```\n",
    "FeaturesDict({\n",
    "              'movie_genres': Sequence(ClassLabel(shape=(), dtype=tf.int64, num_classes=21)),\n",
    "              'movie_id': tf.string,\n",
    "              'movie_title': tf.string,\n",
    "             })\n",
    "```\n",
    "**Example:**\n",
    "\n",
    "|movie_genres\t|movie_id\t|movie_title|\n",
    "|:-----:|:-----:|:-----:|\n",
    "|4 (Comedy) |b'1681'\t|b'You So Crazy (1994)'|\t\n",
    "|0 (Action)|b'838'\t|b'In the Line of Duty 2 (1987)'|\n"
   ]
  },
  {
   "cell_type": "markdown",
   "id": "b0b5d34a",
   "metadata": {},
   "source": [
    "## 3. Sourcing and Loading\n",
    "\n",
    "### 3.1 Import relevant libraries"
   ]
  },
  {
   "cell_type": "code",
   "execution_count": 7,
   "id": "7d223838",
   "metadata": {},
   "outputs": [],
   "source": [
    "# Import the necessary Libararies: \n",
    "\n",
    "import os\n",
    "import pprint\n",
    "import tempfile\n",
    "import matplotlib.pyplot as plt\n",
    "from typing import Dict, Text\n",
    "\n",
    "import numpy as np\n",
    "import tensorflow as tf\n",
    "import tensorflow_datasets as tfds\n",
    "from typing import Dict, Text\n",
    "import pandas as pd\n",
    "import numpy as np\n",
    "\n",
    "import tensorflow as tf\n",
    "\n",
    "import tensorflow_datasets as tfds\n",
    "import tensorflow_recommenders as tfrs\n",
    "\n",
    "plt.style.use('ggplot')"
   ]
  },
  {
   "cell_type": "markdown",
   "id": "fcdb68d6",
   "metadata": {},
   "source": [
    "### 3.2 Preparing the dataset\n",
    "\n",
    "Let's first have a look at the data.\n",
    "\n",
    "We use the MovieLens dataset from Tensorflow Datasets. Loading **[movie_lens/1m-ratings](https://www.tensorflow.org/datasets/catalog/movie_lens#movie_lens1m-ratings)** yields a ***tf.data.Dataset*** object containing the ratings data and loading **[movie_lens/1m-movies](https://www.tensorflow.org/datasets/catalog/movie_lens#movie_lens1m-movies)** yields a ***tf.data.Dataset*** object containing only the movies data.\n",
    "\n",
    "Note that since the MovieLens dataset does not have predefined splits, all data are under train split."
   ]
  },
  {
   "cell_type": "code",
   "execution_count": 30,
   "id": "c49caba2",
   "metadata": {},
   "outputs": [],
   "source": [
    "# Ratings data.\n",
    "ratings = tfds.load(\"movielens/1m-ratings\", split=\"train\", shuffle_files=True)\n",
    "# Features of all the available movies.\n",
    "movies = tfds.load(\"movielens/1m-movies\", split=\"train\", shuffle_files=True)"
   ]
  },
  {
   "cell_type": "code",
   "execution_count": 31,
   "id": "8920e803",
   "metadata": {},
   "outputs": [
    {
     "name": "stdout",
     "output_type": "stream",
     "text": [
      "{'bucketized_user_age': 18.0,\n",
      " 'movie_genres': array([1, 3, 8], dtype=int64),\n",
      " 'movie_id': b'2',\n",
      " 'movie_title': b'Jumanji (1995)',\n",
      " 'timestamp': 965806208,\n",
      " 'user_gender': True,\n",
      " 'user_id': b'3887',\n",
      " 'user_occupation_label': 17,\n",
      " 'user_occupation_text': b'college/grad student',\n",
      " 'user_rating': 3.0,\n",
      " 'user_zip_code': b'80513'}\n"
     ]
    }
   ],
   "source": [
    "#The ratings dataset returns a dictionary of movie id, user id, the assigned rating, timestamp, movie information, and user information:\n",
    "#View the data from ratings dataset:\n",
    "for x in ratings.take(1).as_numpy_iterator():\n",
    "    pprint.pprint(x)"
   ]
  },
  {
   "cell_type": "code",
   "execution_count": 32,
   "id": "ba94307c",
   "metadata": {},
   "outputs": [
    {
     "name": "stdout",
     "output_type": "stream",
     "text": [
      "{'movie_genres': array([5, 7], dtype=int64),\n",
      " 'movie_id': b'1729',\n",
      " 'movie_title': b'Jackie Brown (1997)'}\n"
     ]
    }
   ],
   "source": [
    "#The movies dataset contains the movie id, movie title, and data on what genres it belongs to. Note that the genres are encoded with integer labels:\n",
    "#View the data from movies dataset:\n",
    "for x in movies.take(1).as_numpy_iterator():\n",
    "    pprint.pprint(x)"
   ]
  },
  {
   "cell_type": "code",
   "execution_count": 33,
   "id": "8399463b",
   "metadata": {},
   "outputs": [
    {
     "data": {
      "text/plain": [
       "tensorflow.python.data.ops.dataset_ops._OptionsDataset"
      ]
     },
     "execution_count": 33,
     "metadata": {},
     "output_type": "execute_result"
    }
   ],
   "source": [
    "type(ratings)"
   ]
  },
  {
   "cell_type": "markdown",
   "id": "8d5e519c",
   "metadata": {},
   "source": [
    "Next, we're only going to extract the movie title and the user id. So, we're actually not going to extract the rating itself and the reason why is that we're treating these as **implicit recommendations** in this case because that's easier to do a large scale like we mentioned earlier we want to try to keep things simple in **the retrieval stage** because it's operating over potentially a massive amount of data so to that end we're just going to assume that any movie that a user rated is one that they were really interested in if they took the time to watch it then it expresses some level of interest:\n",
    "\n",
    "***Any rating is an implicit positive rating for a movie and the absence of a rating is an implicit negative rating for that movie***"
   ]
  },
  {
   "cell_type": "code",
   "execution_count": 34,
   "id": "e673da2d",
   "metadata": {},
   "outputs": [],
   "source": [
    "#Let's select the necessary attributes:\n",
    "\n",
    "ratings = ratings.map(lambda x: {\n",
    "                                 \"movie_title\": x[\"movie_title\"],\n",
    "                                 \"user_id\": x[\"user_id\"],\n",
    "                                })\n",
    "\n",
    "movies = movies.map(lambda x: x[\"movie_title\"])"
   ]
  },
  {
   "cell_type": "code",
   "execution_count": 65,
   "id": "9b06d312",
   "metadata": {},
   "outputs": [
    {
     "data": {
      "text/plain": [
       "1000209"
      ]
     },
     "execution_count": 65,
     "metadata": {},
     "output_type": "execute_result"
    }
   ],
   "source": [
    "len(ratings)"
   ]
  },
  {
   "cell_type": "code",
   "execution_count": 36,
   "id": "ae885400",
   "metadata": {},
   "outputs": [],
   "source": [
    "# let's use a random split, putting 75% of the ratings in the train set, and 25% in the test set:\n",
    "# Assign a seed=42 for consistency of results and reproducibility:\n",
    "seed = 42\n",
    "l = len(ratings)\n",
    "\n",
    "tf.random.set_seed(seed)\n",
    "shuffled = ratings.shuffle(l, seed=seed, reshuffle_each_iteration=False)\n",
    "\n",
    "#Save 75% of the data for training and 25% for testing:\n",
    "train_ = int(0.75 * l)\n",
    "test_ = int(0.25 * l)\n",
    "\n",
    "train = shuffled.take(train_)\n",
    "test = shuffled.skip(train_).take(test_)"
   ]
  },
  {
   "cell_type": "code",
   "execution_count": 37,
   "id": "f5e10ac0",
   "metadata": {},
   "outputs": [
    {
     "data": {
      "text/plain": [
       "array([b'$1,000,000 Duck (1971)', b\"'Night Mother (1986)\",\n",
       "       b\"'Til There Was You (1997)\", b\"'burbs, The (1989)\",\n",
       "       b'...And Justice for All (1979)', b'1-900 (1994)',\n",
       "       b'10 Things I Hate About You (1999)', b'101 Dalmatians (1961)',\n",
       "       b'101 Dalmatians (1996)', b'12 Angry Men (1957)'], dtype=object)"
      ]
     },
     "execution_count": 37,
     "metadata": {},
     "output_type": "execute_result"
    }
   ],
   "source": [
    "# Now, let's find out how many uniques users/movies:\n",
    "movie_titles = movies.batch(l)\n",
    "user_ids = ratings.batch(l).map(lambda x: x[\"user_id\"])\n",
    "\n",
    "#Movies uniques:\n",
    "unique_movie_titles = np.unique(np.concatenate(list(movie_titles)))\n",
    "\n",
    "#users unique\n",
    "unique_user_ids = np.unique(np.concatenate(list(user_ids)))\n",
    "\n",
    "# take a look at the movies:\n",
    "unique_movie_titles[:10]"
   ]
  },
  {
   "cell_type": "code",
   "execution_count": 38,
   "id": "14a83098",
   "metadata": {},
   "outputs": [
    {
     "name": "stdout",
     "output_type": "stream",
     "text": [
      "3883\n"
     ]
    }
   ],
   "source": [
    "#Movies uniques\n",
    "len_films = len(unique_movie_titles)\n",
    "print(len_films) "
   ]
  },
  {
   "cell_type": "code",
   "execution_count": 39,
   "id": "9461b1ce",
   "metadata": {},
   "outputs": [
    {
     "name": "stdout",
     "output_type": "stream",
     "text": [
      "6040\n"
     ]
    }
   ],
   "source": [
    "#users unique\n",
    "len_users = len(unique_user_ids)\n",
    "print(len_users) "
   ]
  },
  {
   "cell_type": "markdown",
   "id": "9876e326",
   "metadata": {},
   "source": [
    "## 4. Implementing a Retrieval Model:\n",
    "\n",
    "Choosing the architecture of our model is a key part of modelling.\n",
    "\n",
    "Because we are building a two-tower retrieval model, we can build each tower separately and then combine them in the final model.\n",
    "\n",
    "### 4.1 The query tower:\n",
    "\n",
    "Let's start with the query tower.\n",
    "\n",
    "The first step is to decide on the dimensionality of the query and candidate representations:"
   ]
  },
  {
   "cell_type": "code",
   "execution_count": 40,
   "id": "f1637802",
   "metadata": {},
   "outputs": [],
   "source": [
    "#Higher values will correspond to models that may be more accurate, but will also be slower to fit and more prone to overfitting:\n",
    "embedding_dimension = 32"
   ]
  },
  {
   "cell_type": "code",
   "execution_count": 41,
   "id": "71481f89",
   "metadata": {},
   "outputs": [],
   "source": [
    "#We define the embedding on the user side, we must transform the user ids into a vector representation:\n",
    "#we're going to use Keras preprocessing layers to first convert user ids to integers, and then convert those to user embeddings via an Embedding layer:\n",
    "user_model = tf.keras.Sequential([\n",
    "                                  tf.keras.layers.experimental.preprocessing.StringLookup(\n",
    "                                  #User_ids vocabulary: list of unique integers that represents each user_id\n",
    "                                  vocabulary=unique_user_ids, mask_token=None),\n",
    "                                  # We add an additional embedding to account for unknown tokens.\n",
    "                                  tf.keras.layers.Embedding(len(unique_user_ids) + 1, \n",
    "                                  embedding_dimension)#embedding layer with a vector size of 32\n",
    "                                ])\n",
    "\n",
    "\n",
    "# So, basically we want an embedding layer for however many user ids we have where each one is represented by a vector of 32 floating point values that \n",
    "# basically represents in that 64-dimensional space how similar users \n"
   ]
  },
  {
   "cell_type": "markdown",
   "id": "e8e0ecef",
   "metadata": {},
   "source": [
    "### 4.2 The candidate tower:\n"
   ]
  },
  {
   "cell_type": "code",
   "execution_count": 42,
   "id": "6640f327",
   "metadata": {},
   "outputs": [],
   "source": [
    "# We now define the embedding of the movie portion \n",
    "movie_model = tf.keras.Sequential([\n",
    "                                  tf.keras.layers.experimental.preprocessing.StringLookup(\n",
    "                                  vocabulary=unique_movie_titles, mask_token=None),\n",
    "                                  tf.keras.layers.Embedding(len(unique_movie_titles) + 1,\n",
    "                                  embedding_dimension) #embedding layer with a vector size of 32\n",
    "                                 ])"
   ]
  },
  {
   "cell_type": "markdown",
   "id": "736b2bf8",
   "metadata": {},
   "source": [
    "### 4.3 Metrics\n",
    "\n",
    "In our training data we have positive (user, movie) pairs. To figure out how good our model is, we need to compare the affinity score that the model calculates for this pair to the scores of all the other possible candidates: if the score for the positive pair is higher than for all other candidates, our model is highly accurate.\n",
    "\n",
    "To do this, we can use the tfrs.metrics.FactorizedTopK metric. The metric has one required argument: the dataset of candidates that are used as implicit negatives for evaluation.\n",
    "\n",
    "In our case, that's the movies dataset, converted into embeddings via our movie model:\n",
    "\n"
   ]
  },
  {
   "cell_type": "code",
   "execution_count": 43,
   "id": "4bee6877",
   "metadata": {},
   "outputs": [],
   "source": [
    "#We define the desired metrics : FactorizedTopK\n",
    "metrics = tfrs.metrics.FactorizedTopK(\n",
    "                                     candidates=movies.batch(128).map(movie_model)\n",
    "                                     )"
   ]
  },
  {
   "cell_type": "code",
   "execution_count": 44,
   "id": "e556b8c7",
   "metadata": {},
   "outputs": [],
   "source": [
    "#The Retrieval task is defined according to the FactorizedTopK metrics:\n",
    "task = tfrs.tasks.Retrieval(\n",
    "                            metrics=metrics\n",
    "                           )"
   ]
  },
  {
   "cell_type": "markdown",
   "id": "a02a6bff",
   "metadata": {},
   "source": [
    "### 4.4 The Full Model\n",
    "\n",
    "We can now put it all together into a model. TFRS exposes a base model class (tfrs.models.Model) which streamlines building models: all we need to do is to set up the components in the __init__ method, and implement the compute_loss method, taking in the raw features and returning a loss value.\n",
    "\n",
    "The base model will then take care of creating the appropriate training loop to fit our model."
   ]
  },
  {
   "cell_type": "code",
   "execution_count": 45,
   "id": "a13e3455",
   "metadata": {},
   "outputs": [],
   "source": [
    "class MovielensModel(tfrs.Model):\n",
    "    \n",
    "    def __init__(self, user_model, movie_model):\n",
    "        super().__init__()\n",
    "        #The Two Towers: Movie and user Models:\n",
    "        self.movie_model: tf.keras.Model = movie_model\n",
    "        self.user_model: tf.keras.Model = user_model\n",
    "        self.task: tf.keras.layers.Layer = task\n",
    "\n",
    "    def compute_loss(self, features: Dict[Text, tf.Tensor], training=False) -> tf.Tensor:\n",
    "        # We pick out the user features and pass them into the user model.\n",
    "        user_embeddings = self.user_model(features[\"user_id\"])\n",
    "        # And pick out the movie features and pass them into the movie model,\n",
    "        # getting embeddings back.\n",
    "        positive_movie_embeddings = self.movie_model(features[\"movie_title\"])\n",
    "\n",
    "        # The task computes the loss and the metrics.\n",
    "        return self.task(user_embeddings, positive_movie_embeddings)"
   ]
  },
  {
   "cell_type": "markdown",
   "id": "2dd3ce2a",
   "metadata": {},
   "source": [
    "The tfrs.Model base class is a simply convenience class: it allows us to compute both training and test losses using the same method.\n",
    "\n",
    "Under the hood, it's still a plain Keras model. You could achieve the same functionality by inheriting from tf.keras.Model and overriding the train_step and test_step functions (see [the guide](https://www.tensorflow.org/guide/keras/customizing_what_happens_in_fit) for details):"
   ]
  },
  {
   "cell_type": "code",
   "execution_count": 46,
   "id": "c6cf0236",
   "metadata": {},
   "outputs": [],
   "source": [
    "class NoBaseClassMovielensModel(tf.keras.Model):\n",
    "\n",
    "    def __init__(self, user_model, movie_model):\n",
    "        super().__init__()\n",
    "        self.movie_model: tf.keras.Model = movie_model\n",
    "        self.user_model: tf.keras.Model = user_model\n",
    "        self.task: tf.keras.layers.Layer = task\n",
    "\n",
    "    def train_step(self, features: Dict[Text, tf.Tensor]) -> tf.Tensor:\n",
    "\n",
    "        # Set up a gradient tape to record gradients.\n",
    "        with tf.GradientTape() as tape:\n",
    "\n",
    "            # Loss computation.\n",
    "            user_embeddings = self.user_model(features[\"user_id\"])\n",
    "            positive_movie_embeddings = self.movie_model(features[\"movie_title\"])\n",
    "            loss = self.task(user_embeddings, positive_movie_embeddings)\n",
    "\n",
    "            # Handle regularization losses as well.\n",
    "            regularization_loss = sum(self.losses)\n",
    "\n",
    "            total_loss = loss + regularization_loss\n",
    "\n",
    "        gradients = tape.gradient(total_loss, self.trainable_variables)\n",
    "        self.optimizer.apply_gradients(zip(gradients, self.trainable_variables))\n",
    "\n",
    "        metrics = {metric.name: metric.result() for metric in self.metrics}\n",
    "        metrics[\"loss\"] = loss\n",
    "        metrics[\"regularization_loss\"] = regularization_loss\n",
    "        metrics[\"total_loss\"] = total_loss\n",
    "\n",
    "        return metrics\n",
    "\n",
    "    def test_step(self, features: Dict[Text, tf.Tensor]) -> tf.Tensor:\n",
    "\n",
    "        # Loss computation.\n",
    "        user_embeddings = self.user_model(features[\"user_id\"])\n",
    "        positive_movie_embeddings = self.movie_model(features[\"movie_title\"])\n",
    "        loss = self.task(user_embeddings, positive_movie_embeddings)\n",
    "\n",
    "        # Handle regularization losses as well.\n",
    "        regularization_loss = sum(self.losses)\n",
    "\n",
    "        total_loss = loss + regularization_loss\n",
    "\n",
    "        metrics = {metric.name: metric.result() for metric in self.metrics}\n",
    "        metrics[\"loss\"] = loss\n",
    "        metrics[\"regularization_loss\"] = regularization_loss\n",
    "        metrics[\"total_loss\"] = total_loss\n",
    "\n",
    "        return metrics"
   ]
  },
  {
   "cell_type": "markdown",
   "id": "5b7e165d",
   "metadata": {},
   "source": [
    "### 4.5 Fitting and evaluating\n",
    "\n",
    "After defining the model, we can use standard Keras fitting and evaluation routines to fit and evaluate the model.\n",
    "\n",
    "Let's first instantiate the model."
   ]
  },
  {
   "cell_type": "code",
   "execution_count": 47,
   "id": "3173ab27",
   "metadata": {},
   "outputs": [],
   "source": [
    "#Let's first instantiate the model.\n",
    "model = MovielensModel(user_model, movie_model)\n",
    "\n",
    "model.compile(optimizer=tf.keras.optimizers.Adagrad(learning_rate=0.1))"
   ]
  },
  {
   "cell_type": "code",
   "execution_count": 48,
   "id": "2aa6d856",
   "metadata": {},
   "outputs": [],
   "source": [
    "# Then shuffle, batch, and cache the training and evaluation data:\n",
    "# Segment the batches so that the model runs 13 training batches (2^13) and 11 test batches (2^11) per epoch, \n",
    "# while having a batch size which is a multiple of 2^n.\n",
    "cached_train = train.shuffle(l).batch(8192).cache()\n",
    "cached_test = test.batch(2048).cache()"
   ]
  },
  {
   "cell_type": "code",
   "execution_count": 49,
   "id": "a0b462c2",
   "metadata": {
    "scrolled": true
   },
   "outputs": [
    {
     "name": "stdout",
     "output_type": "stream",
     "text": [
      "Epoch 1/32\n",
      "WARNING:tensorflow:From C:\\Users\\aktha\\anaconda3\\envs\\tfrs\\lib\\site-packages\\tensorflow\\python\\ops\\array_ops.py:5049: calling gather (from tensorflow.python.ops.array_ops) with validate_indices is deprecated and will be removed in a future version.\n",
      "Instructions for updating:\n",
      "The `validate_indices` argument has no effect. Indices are always validated on CPU and never validated on GPU.\n"
     ]
    },
    {
     "name": "stderr",
     "output_type": "stream",
     "text": [
      "WARNING:tensorflow:From C:\\Users\\aktha\\anaconda3\\envs\\tfrs\\lib\\site-packages\\tensorflow\\python\\ops\\array_ops.py:5049: calling gather (from tensorflow.python.ops.array_ops) with validate_indices is deprecated and will be removed in a future version.\n",
      "Instructions for updating:\n",
      "The `validate_indices` argument has no effect. Indices are always validated on CPU and never validated on GPU.\n"
     ]
    },
    {
     "name": "stdout",
     "output_type": "stream",
     "text": [
      "92/92 [==============================] - 425s 4s/step - factorized_top_k/top_1_categorical_accuracy: 6.7453e-04 - factorized_top_k/top_5_categorical_accuracy: 0.0072 - factorized_top_k/top_10_categorical_accuracy: 0.0153 - factorized_top_k/top_50_categorical_accuracy: 0.0736 - factorized_top_k/top_100_categorical_accuracy: 0.1329 - loss: 71273.8821 - regularization_loss: 0.0000e+00 - total_loss: 71273.8821 - val_factorized_top_k/top_1_categorical_accuracy: 0.0022 - val_factorized_top_k/top_5_categorical_accuracy: 0.0139 - val_factorized_top_k/top_10_categorical_accuracy: 0.0273 - val_factorized_top_k/top_50_categorical_accuracy: 0.1110 - val_factorized_top_k/top_100_categorical_accuracy: 0.1897 - val_loss: 932.4714 - val_regularization_loss: 0.0000e+00 - val_total_loss: 932.4714\n",
      "Epoch 2/32\n",
      "92/92 [==============================] - 458s 5s/step - factorized_top_k/top_1_categorical_accuracy: 0.0013 - factorized_top_k/top_5_categorical_accuracy: 0.0126 - factorized_top_k/top_10_categorical_accuracy: 0.0255 - factorized_top_k/top_50_categorical_accuracy: 0.1083 - factorized_top_k/top_100_categorical_accuracy: 0.1868 - loss: 69007.4433 - regularization_loss: 0.0000e+00 - total_loss: 69007.4433 - val_factorized_top_k/top_1_categorical_accuracy: 0.0025 - val_factorized_top_k/top_5_categorical_accuracy: 0.0157 - val_factorized_top_k/top_10_categorical_accuracy: 0.0308 - val_factorized_top_k/top_50_categorical_accuracy: 0.1191 - val_factorized_top_k/top_100_categorical_accuracy: 0.1993 - val_loss: 905.9434 - val_regularization_loss: 0.0000e+00 - val_total_loss: 905.9434\n",
      "Epoch 3/32\n",
      "92/92 [==============================] - 504s 5s/step - factorized_top_k/top_1_categorical_accuracy: 0.0015 - factorized_top_k/top_5_categorical_accuracy: 0.0145 - factorized_top_k/top_10_categorical_accuracy: 0.0290 - factorized_top_k/top_50_categorical_accuracy: 0.1177 - factorized_top_k/top_100_categorical_accuracy: 0.1988 - loss: 68274.9609 - regularization_loss: 0.0000e+00 - total_loss: 68274.9609 - val_factorized_top_k/top_1_categorical_accuracy: 0.0026 - val_factorized_top_k/top_5_categorical_accuracy: 0.0164 - val_factorized_top_k/top_10_categorical_accuracy: 0.0317 - val_factorized_top_k/top_50_categorical_accuracy: 0.1218 - val_factorized_top_k/top_100_categorical_accuracy: 0.2025 - val_loss: 893.0321 - val_regularization_loss: 0.0000e+00 - val_total_loss: 893.0321\n",
      "Epoch 4/32\n",
      "92/92 [==============================] - 456s 5s/step - factorized_top_k/top_1_categorical_accuracy: 0.0016 - factorized_top_k/top_5_categorical_accuracy: 0.0155 - factorized_top_k/top_10_categorical_accuracy: 0.0309 - factorized_top_k/top_50_categorical_accuracy: 0.1230 - factorized_top_k/top_100_categorical_accuracy: 0.2056 - loss: 67851.4473 - regularization_loss: 0.0000e+00 - total_loss: 67851.4473 - val_factorized_top_k/top_1_categorical_accuracy: 0.0027 - val_factorized_top_k/top_5_categorical_accuracy: 0.0168 - val_factorized_top_k/top_10_categorical_accuracy: 0.0320 - val_factorized_top_k/top_50_categorical_accuracy: 0.1235 - val_factorized_top_k/top_100_categorical_accuracy: 0.2045 - val_loss: 885.4232 - val_regularization_loss: 0.0000e+00 - val_total_loss: 885.4232\n",
      "Epoch 5/32\n",
      "92/92 [==============================] - 462s 5s/step - factorized_top_k/top_1_categorical_accuracy: 0.0016 - factorized_top_k/top_5_categorical_accuracy: 0.0162 - factorized_top_k/top_10_categorical_accuracy: 0.0321 - factorized_top_k/top_50_categorical_accuracy: 0.1262 - factorized_top_k/top_100_categorical_accuracy: 0.2104 - loss: 67562.4025 - regularization_loss: 0.0000e+00 - total_loss: 67562.4025 - val_factorized_top_k/top_1_categorical_accuracy: 0.0027 - val_factorized_top_k/top_5_categorical_accuracy: 0.0170 - val_factorized_top_k/top_10_categorical_accuracy: 0.0322 - val_factorized_top_k/top_50_categorical_accuracy: 0.1241 - val_factorized_top_k/top_100_categorical_accuracy: 0.2056 - val_loss: 880.6280 - val_regularization_loss: 0.0000e+00 - val_total_loss: 880.6280\n",
      "Epoch 6/32\n",
      "92/92 [==============================] - 455s 5s/step - factorized_top_k/top_1_categorical_accuracy: 0.0017 - factorized_top_k/top_5_categorical_accuracy: 0.0167 - factorized_top_k/top_10_categorical_accuracy: 0.0330 - factorized_top_k/top_50_categorical_accuracy: 0.1287 - factorized_top_k/top_100_categorical_accuracy: 0.2136 - loss: 67349.6342 - regularization_loss: 0.0000e+00 - total_loss: 67349.6342 - val_factorized_top_k/top_1_categorical_accuracy: 0.0027 - val_factorized_top_k/top_5_categorical_accuracy: 0.0170 - val_factorized_top_k/top_10_categorical_accuracy: 0.0324 - val_factorized_top_k/top_50_categorical_accuracy: 0.1242 - val_factorized_top_k/top_100_categorical_accuracy: 0.2059 - val_loss: 877.4215 - val_regularization_loss: 0.0000e+00 - val_total_loss: 877.4215\n",
      "Epoch 7/32\n",
      "92/92 [==============================] - 454s 5s/step - factorized_top_k/top_1_categorical_accuracy: 0.0017 - factorized_top_k/top_5_categorical_accuracy: 0.0169 - factorized_top_k/top_10_categorical_accuracy: 0.0336 - factorized_top_k/top_50_categorical_accuracy: 0.1302 - factorized_top_k/top_100_categorical_accuracy: 0.2158 - loss: 67185.7597 - regularization_loss: 0.0000e+00 - total_loss: 67185.7597 - val_factorized_top_k/top_1_categorical_accuracy: 0.0026 - val_factorized_top_k/top_5_categorical_accuracy: 0.0167 - val_factorized_top_k/top_10_categorical_accuracy: 0.0322 - val_factorized_top_k/top_50_categorical_accuracy: 0.1238 - val_factorized_top_k/top_100_categorical_accuracy: 0.2062 - val_loss: 875.1418 - val_regularization_loss: 0.0000e+00 - val_total_loss: 875.1418\n",
      "Epoch 8/32\n",
      "92/92 [==============================] - 455s 5s/step - factorized_top_k/top_1_categorical_accuracy: 0.0017 - factorized_top_k/top_5_categorical_accuracy: 0.0171 - factorized_top_k/top_10_categorical_accuracy: 0.0339 - factorized_top_k/top_50_categorical_accuracy: 0.1311 - factorized_top_k/top_100_categorical_accuracy: 0.2171 - loss: 67055.4041 - regularization_loss: 0.0000e+00 - total_loss: 67055.4041 - val_factorized_top_k/top_1_categorical_accuracy: 0.0027 - val_factorized_top_k/top_5_categorical_accuracy: 0.0166 - val_factorized_top_k/top_10_categorical_accuracy: 0.0320 - val_factorized_top_k/top_50_categorical_accuracy: 0.1236 - val_factorized_top_k/top_100_categorical_accuracy: 0.2062 - val_loss: 873.4308 - val_regularization_loss: 0.0000e+00 - val_total_loss: 873.4308\n",
      "Epoch 9/32\n",
      "92/92 [==============================] - 439s 5s/step - factorized_top_k/top_1_categorical_accuracy: 0.0017 - factorized_top_k/top_5_categorical_accuracy: 0.0172 - factorized_top_k/top_10_categorical_accuracy: 0.0341 - factorized_top_k/top_50_categorical_accuracy: 0.1318 - factorized_top_k/top_100_categorical_accuracy: 0.2181 - loss: 66949.0131 - regularization_loss: 0.0000e+00 - total_loss: 66949.0131 - val_factorized_top_k/top_1_categorical_accuracy: 0.0027 - val_factorized_top_k/top_5_categorical_accuracy: 0.0167 - val_factorized_top_k/top_10_categorical_accuracy: 0.0318 - val_factorized_top_k/top_50_categorical_accuracy: 0.1230 - val_factorized_top_k/top_100_categorical_accuracy: 0.2058 - val_loss: 872.0889 - val_regularization_loss: 0.0000e+00 - val_total_loss: 872.0889\n",
      "Epoch 10/32\n",
      "92/92 [==============================] - 435s 5s/step - factorized_top_k/top_1_categorical_accuracy: 0.0017 - factorized_top_k/top_5_categorical_accuracy: 0.0172 - factorized_top_k/top_10_categorical_accuracy: 0.0340 - factorized_top_k/top_50_categorical_accuracy: 0.1320 - factorized_top_k/top_100_categorical_accuracy: 0.2185 - loss: 66860.3096 - regularization_loss: 0.0000e+00 - total_loss: 66860.3096 - val_factorized_top_k/top_1_categorical_accuracy: 0.0027 - val_factorized_top_k/top_5_categorical_accuracy: 0.0164 - val_factorized_top_k/top_10_categorical_accuracy: 0.0316 - val_factorized_top_k/top_50_categorical_accuracy: 0.1226 - val_factorized_top_k/top_100_categorical_accuracy: 0.2051 - val_loss: 870.9986 - val_regularization_loss: 0.0000e+00 - val_total_loss: 870.9986\n",
      "Epoch 11/32\n",
      "92/92 [==============================] - 438s 5s/step - factorized_top_k/top_1_categorical_accuracy: 0.0017 - factorized_top_k/top_5_categorical_accuracy: 0.0172 - factorized_top_k/top_10_categorical_accuracy: 0.0340 - factorized_top_k/top_50_categorical_accuracy: 0.1323 - factorized_top_k/top_100_categorical_accuracy: 0.2189 - loss: 66785.0148 - regularization_loss: 0.0000e+00 - total_loss: 66785.0148 - val_factorized_top_k/top_1_categorical_accuracy: 0.0027 - val_factorized_top_k/top_5_categorical_accuracy: 0.0161 - val_factorized_top_k/top_10_categorical_accuracy: 0.0312 - val_factorized_top_k/top_50_categorical_accuracy: 0.1221 - val_factorized_top_k/top_100_categorical_accuracy: 0.2047 - val_loss: 870.0872 - val_regularization_loss: 0.0000e+00 - val_total_loss: 870.0872\n",
      "Epoch 12/32\n",
      "92/92 [==============================] - 437s 5s/step - factorized_top_k/top_1_categorical_accuracy: 0.0016 - factorized_top_k/top_5_categorical_accuracy: 0.0171 - factorized_top_k/top_10_categorical_accuracy: 0.0340 - factorized_top_k/top_50_categorical_accuracy: 0.1322 - factorized_top_k/top_100_categorical_accuracy: 0.2193 - loss: 66720.1271 - regularization_loss: 0.0000e+00 - total_loss: 66720.1271 - val_factorized_top_k/top_1_categorical_accuracy: 0.0026 - val_factorized_top_k/top_5_categorical_accuracy: 0.0160 - val_factorized_top_k/top_10_categorical_accuracy: 0.0308 - val_factorized_top_k/top_50_categorical_accuracy: 0.1217 - val_factorized_top_k/top_100_categorical_accuracy: 0.2042 - val_loss: 869.3079 - val_regularization_loss: 0.0000e+00 - val_total_loss: 869.3079\n",
      "Epoch 13/32\n",
      "92/92 [==============================] - 436s 5s/step - factorized_top_k/top_1_categorical_accuracy: 0.0016 - factorized_top_k/top_5_categorical_accuracy: 0.0170 - factorized_top_k/top_10_categorical_accuracy: 0.0338 - factorized_top_k/top_50_categorical_accuracy: 0.1320 - factorized_top_k/top_100_categorical_accuracy: 0.2193 - loss: 66663.4799 - regularization_loss: 0.0000e+00 - total_loss: 66663.4799 - val_factorized_top_k/top_1_categorical_accuracy: 0.0026 - val_factorized_top_k/top_5_categorical_accuracy: 0.0158 - val_factorized_top_k/top_10_categorical_accuracy: 0.0306 - val_factorized_top_k/top_50_categorical_accuracy: 0.1210 - val_factorized_top_k/top_100_categorical_accuracy: 0.2037 - val_loss: 868.6292 - val_regularization_loss: 0.0000e+00 - val_total_loss: 868.6292\n",
      "Epoch 14/32\n",
      "92/92 [==============================] - 436s 5s/step - factorized_top_k/top_1_categorical_accuracy: 0.0016 - factorized_top_k/top_5_categorical_accuracy: 0.0169 - factorized_top_k/top_10_categorical_accuracy: 0.0338 - factorized_top_k/top_50_categorical_accuracy: 0.1317 - factorized_top_k/top_100_categorical_accuracy: 0.2194 - loss: 66613.4821 - regularization_loss: 0.0000e+00 - total_loss: 66613.4821 - val_factorized_top_k/top_1_categorical_accuracy: 0.0025 - val_factorized_top_k/top_5_categorical_accuracy: 0.0156 - val_factorized_top_k/top_10_categorical_accuracy: 0.0304 - val_factorized_top_k/top_50_categorical_accuracy: 0.1206 - val_factorized_top_k/top_100_categorical_accuracy: 0.2029 - val_loss: 868.0295 - val_regularization_loss: 0.0000e+00 - val_total_loss: 868.0295\n",
      "Epoch 15/32\n",
      "92/92 [==============================] - 439s 5s/step - factorized_top_k/top_1_categorical_accuracy: 0.0016 - factorized_top_k/top_5_categorical_accuracy: 0.0167 - factorized_top_k/top_10_categorical_accuracy: 0.0335 - factorized_top_k/top_50_categorical_accuracy: 0.1315 - factorized_top_k/top_100_categorical_accuracy: 0.2193 - loss: 66568.9355 - regularization_loss: 0.0000e+00 - total_loss: 66568.9355 - val_factorized_top_k/top_1_categorical_accuracy: 0.0025 - val_factorized_top_k/top_5_categorical_accuracy: 0.0155 - val_factorized_top_k/top_10_categorical_accuracy: 0.0301 - val_factorized_top_k/top_50_categorical_accuracy: 0.1198 - val_factorized_top_k/top_100_categorical_accuracy: 0.2024 - val_loss: 867.4937 - val_regularization_loss: 0.0000e+00 - val_total_loss: 867.4937\n",
      "Epoch 16/32\n",
      "92/92 [==============================] - 434s 5s/step - factorized_top_k/top_1_categorical_accuracy: 0.0015 - factorized_top_k/top_5_categorical_accuracy: 0.0167 - factorized_top_k/top_10_categorical_accuracy: 0.0334 - factorized_top_k/top_50_categorical_accuracy: 0.1315 - factorized_top_k/top_100_categorical_accuracy: 0.2192 - loss: 66528.9184 - regularization_loss: 0.0000e+00 - total_loss: 66528.9184 - val_factorized_top_k/top_1_categorical_accuracy: 0.0024 - val_factorized_top_k/top_5_categorical_accuracy: 0.0153 - val_factorized_top_k/top_10_categorical_accuracy: 0.0300 - val_factorized_top_k/top_50_categorical_accuracy: 0.1195 - val_factorized_top_k/top_100_categorical_accuracy: 0.2020 - val_loss: 867.0103 - val_regularization_loss: 0.0000e+00 - val_total_loss: 867.0103\n",
      "Epoch 17/32\n",
      "92/92 [==============================] - 434s 5s/step - factorized_top_k/top_1_categorical_accuracy: 0.0016 - factorized_top_k/top_5_categorical_accuracy: 0.0167 - factorized_top_k/top_10_categorical_accuracy: 0.0332 - factorized_top_k/top_50_categorical_accuracy: 0.1312 - factorized_top_k/top_100_categorical_accuracy: 0.2192 - loss: 66492.7148 - regularization_loss: 0.0000e+00 - total_loss: 66492.7148 - val_factorized_top_k/top_1_categorical_accuracy: 0.0024 - val_factorized_top_k/top_5_categorical_accuracy: 0.0150 - val_factorized_top_k/top_10_categorical_accuracy: 0.0297 - val_factorized_top_k/top_50_categorical_accuracy: 0.1190 - val_factorized_top_k/top_100_categorical_accuracy: 0.2015 - val_loss: 866.5709 - val_regularization_loss: 0.0000e+00 - val_total_loss: 866.5709\n",
      "Epoch 18/32\n",
      "92/92 [==============================] - 432s 5s/step - factorized_top_k/top_1_categorical_accuracy: 0.0016 - factorized_top_k/top_5_categorical_accuracy: 0.0165 - factorized_top_k/top_10_categorical_accuracy: 0.0331 - factorized_top_k/top_50_categorical_accuracy: 0.1310 - factorized_top_k/top_100_categorical_accuracy: 0.2192 - loss: 66459.7595 - regularization_loss: 0.0000e+00 - total_loss: 66459.7595 - val_factorized_top_k/top_1_categorical_accuracy: 0.0023 - val_factorized_top_k/top_5_categorical_accuracy: 0.0150 - val_factorized_top_k/top_10_categorical_accuracy: 0.0294 - val_factorized_top_k/top_50_categorical_accuracy: 0.1188 - val_factorized_top_k/top_100_categorical_accuracy: 0.2012 - val_loss: 866.1687 - val_regularization_loss: 0.0000e+00 - val_total_loss: 866.1687\n",
      "Epoch 19/32\n",
      "92/92 [==============================] - 434s 5s/step - factorized_top_k/top_1_categorical_accuracy: 0.0015 - factorized_top_k/top_5_categorical_accuracy: 0.0164 - factorized_top_k/top_10_categorical_accuracy: 0.0329 - factorized_top_k/top_50_categorical_accuracy: 0.1309 - factorized_top_k/top_100_categorical_accuracy: 0.2192 - loss: 66429.5919 - regularization_loss: 0.0000e+00 - total_loss: 66429.5919 - val_factorized_top_k/top_1_categorical_accuracy: 0.0024 - val_factorized_top_k/top_5_categorical_accuracy: 0.0149 - val_factorized_top_k/top_10_categorical_accuracy: 0.0293 - val_factorized_top_k/top_50_categorical_accuracy: 0.1184 - val_factorized_top_k/top_100_categorical_accuracy: 0.2008 - val_loss: 865.7987 - val_regularization_loss: 0.0000e+00 - val_total_loss: 865.7987\n",
      "Epoch 20/32\n",
      "92/92 [==============================] - 436s 5s/step - factorized_top_k/top_1_categorical_accuracy: 0.0015 - factorized_top_k/top_5_categorical_accuracy: 0.0163 - factorized_top_k/top_10_categorical_accuracy: 0.0329 - factorized_top_k/top_50_categorical_accuracy: 0.1309 - factorized_top_k/top_100_categorical_accuracy: 0.2193 - loss: 66401.8374 - regularization_loss: 0.0000e+00 - total_loss: 66401.8374 - val_factorized_top_k/top_1_categorical_accuracy: 0.0025 - val_factorized_top_k/top_5_categorical_accuracy: 0.0149 - val_factorized_top_k/top_10_categorical_accuracy: 0.0291 - val_factorized_top_k/top_50_categorical_accuracy: 0.1181 - val_factorized_top_k/top_100_categorical_accuracy: 0.2006 - val_loss: 865.4566 - val_regularization_loss: 0.0000e+00 - val_total_loss: 865.4566\n",
      "Epoch 21/32\n"
     ]
    },
    {
     "name": "stdout",
     "output_type": "stream",
     "text": [
      "92/92 [==============================] - 436s 5s/step - factorized_top_k/top_1_categorical_accuracy: 0.0015 - factorized_top_k/top_5_categorical_accuracy: 0.0164 - factorized_top_k/top_10_categorical_accuracy: 0.0328 - factorized_top_k/top_50_categorical_accuracy: 0.1308 - factorized_top_k/top_100_categorical_accuracy: 0.2194 - loss: 66376.1901 - regularization_loss: 0.0000e+00 - total_loss: 66376.1901 - val_factorized_top_k/top_1_categorical_accuracy: 0.0023 - val_factorized_top_k/top_5_categorical_accuracy: 0.0147 - val_factorized_top_k/top_10_categorical_accuracy: 0.0290 - val_factorized_top_k/top_50_categorical_accuracy: 0.1179 - val_factorized_top_k/top_100_categorical_accuracy: 0.2005 - val_loss: 865.1389 - val_regularization_loss: 0.0000e+00 - val_total_loss: 865.1389\n",
      "Epoch 22/32\n",
      "92/92 [==============================] - 433s 5s/step - factorized_top_k/top_1_categorical_accuracy: 0.0016 - factorized_top_k/top_5_categorical_accuracy: 0.0163 - factorized_top_k/top_10_categorical_accuracy: 0.0327 - factorized_top_k/top_50_categorical_accuracy: 0.1308 - factorized_top_k/top_100_categorical_accuracy: 0.2195 - loss: 66352.3931 - regularization_loss: 0.0000e+00 - total_loss: 66352.3931 - val_factorized_top_k/top_1_categorical_accuracy: 0.0023 - val_factorized_top_k/top_5_categorical_accuracy: 0.0146 - val_factorized_top_k/top_10_categorical_accuracy: 0.0291 - val_factorized_top_k/top_50_categorical_accuracy: 0.1177 - val_factorized_top_k/top_100_categorical_accuracy: 0.2003 - val_loss: 864.8427 - val_regularization_loss: 0.0000e+00 - val_total_loss: 864.8427\n",
      "Epoch 23/32\n",
      "92/92 [==============================] - 394s 4s/step - factorized_top_k/top_1_categorical_accuracy: 0.0015 - factorized_top_k/top_5_categorical_accuracy: 0.0162 - factorized_top_k/top_10_categorical_accuracy: 0.0326 - factorized_top_k/top_50_categorical_accuracy: 0.1308 - factorized_top_k/top_100_categorical_accuracy: 0.2196 - loss: 66330.2307 - regularization_loss: 0.0000e+00 - total_loss: 66330.2307 - val_factorized_top_k/top_1_categorical_accuracy: 0.0024 - val_factorized_top_k/top_5_categorical_accuracy: 0.0145 - val_factorized_top_k/top_10_categorical_accuracy: 0.0289 - val_factorized_top_k/top_50_categorical_accuracy: 0.1174 - val_factorized_top_k/top_100_categorical_accuracy: 0.2003 - val_loss: 864.5655 - val_regularization_loss: 0.0000e+00 - val_total_loss: 864.5655\n",
      "Epoch 24/32\n",
      "92/92 [==============================] - 393s 4s/step - factorized_top_k/top_1_categorical_accuracy: 0.0015 - factorized_top_k/top_5_categorical_accuracy: 0.0163 - factorized_top_k/top_10_categorical_accuracy: 0.0326 - factorized_top_k/top_50_categorical_accuracy: 0.1309 - factorized_top_k/top_100_categorical_accuracy: 0.2198 - loss: 66309.5233 - regularization_loss: 0.0000e+00 - total_loss: 66309.5233 - val_factorized_top_k/top_1_categorical_accuracy: 0.0023 - val_factorized_top_k/top_5_categorical_accuracy: 0.0146 - val_factorized_top_k/top_10_categorical_accuracy: 0.0289 - val_factorized_top_k/top_50_categorical_accuracy: 0.1173 - val_factorized_top_k/top_100_categorical_accuracy: 0.2002 - val_loss: 864.3054 - val_regularization_loss: 0.0000e+00 - val_total_loss: 864.3054\n",
      "Epoch 25/32\n",
      "92/92 [==============================] - 392s 4s/step - factorized_top_k/top_1_categorical_accuracy: 0.0015 - factorized_top_k/top_5_categorical_accuracy: 0.0163 - factorized_top_k/top_10_categorical_accuracy: 0.0325 - factorized_top_k/top_50_categorical_accuracy: 0.1309 - factorized_top_k/top_100_categorical_accuracy: 0.2199 - loss: 66290.1116 - regularization_loss: 0.0000e+00 - total_loss: 66290.1116 - val_factorized_top_k/top_1_categorical_accuracy: 0.0023 - val_factorized_top_k/top_5_categorical_accuracy: 0.0145 - val_factorized_top_k/top_10_categorical_accuracy: 0.0288 - val_factorized_top_k/top_50_categorical_accuracy: 0.1172 - val_factorized_top_k/top_100_categorical_accuracy: 0.2001 - val_loss: 864.0607 - val_regularization_loss: 0.0000e+00 - val_total_loss: 864.0607\n",
      "Epoch 26/32\n",
      "92/92 [==============================] - 394s 4s/step - factorized_top_k/top_1_categorical_accuracy: 0.0015 - factorized_top_k/top_5_categorical_accuracy: 0.0163 - factorized_top_k/top_10_categorical_accuracy: 0.0326 - factorized_top_k/top_50_categorical_accuracy: 0.1310 - factorized_top_k/top_100_categorical_accuracy: 0.2202 - loss: 66271.8664 - regularization_loss: 0.0000e+00 - total_loss: 66271.8664 - val_factorized_top_k/top_1_categorical_accuracy: 0.0024 - val_factorized_top_k/top_5_categorical_accuracy: 0.0145 - val_factorized_top_k/top_10_categorical_accuracy: 0.0288 - val_factorized_top_k/top_50_categorical_accuracy: 0.1171 - val_factorized_top_k/top_100_categorical_accuracy: 0.2001 - val_loss: 863.8296 - val_regularization_loss: 0.0000e+00 - val_total_loss: 863.8296\n",
      "Epoch 27/32\n",
      "92/92 [==============================] - 389s 4s/step - factorized_top_k/top_1_categorical_accuracy: 0.0015 - factorized_top_k/top_5_categorical_accuracy: 0.0162 - factorized_top_k/top_10_categorical_accuracy: 0.0325 - factorized_top_k/top_50_categorical_accuracy: 0.1310 - factorized_top_k/top_100_categorical_accuracy: 0.2204 - loss: 66254.6725 - regularization_loss: 0.0000e+00 - total_loss: 66254.6725 - val_factorized_top_k/top_1_categorical_accuracy: 0.0024 - val_factorized_top_k/top_5_categorical_accuracy: 0.0145 - val_factorized_top_k/top_10_categorical_accuracy: 0.0286 - val_factorized_top_k/top_50_categorical_accuracy: 0.1170 - val_factorized_top_k/top_100_categorical_accuracy: 0.2002 - val_loss: 863.6110 - val_regularization_loss: 0.0000e+00 - val_total_loss: 863.6110\n",
      "Epoch 28/32\n",
      "92/92 [==============================] - 458s 5s/step - factorized_top_k/top_1_categorical_accuracy: 0.0016 - factorized_top_k/top_5_categorical_accuracy: 0.0162 - factorized_top_k/top_10_categorical_accuracy: 0.0326 - factorized_top_k/top_50_categorical_accuracy: 0.1311 - factorized_top_k/top_100_categorical_accuracy: 0.2206 - loss: 66238.4308 - regularization_loss: 0.0000e+00 - total_loss: 66238.4308 - val_factorized_top_k/top_1_categorical_accuracy: 0.0024 - val_factorized_top_k/top_5_categorical_accuracy: 0.0145 - val_factorized_top_k/top_10_categorical_accuracy: 0.0285 - val_factorized_top_k/top_50_categorical_accuracy: 0.1169 - val_factorized_top_k/top_100_categorical_accuracy: 0.2002 - val_loss: 863.4038 - val_regularization_loss: 0.0000e+00 - val_total_loss: 863.4038\n",
      "Epoch 29/32\n",
      "92/92 [==============================] - 459s 5s/step - factorized_top_k/top_1_categorical_accuracy: 0.0015 - factorized_top_k/top_5_categorical_accuracy: 0.0163 - factorized_top_k/top_10_categorical_accuracy: 0.0326 - factorized_top_k/top_50_categorical_accuracy: 0.1312 - factorized_top_k/top_100_categorical_accuracy: 0.2208 - loss: 66223.0549 - regularization_loss: 0.0000e+00 - total_loss: 66223.0549 - val_factorized_top_k/top_1_categorical_accuracy: 0.0023 - val_factorized_top_k/top_5_categorical_accuracy: 0.0146 - val_factorized_top_k/top_10_categorical_accuracy: 0.0285 - val_factorized_top_k/top_50_categorical_accuracy: 0.1169 - val_factorized_top_k/top_100_categorical_accuracy: 0.2003 - val_loss: 863.2068 - val_regularization_loss: 0.0000e+00 - val_total_loss: 863.2068\n",
      "Epoch 30/32\n",
      "92/92 [==============================] - 354s 4s/step - factorized_top_k/top_1_categorical_accuracy: 0.0015 - factorized_top_k/top_5_categorical_accuracy: 0.0162 - factorized_top_k/top_10_categorical_accuracy: 0.0326 - factorized_top_k/top_50_categorical_accuracy: 0.1313 - factorized_top_k/top_100_categorical_accuracy: 0.2210 - loss: 66208.4695 - regularization_loss: 0.0000e+00 - total_loss: 66208.4695 - val_factorized_top_k/top_1_categorical_accuracy: 0.0022 - val_factorized_top_k/top_5_categorical_accuracy: 0.0144 - val_factorized_top_k/top_10_categorical_accuracy: 0.0284 - val_factorized_top_k/top_50_categorical_accuracy: 0.1168 - val_factorized_top_k/top_100_categorical_accuracy: 0.2004 - val_loss: 863.0193 - val_regularization_loss: 0.0000e+00 - val_total_loss: 863.0193\n",
      "Epoch 31/32\n",
      "92/92 [==============================] - 383s 4s/step - factorized_top_k/top_1_categorical_accuracy: 0.0016 - factorized_top_k/top_5_categorical_accuracy: 0.0163 - factorized_top_k/top_10_categorical_accuracy: 0.0326 - factorized_top_k/top_50_categorical_accuracy: 0.1314 - factorized_top_k/top_100_categorical_accuracy: 0.2213 - loss: 66194.6051 - regularization_loss: 0.0000e+00 - total_loss: 66194.6051 - val_factorized_top_k/top_1_categorical_accuracy: 0.0023 - val_factorized_top_k/top_5_categorical_accuracy: 0.0145 - val_factorized_top_k/top_10_categorical_accuracy: 0.0285 - val_factorized_top_k/top_50_categorical_accuracy: 0.1169 - val_factorized_top_k/top_100_categorical_accuracy: 0.2006 - val_loss: 862.8405 - val_regularization_loss: 0.0000e+00 - val_total_loss: 862.8405\n",
      "Epoch 32/32\n",
      "92/92 [==============================] - 408s 4s/step - factorized_top_k/top_1_categorical_accuracy: 0.0015 - factorized_top_k/top_5_categorical_accuracy: 0.0163 - factorized_top_k/top_10_categorical_accuracy: 0.0326 - factorized_top_k/top_50_categorical_accuracy: 0.1316 - factorized_top_k/top_100_categorical_accuracy: 0.2214 - loss: 66181.4059 - regularization_loss: 0.0000e+00 - total_loss: 66181.4059 - val_factorized_top_k/top_1_categorical_accuracy: 0.0023 - val_factorized_top_k/top_5_categorical_accuracy: 0.0145 - val_factorized_top_k/top_10_categorical_accuracy: 0.0284 - val_factorized_top_k/top_50_categorical_accuracy: 0.1168 - val_factorized_top_k/top_100_categorical_accuracy: 0.2007 - val_loss: 862.6697 - val_regularization_loss: 0.0000e+00 - val_total_loss: 862.6697\n"
     ]
    }
   ],
   "source": [
    "# Then, let's train the model:\n",
    "history_train = model.fit(cached_train, validation_data = cached_test, epochs=32)"
   ]
  },
  {
   "cell_type": "markdown",
   "id": "fe30c622",
   "metadata": {},
   "source": [
    "As the model trains, the loss is falling and a set of top-k retrieval metrics is updated. These tell us whether the true positive is in the top-k retrieved items from the entire candidate set. For example, a top-5 categorical accuracy metric of 0.2 would tell us that, on average, the true positive is in the top 5 retrieved items 20% of the time."
   ]
  },
  {
   "cell_type": "markdown",
   "id": "b258aea3",
   "metadata": {},
   "source": [
    "### 4.6 Visualization: Total loss and Accuracy over epochs"
   ]
  },
  {
   "cell_type": "code",
   "execution_count": 63,
   "id": "54580136",
   "metadata": {},
   "outputs": [
    {
     "data": {
      "image/png": "[encoded data removed]",
      "text/plain": [
       "<Figure size 1152x432 with 1 Axes>"
      ]
     },
     "metadata": {},
     "output_type": "display_data"
    }
   ],
   "source": [
    "plt.subplots(figsize = (16,6))\n",
    "plt.plot(history_train.history['total_loss'] )\n",
    "plt.title(\"Total Loss over epochs\", fontsize=14)\n",
    "plt.ylabel('Loss Total')\n",
    "plt.xlabel('epochs')\n",
    "plt.show()\n"
   ]
  },
  {
   "cell_type": "code",
   "execution_count": 64,
   "id": "68828203",
   "metadata": {},
   "outputs": [
    {
     "data": {
      "image/png": "[encoded data removed]",
      "text/plain": [
       "<Figure size 1152x432 with 1 Axes>"
      ]
     },
     "metadata": {},
     "output_type": "display_data"
    }
   ],
   "source": [
    "plt.subplots(figsize = (16,6))\n",
    "plt.plot(history_train.history['factorized_top_k/top_100_categorical_accuracy'],color='green', alpha=0.8, label='Train' )\n",
    "plt.plot(history_train.history['val_factorized_top_k/top_100_categorical_accuracy'],color='red', alpha=0.8, label='Test' )\n",
    "plt.title(\"Accuracy over epochs\", fontsize=14)\n",
    "plt.ylabel('Accuracy')\n",
    "plt.xlabel('epochs')\n",
    "plt.legend(loc='upper left')\n",
    "plt.show()"
   ]
  },
  {
   "cell_type": "code",
   "execution_count": 57,
   "id": "78533902",
   "metadata": {},
   "outputs": [
    {
     "name": "stdout",
     "output_type": "stream",
     "text": [
      "123/123 [==============================] - 30s 245ms/step - factorized_top_k/top_1_categorical_accuracy: 0.0023 - factorized_top_k/top_5_categorical_accuracy: 0.0145 - factorized_top_k/top_10_categorical_accuracy: 0.0284 - factorized_top_k/top_50_categorical_accuracy: 0.1168 - factorized_top_k/top_100_categorical_accuracy: 0.2007 - loss: 13848.8548 - regularization_loss: 0.0000e+00 - total_loss: 13848.8548\n"
     ]
    },
    {
     "data": {
      "text/plain": [
       "{'factorized_top_k/top_1_categorical_accuracy': 0.002323516644537449,\n",
       " 'factorized_top_k/top_5_categorical_accuracy': 0.01446499116718769,\n",
       " 'factorized_top_k/top_10_categorical_accuracy': 0.028442084789276123,\n",
       " 'factorized_top_k/top_50_categorical_accuracy': 0.11681970208883286,\n",
       " 'factorized_top_k/top_100_categorical_accuracy': 0.20065826177597046,\n",
       " 'loss': 862.669677734375,\n",
       " 'regularization_loss': 0,\n",
       " 'total_loss': 862.669677734375}"
      ]
     },
     "execution_count": 57,
     "metadata": {},
     "output_type": "execute_result"
    }
   ],
   "source": [
    "#Evaluate the model\n",
    "model.evaluate(cached_test, return_dict=True)"
   ]
  },
  {
   "cell_type": "markdown",
   "id": "a9bc1f75",
   "metadata": {},
   "source": [
    "Test set performance is much worse than training performance. This is due to two factors:\n",
    "\n",
    " * Our model is likely to perform better on the data that it has seen, simply because it can memorize it. This overfitting phenomenon is especially strong when models have many parameters. It can be mediated by model regularization and use of user and movie features that help the model generalize better to unseen data.\n",
    " * The model is re-recommending some of users' already watched movies. These known-positive watches can crowd out test movies out of top K recommendations.\n",
    "\n",
    "The second phenomenon can be tackled by excluding previously seen movies from test recommendations. This approach is relatively common in the recommender systems literature, but we don't follow it in these tutorials. If not recommending past watches is important, we should expect appropriately specified models to learn this behaviour automatically from past user history and contextual information. Additionally, it is often appropriate to recommend the same item multiple times (say, an evergreen TV series or a regularly purchased item)."
   ]
  },
  {
   "cell_type": "markdown",
   "id": "9d4d6222",
   "metadata": {},
   "source": [
    "## 5. Making predictions\n",
    "\n",
    "Now that we have a model, we would like to be able to make predictions. We can use the tfrs.layers.factorized_top_k.BruteForce layer to do this."
   ]
  },
  {
   "cell_type": "code",
   "execution_count": 72,
   "id": "e25fee54",
   "metadata": {},
   "outputs": [
    {
     "name": "stdout",
     "output_type": "stream",
     "text": [
      "Recommendations for user 42: [b'Dune (1984)' b'Arrival, The (1996)' b'Nineteen Eighty-Four (1984)'\n",
      " b'Adventures of Buckaroo Bonzai Across the 8th Dimension, The (1984)'\n",
      " b\"Logan's Run (1976)\"]\n"
     ]
    }
   ],
   "source": [
    "# Recommend the 5 best movies for user 42:\n",
    "\n",
    "# Create a model that takes in raw query features, and\n",
    "index = tfrs.layers.factorized_top_k.BruteForce(model.user_model)\n",
    "\n",
    "# recommends movies out of the entire movies dataset.\n",
    "index.index(movies.batch(100).map(model.movie_model), movies)\n",
    "\n",
    "# Get recommendations.\n",
    "_, titles = index(tf.constant([\"42\"]))\n",
    "print(f\"Recommendations for user 42: {titles[0, :5]}\")"
   ]
  },
  {
   "cell_type": "markdown",
   "id": "5cee7f3e",
   "metadata": {},
   "source": [
    "## 6. Model serving\n",
    "\n",
    "After the model is trained, we need a way to deploy it.\n",
    "\n",
    "In a two-tower retrieval model, serving has two components:\n",
    "\n",
    " * a serving query model, taking in features of the query and transforming them into a query embedding, and\n",
    " * a serving candidate model. This most often takes the form of an approximate nearest neighbours (ANN) index which allows fast approximate lookup of candidates in response to a query produced by the query model.\n",
    " \n",
    "In TFRS, both components can be packaged into a single exportable model, giving us a model that takes the raw user id and returns the titles of top movies for that user. This is done via exporting the model to a SavedModel format, which makes it possible to serve using [TensorFlow Serving](https://www.tensorflow.org/tfx/guide/serving).\n",
    "\n",
    "To deploy a model like this, we simply export the BruteForce layer we created above:"
   ]
  },
  {
   "cell_type": "code",
   "execution_count": null,
   "id": "0a2d87bd",
   "metadata": {},
   "outputs": [],
   "source": [
    "# Export the query model.\n",
    "with tempfile.TemporaryDirectory() as tmp:\n",
    "    path = os.path.join(tmp, \"model\")\n",
    "\n",
    "  # Save the index.\n",
    "    index.save(path)\n",
    "\n",
    "  # Load it back; can also be done in TensorFlow Serving.\n",
    "    loaded = tf.keras.models.load_model(path)\n",
    "\n",
    "  # Pass a user id in, get top predicted movie titles back.\n",
    "    scores, titles = loaded([\"42\"])\n",
    "    \n",
    "    print(f\"Recommendations: {titles[0][:5]}\")"
   ]
  },
  {
   "cell_type": "code",
   "execution_count": 3,
   "id": "76d96ef3",
   "metadata": {},
   "outputs": [
    {
     "data": {
      "text/html": [
       "<style>.container { width:75% !important; }</style>"
      ],
      "text/plain": [
       "<IPython.core.display.HTML object>"
      ]
     },
     "metadata": {},
     "output_type": "display_data"
    }
   ],
   "source": [
    "from IPython.core.display import display, HTML\n",
    "display(HTML(\"<style>.container { width:75% !important; }</style>\"))"
   ]
  },
  {
   "cell_type": "code",
   "execution_count": null,
   "id": "7ef66c37",
   "metadata": {},
   "outputs": [],
   "source": []
  }
 ],
 "metadata": {
  "kernelspec": {
   "display_name": "Python [conda env:tfrs] *",
   "language": "python",
   "name": "conda-env-tfrs-py"
  },
  "language_info": {
   "codemirror_mode": {
    "name": "ipython",
    "version": 3
   },
   "file_extension": ".py",
   "mimetype": "text/x-python",
   "name": "python",
   "nbconvert_exporter": "python",
   "pygments_lexer": "ipython3",
   "version": "3.7.10"
  }
 },
 "nbformat": 4,
 "nbformat_minor": 5
}
