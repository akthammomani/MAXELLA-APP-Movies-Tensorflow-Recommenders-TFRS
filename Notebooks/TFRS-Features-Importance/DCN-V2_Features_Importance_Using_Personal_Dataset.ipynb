{
 "cells": [
  {
   "cell_type": "markdown",
   "id": "6163fad7",
   "metadata": {},
   "source": [
    "# Features Importance Using Deep & Cross Network (DCN-V2)\n",
    "\n",
    "\n",
    "![logo_small](https://user-images.githubusercontent.com/67468718/127299425-533f0a3c-c965-42a5-886a-5272170d9e0e.JPG)\n",
    "\n",
    "\n",
    "\n",
    "## 1. Introduction: Deep & Cross Network (DCN-V2)\n",
    "\n",
    "**Deep and cross network, short for DCN**, came out of Google Research, and is designed to learn explicit and bounded-degree cross features effectively:\n",
    " * large and sparse feature space is extremely hard to train.\n",
    " * Oftentimes, we needed to do a lot of manual feature engineering, including designing cross features, which is very challenging and less effective.\n",
    " * Whilst possible to use additional neural networks under such circumstances, it's not the most efficient approach.\n",
    " \n",
    "***Deep and cross network (DCN) is specifically designed to tackle all above challenges.***\n",
    "\n",
    "\n",
    "### 1.1 Feature Cross\n",
    "\n",
    "Let's say we're building a recommender system to sell a blender to customers. Then our customers' past purchase history, such as purchased bananas and purchased cooking books, or geographic features are single features. If one has purchased both bananas and cooking books, then this customer will be more likely to click on the recommended blender. The combination of purchased bananas and the purchased cooking books is referred to as feature cross, which provides additional interaction information beyond the individual features. You can keep adding more cross features to even higher degrees:\n",
    "\n",
    "![feature_cross](https://user-images.githubusercontent.com/67468718/135774082-c46d2f22-ea20-451c-af1a-ee4453f69176.JPG)\n",
    "\n",
    "### 1.2 Cross Network\n",
    "\n",
    "In real world recommendation systems, we often have large and sparse feature space. So identifying effective feature processes in this setting would often require manual feature engineering or exhaustive search, which is highly inefficient. To tackle this issue, ***Google Research team has proposed Deep and Cross Network, DCN.***\n",
    "\n",
    "It starts with an input layer, typically an embedding layer, followed by a cross network containing multiple cross layers that models explicitly feature interactions, and then combines with a deep network that models implicit feature interactions. The deep network is just a traditional multilayer construction. But the core of DCN is really the cross network. It explicitly applies feature crossing at each layer. And the highest polynomial degree increases with layer depth. The figure here shows the deep and cross layer in the mathematical form.\n",
    "\n",
    "![dcn](https://user-images.githubusercontent.com/67468718/135774206-d017c326-2568-49ce-ab13-98b696e6de84.JPG)\n",
    "\n",
    "### 1.3 Deep & Cross Network Architecture\n",
    "\n",
    "There are a couple of ways to combine the cross network and the deep networ:\n",
    " * Stack the deep network on top of the cross network.\n",
    " * Place deep & cross networs in parallel.\n",
    " \n",
    "![DCN_structure](https://user-images.githubusercontent.com/67468718/135774992-b26eabcf-bd9e-40c2-b702-abb1cb193ff7.JPG)"
   ]
  },
  {
   "cell_type": "markdown",
   "id": "9b47fa7f",
   "metadata": {},
   "source": [
    "## 2. Dataset: \n",
    "\n",
    "**Movie Lens** contains a set of movie ratings from the MovieLens website, a movie recommendation service. This dataset was collected and maintained by [GroupLens](https://grouplens.org/) , a research group at the University of Minnesota. There are 5 versions included: \"25m\", \"latest-small\", \"100k\", \"1m\", \"20m\". In all datasets, the movies data and ratings data are joined on \"movieId\". The 25m dataset, latest-small dataset, and 20m dataset contain only movie data and rating data. The 1m dataset and 100k dataset contain demographic data in addition to movie and rating data.\n",
    "\n",
    "**movie_lens/1m** can be treated in two ways:\n",
    "\n",
    "  * It can be interpreted as expressesing which movies the users watched (and rated), and which they did not. This is a form of *implicit feedback*, where users' watches tell us which things they prefer to see and which they'd rather not see (This means that every movie a user watched is a positive example, and every movie they have not seen is an implicit negative example).\n",
    "  * It can also be seen as expressesing how much the users liked the movies they did watch. This is a form of *explicit feedback*: given that a user watched a movie, we can tell roughly how much they liked by looking at the rating they have given.\n",
    "\n",
    "\n",
    "\n",
    "**(a) [movie_lens/1m-ratings](https://www.tensorflow.org/datasets/catalog/movie_lens#movie_lens1m-ratings):**\n",
    " * Config description: This dataset contains 1,000,085 anonymous ratings of approximately 3,619 movies made by 6,040 MovieLens users who joined MovieLens. Ratings are in whole-star increments. This dataset contains demographic data of users in addition to data on movies and ratings.\n",
    " * This dataset is the largest dataset that includes demographic data from movie_lens.\n",
    " * \"user_gender\": gender of the user who made the rating; a true value corresponds to male\n",
    " * \"bucketized_user_age\": bucketized age values of the user who made the rating, the values and the corresponding ranges are:\n",
    "   * 1: \"Under 18\"\n",
    "   * 18: \"18-24\"\n",
    "   * 25: \"25-34\"\n",
    "   * 35: \"35-44\"\n",
    "   * 45: \"45-49\"\n",
    "   * 50: \"50-55\"\n",
    "   * 56: \"56+\"\n",
    " * \"user_occupation_label\": the occupation of the user who made the rating represented by an integer-encoded label; labels are preprocessed to be consistent across different versions\n",
    " * \"user_occupation_text\": the occupation of the user who made the rating in the original string; different versions can have different set of raw text labels\n",
    " * \"user_zip_code\": the zip code of the user who made the rating.\n",
    " * \"release_date\": This is the movie release date, in unix epoch (UTC - units of seconds) (int64).\n",
    " * \"director\": This is the director of the movie.\n",
    " * \"start\": This is the main star of the movie.\n",
    "\n"
   ]
  },
  {
   "cell_type": "markdown",
   "id": "7c51a05e",
   "metadata": {},
   "source": [
    "## 3. Sourcing and Loading\n",
    "\n",
    "### 3.1 Import relevant libraries"
   ]
  },
  {
   "cell_type": "code",
   "execution_count": 2,
   "id": "7d223838",
   "metadata": {},
   "outputs": [],
   "source": [
    "# Import the necessary Libararies: \n",
    "\n",
    "import os\n",
    "import pprint\n",
    "import tempfile\n",
    "import matplotlib.pyplot as plt\n",
    "from typing import Dict, Text\n",
    "\n",
    "import numpy as np\n",
    "import tensorflow as tf\n",
    "import tensorflow_datasets as tfds\n",
    "from typing import Dict, Text\n",
    "import pandas as pd\n",
    "import numpy as np\n",
    "\n",
    "import tensorflow as tf\n",
    "\n",
    "import tensorflow_datasets as tfds\n",
    "import tensorflow_recommenders as tfrs\n",
    "\n",
    "plt.style.use('ggplot')"
   ]
  },
  {
   "cell_type": "markdown",
   "id": "10b9d01a",
   "metadata": {},
   "source": [
    "### 3.2 Preparing the dataset\n",
    "\n",
    "Let's first have a look at the data.\n",
    "\n",
    "We use the MovieLens dataset from Tensorflow Datasets. Loading **[movie_lens/1m-ratings](https://www.tensorflow.org/datasets/catalog/movie_lens#movie_lens1m-ratings)** yields a ***tf.data.Dataset*** object containing the ratings data and loading **[movie_lens/1m-movies](https://www.tensorflow.org/datasets/catalog/movie_lens#movie_lens1m-movies)** yields a ***tf.data.Dataset*** object containing only the movies data.\n",
    "\n",
    "Note that since the MovieLens dataset does not have predefined splits, all data are under train split."
   ]
  },
  {
   "cell_type": "code",
   "execution_count": 3,
   "id": "72ef79b9",
   "metadata": {},
   "outputs": [],
   "source": [
    "# Now, let's look at the final dataframe where we merged tensorflow dataset with movies_metadata.csv and credits.csv**\n",
    "# let's make sure to use encoding argument to avoid in encoding errors !!!\n",
    "ratings = pd.read_csv('ratings.csv', encoding='ISO-8859-1')"
   ]
  },
  {
   "cell_type": "code",
   "execution_count": 4,
   "id": "27236bab",
   "metadata": {},
   "outputs": [
    {
     "data": {
      "text/html": [
       "<div>\n",
       "<style scoped>\n",
       "    .dataframe tbody tr th:only-of-type {\n",
       "        vertical-align: middle;\n",
       "    }\n",
       "\n",
       "    .dataframe tbody tr th {\n",
       "        vertical-align: top;\n",
       "    }\n",
       "\n",
       "    .dataframe thead th {\n",
       "        text-align: right;\n",
       "    }\n",
       "</style>\n",
       "<table border=\"1\" class=\"dataframe\">\n",
       "  <thead>\n",
       "    <tr style=\"text-align: right;\">\n",
       "      <th></th>\n",
       "      <th>bucketized_user_age</th>\n",
       "      <th>movie_genres</th>\n",
       "      <th>movie_id</th>\n",
       "      <th>movie_title</th>\n",
       "      <th>timestamp</th>\n",
       "      <th>user_gender</th>\n",
       "      <th>user_id</th>\n",
       "      <th>user_occupation_label</th>\n",
       "      <th>user_occupation_text</th>\n",
       "      <th>user_rating</th>\n",
       "      <th>user_zip_code</th>\n",
       "      <th>director</th>\n",
       "      <th>release_date</th>\n",
       "      <th>star</th>\n",
       "    </tr>\n",
       "  </thead>\n",
       "  <tbody>\n",
       "    <tr>\n",
       "      <th>0</th>\n",
       "      <td>50</td>\n",
       "      <td>[7]</td>\n",
       "      <td>1251</td>\n",
       "      <td>Eight and half</td>\n",
       "      <td>974089380</td>\n",
       "      <td>False</td>\n",
       "      <td>2497</td>\n",
       "      <td>14</td>\n",
       "      <td>sales/marketing</td>\n",
       "      <td>3</td>\n",
       "      <td>37922</td>\n",
       "      <td>Federico Fellini</td>\n",
       "      <td>-217123200</td>\n",
       "      <td>Marcello Mastroianni</td>\n",
       "    </tr>\n",
       "    <tr>\n",
       "      <th>1</th>\n",
       "      <td>18</td>\n",
       "      <td>[7]</td>\n",
       "      <td>1251</td>\n",
       "      <td>Eight and half</td>\n",
       "      <td>986722200</td>\n",
       "      <td>True</td>\n",
       "      <td>671</td>\n",
       "      <td>17</td>\n",
       "      <td>college/grad student</td>\n",
       "      <td>5</td>\n",
       "      <td>61761</td>\n",
       "      <td>Federico Fellini</td>\n",
       "      <td>-217123200</td>\n",
       "      <td>Marcello Mastroianni</td>\n",
       "    </tr>\n",
       "    <tr>\n",
       "      <th>2</th>\n",
       "      <td>45</td>\n",
       "      <td>[7]</td>\n",
       "      <td>1251</td>\n",
       "      <td>Eight and half</td>\n",
       "      <td>960071880</td>\n",
       "      <td>False</td>\n",
       "      <td>5590</td>\n",
       "      <td>12</td>\n",
       "      <td>programmer</td>\n",
       "      <td>2</td>\n",
       "      <td>94117</td>\n",
       "      <td>Federico Fellini</td>\n",
       "      <td>-217123200</td>\n",
       "      <td>Marcello Mastroianni</td>\n",
       "    </tr>\n",
       "    <tr>\n",
       "      <th>3</th>\n",
       "      <td>25</td>\n",
       "      <td>[7]</td>\n",
       "      <td>1251</td>\n",
       "      <td>Eight and half</td>\n",
       "      <td>1011993120</td>\n",
       "      <td>True</td>\n",
       "      <td>1851</td>\n",
       "      <td>20</td>\n",
       "      <td>unemployed</td>\n",
       "      <td>5</td>\n",
       "      <td>59602</td>\n",
       "      <td>Federico Fellini</td>\n",
       "      <td>-217123200</td>\n",
       "      <td>Marcello Mastroianni</td>\n",
       "    </tr>\n",
       "    <tr>\n",
       "      <th>4</th>\n",
       "      <td>35</td>\n",
       "      <td>[7]</td>\n",
       "      <td>1251</td>\n",
       "      <td>Eight and half</td>\n",
       "      <td>963100320</td>\n",
       "      <td>False</td>\n",
       "      <td>5526</td>\n",
       "      <td>1</td>\n",
       "      <td>artist</td>\n",
       "      <td>5</td>\n",
       "      <td>27514</td>\n",
       "      <td>Federico Fellini</td>\n",
       "      <td>-217123200</td>\n",
       "      <td>Marcello Mastroianni</td>\n",
       "    </tr>\n",
       "  </tbody>\n",
       "</table>\n",
       "</div>"
      ],
      "text/plain": [
       "   bucketized_user_age movie_genres  movie_id      movie_title   timestamp  \\\n",
       "0                   50          [7]      1251  Eight and half    974089380   \n",
       "1                   18          [7]      1251  Eight and half    986722200   \n",
       "2                   45          [7]      1251  Eight and half    960071880   \n",
       "3                   25          [7]      1251  Eight and half   1011993120   \n",
       "4                   35          [7]      1251  Eight and half    963100320   \n",
       "\n",
       "   user_gender  user_id  user_occupation_label  user_occupation_text  \\\n",
       "0        False     2497                     14       sales/marketing   \n",
       "1         True      671                     17  college/grad student   \n",
       "2        False     5590                     12            programmer   \n",
       "3         True     1851                     20            unemployed   \n",
       "4        False     5526                      1                artist   \n",
       "\n",
       "   user_rating  user_zip_code          director  release_date  \\\n",
       "0            3          37922  Federico Fellini    -217123200   \n",
       "1            5          61761  Federico Fellini    -217123200   \n",
       "2            2          94117  Federico Fellini    -217123200   \n",
       "3            5          59602  Federico Fellini    -217123200   \n",
       "4            5          27514  Federico Fellini    -217123200   \n",
       "\n",
       "                   star  \n",
       "0  Marcello Mastroianni  \n",
       "1  Marcello Mastroianni  \n",
       "2  Marcello Mastroianni  \n",
       "3  Marcello Mastroianni  \n",
       "4  Marcello Mastroianni  "
      ]
     },
     "execution_count": 4,
     "metadata": {},
     "output_type": "execute_result"
    }
   ],
   "source": [
    "# now let's look at the new features we added: 'movie_imdb_id', 'cast', 'director', 'cast_size', 'crew_size', 'imdb_id' and 'release_date':\n",
    "#Also, please note that all wrong spelled movies are corrected!!!!\n",
    "ratings.head()"
   ]
  },
  {
   "cell_type": "code",
   "execution_count": 5,
   "id": "ffd71fac",
   "metadata": {},
   "outputs": [
    {
     "name": "stdout",
     "output_type": "stream",
     "text": [
      "<class 'pandas.core.frame.DataFrame'>\n",
      "RangeIndex: 1000085 entries, 0 to 1000084\n",
      "Data columns (total 14 columns):\n",
      " #   Column                 Non-Null Count    Dtype \n",
      "---  ------                 --------------    ----- \n",
      " 0   bucketized_user_age    1000085 non-null  int64 \n",
      " 1   movie_genres           1000085 non-null  object\n",
      " 2   movie_id               1000085 non-null  int64 \n",
      " 3   movie_title            1000085 non-null  object\n",
      " 4   timestamp              1000085 non-null  int64 \n",
      " 5   user_gender            1000085 non-null  bool  \n",
      " 6   user_id                1000085 non-null  int64 \n",
      " 7   user_occupation_label  1000085 non-null  int64 \n",
      " 8   user_occupation_text   1000085 non-null  object\n",
      " 9   user_rating            1000085 non-null  int64 \n",
      " 10  user_zip_code          1000085 non-null  int64 \n",
      " 11  director               1000085 non-null  object\n",
      " 12  release_date           1000085 non-null  int64 \n",
      " 13  star                   1000085 non-null  object\n",
      "dtypes: bool(1), int64(8), object(5)\n",
      "memory usage: 100.1+ MB\n"
     ]
    }
   ],
   "source": [
    "ratings.info()"
   ]
  },
  {
   "cell_type": "code",
   "execution_count": 6,
   "id": "c0c2ff60",
   "metadata": {},
   "outputs": [],
   "source": [
    "# movie_id from int to str:\n",
    "ratings['movie_id'] = ratings['movie_id'].astype('str')"
   ]
  },
  {
   "cell_type": "code",
   "execution_count": 7,
   "id": "75b95d5c",
   "metadata": {},
   "outputs": [],
   "source": [
    "# user_id from int to str:\n",
    "ratings['user_id'] = ratings['user_id'].astype('str')"
   ]
  },
  {
   "cell_type": "code",
   "execution_count": 8,
   "id": "d20dc54e",
   "metadata": {},
   "outputs": [],
   "source": [
    "# user_zip_code from int to str:\n",
    "ratings['user_zip_code'] = ratings['user_zip_code'].astype('str')"
   ]
  },
  {
   "cell_type": "code",
   "execution_count": 9,
   "id": "35c2ccab",
   "metadata": {},
   "outputs": [
    {
     "data": {
      "text/html": [
       "<div>\n",
       "<style scoped>\n",
       "    .dataframe tbody tr th:only-of-type {\n",
       "        vertical-align: middle;\n",
       "    }\n",
       "\n",
       "    .dataframe tbody tr th {\n",
       "        vertical-align: top;\n",
       "    }\n",
       "\n",
       "    .dataframe thead tr th {\n",
       "        text-align: left;\n",
       "    }\n",
       "</style>\n",
       "<table border=\"1\" class=\"dataframe\">\n",
       "  <thead>\n",
       "    <tr>\n",
       "      <th></th>\n",
       "      <th>count</th>\n",
       "      <th>data_type</th>\n",
       "      <th>missing_count</th>\n",
       "      <th>missing%</th>\n",
       "    </tr>\n",
       "  </thead>\n",
       "  <tbody>\n",
       "    <tr>\n",
       "      <th>bucketized_user_age</th>\n",
       "      <td>7</td>\n",
       "      <td>int64</td>\n",
       "      <td>0</td>\n",
       "      <td>0.0</td>\n",
       "    </tr>\n",
       "    <tr>\n",
       "      <th>movie_genres</th>\n",
       "      <td>302</td>\n",
       "      <td>object</td>\n",
       "      <td>0</td>\n",
       "      <td>0.0</td>\n",
       "    </tr>\n",
       "    <tr>\n",
       "      <th>movie_id</th>\n",
       "      <td>3656</td>\n",
       "      <td>object</td>\n",
       "      <td>0</td>\n",
       "      <td>0.0</td>\n",
       "    </tr>\n",
       "    <tr>\n",
       "      <th>movie_title</th>\n",
       "      <td>3619</td>\n",
       "      <td>object</td>\n",
       "      <td>0</td>\n",
       "      <td>0.0</td>\n",
       "    </tr>\n",
       "    <tr>\n",
       "      <th>timestamp</th>\n",
       "      <td>174246</td>\n",
       "      <td>int64</td>\n",
       "      <td>0</td>\n",
       "      <td>0.0</td>\n",
       "    </tr>\n",
       "    <tr>\n",
       "      <th>user_gender</th>\n",
       "      <td>2</td>\n",
       "      <td>bool</td>\n",
       "      <td>0</td>\n",
       "      <td>0.0</td>\n",
       "    </tr>\n",
       "    <tr>\n",
       "      <th>user_id</th>\n",
       "      <td>6040</td>\n",
       "      <td>object</td>\n",
       "      <td>0</td>\n",
       "      <td>0.0</td>\n",
       "    </tr>\n",
       "    <tr>\n",
       "      <th>user_occupation_label</th>\n",
       "      <td>21</td>\n",
       "      <td>int64</td>\n",
       "      <td>0</td>\n",
       "      <td>0.0</td>\n",
       "    </tr>\n",
       "    <tr>\n",
       "      <th>user_occupation_text</th>\n",
       "      <td>21</td>\n",
       "      <td>object</td>\n",
       "      <td>0</td>\n",
       "      <td>0.0</td>\n",
       "    </tr>\n",
       "    <tr>\n",
       "      <th>user_rating</th>\n",
       "      <td>5</td>\n",
       "      <td>int64</td>\n",
       "      <td>0</td>\n",
       "      <td>0.0</td>\n",
       "    </tr>\n",
       "    <tr>\n",
       "      <th>user_zip_code</th>\n",
       "      <td>3402</td>\n",
       "      <td>object</td>\n",
       "      <td>0</td>\n",
       "      <td>0.0</td>\n",
       "    </tr>\n",
       "    <tr>\n",
       "      <th>director</th>\n",
       "      <td>1845</td>\n",
       "      <td>object</td>\n",
       "      <td>0</td>\n",
       "      <td>0.0</td>\n",
       "    </tr>\n",
       "    <tr>\n",
       "      <th>release_date</th>\n",
       "      <td>2411</td>\n",
       "      <td>int64</td>\n",
       "      <td>0</td>\n",
       "      <td>0.0</td>\n",
       "    </tr>\n",
       "    <tr>\n",
       "      <th>star</th>\n",
       "      <td>1840</td>\n",
       "      <td>object</td>\n",
       "      <td>0</td>\n",
       "      <td>0.0</td>\n",
       "    </tr>\n",
       "  </tbody>\n",
       "</table>\n",
       "</div>"
      ],
      "text/plain": [
       "                        count data_type missing_count missing%\n",
       "bucketized_user_age         7     int64             0      0.0\n",
       "movie_genres              302    object             0      0.0\n",
       "movie_id                 3656    object             0      0.0\n",
       "movie_title              3619    object             0      0.0\n",
       "timestamp              174246     int64             0      0.0\n",
       "user_gender                 2      bool             0      0.0\n",
       "user_id                  6040    object             0      0.0\n",
       "user_occupation_label      21     int64             0      0.0\n",
       "user_occupation_text       21    object             0      0.0\n",
       "user_rating                 5     int64             0      0.0\n",
       "user_zip_code            3402    object             0      0.0\n",
       "director                 1845    object             0      0.0\n",
       "release_date             2411     int64             0      0.0\n",
       "star                     1840    object             0      0.0"
      ]
     },
     "execution_count": 9,
     "metadata": {},
     "output_type": "execute_result"
    }
   ],
   "source": [
    "#let's have a general view of main_df:\n",
    "ratings_missing = pd.concat([ratings.nunique(), ratings.dtypes, ratings.isnull().sum(), 100*ratings.isnull().mean()], axis=1)\n",
    "ratings_missing.columns = [['count', 'data_type', 'missing_count', 'missing%']]\n",
    "ratings_missing"
   ]
  },
  {
   "cell_type": "code",
   "execution_count": 10,
   "id": "3b42590b",
   "metadata": {},
   "outputs": [],
   "source": [
    "#let's wrap the **pandas dataframe** into **tf.data.Dataset** object using **tf.data.Dataset.from_tensor_slices** using: tf.data.Dataset.from_tensor_slices\n",
    "ratings = tf.data.Dataset.from_tensor_slices(dict(ratings))"
   ]
  },
  {
   "cell_type": "code",
   "execution_count": 11,
   "id": "8920e803",
   "metadata": {},
   "outputs": [
    {
     "name": "stdout",
     "output_type": "stream",
     "text": [
      "{'bucketized_user_age': 50,\n",
      " 'director': b'Federico Fellini',\n",
      " 'movie_genres': b'[7]',\n",
      " 'movie_id': b'1251',\n",
      " 'movie_title': b'Eight and half ',\n",
      " 'release_date': -217123200,\n",
      " 'star': b'Marcello Mastroianni',\n",
      " 'timestamp': 974089380,\n",
      " 'user_gender': False,\n",
      " 'user_id': b'2497',\n",
      " 'user_occupation_label': 14,\n",
      " 'user_occupation_text': b'sales/marketing',\n",
      " 'user_rating': 3,\n",
      " 'user_zip_code': b'37922'}\n"
     ]
    }
   ],
   "source": [
    "#The ratings dataset returns a dictionary of movie id, user id, the assigned rating, timestamp, movie information, and user information:\n",
    "#View the data from ratings dataset:\n",
    "for x in ratings.take(1).as_numpy_iterator():\n",
    "    pprint.pprint(x)"
   ]
  },
  {
   "cell_type": "code",
   "execution_count": 12,
   "id": "8399463b",
   "metadata": {},
   "outputs": [
    {
     "data": {
      "text/plain": [
       "tensorflow.python.data.ops.dataset_ops.TensorSliceDataset"
      ]
     },
     "execution_count": 12,
     "metadata": {},
     "output_type": "execute_result"
    }
   ],
   "source": [
    "type(ratings)"
   ]
  },
  {
   "cell_type": "markdown",
   "id": "9014c3c9",
   "metadata": {},
   "source": [
    "Next, we're only going to extract the movie title and the user id. So, we're actually not going to extract the rating itself and the reason why is that we're treating these as **implicit recommendations** in this case because that's easier to do a large scale like we mentioned earlier we want to try to keep things simple in **the retrieval stage** because it's operating over potentially a massive amount of data so to that end we're just going to assume that any movie that a user rated is one that they were really interested in if they took the time to watch it then it expresses some level of interest:\n",
    "\n",
    "***Any rating is an implicit positive rating for a movie and the absence of a rating is an implicit negative rating for that movie***"
   ]
  },
  {
   "cell_type": "code",
   "execution_count": 23,
   "id": "e673da2d",
   "metadata": {},
   "outputs": [],
   "source": [
    "#Let's select the necessary attributes:\n",
    "\n",
    "ratings = ratings.map(lambda x: {\n",
    "                                 \"movie_id\": x[\"movie_id\"],\n",
    "                                 \"user_id\": x[\"user_id\"],\n",
    "                                 \"user_rating\": x[\"user_rating\"],\n",
    "                                 \"user_gender\": int(x[\"user_gender\"]),\n",
    "                                 \"user_zip_code\": x[\"user_zip_code\"],\n",
    "                                 \"user_occupation_text\": x[\"user_occupation_text\"],\n",
    "                                 \"director\": x[\"director\"],\n",
    "                                 \"star\": x[\"star\"],\n",
    "                                 \"movie_genres\": x[\"movie_genres\"],    \n",
    "                                 \"bucketized_user_age\": int(x[\"bucketized_user_age\"]),                                \n",
    "                                })\n",
    "\n"
   ]
  },
  {
   "cell_type": "code",
   "execution_count": 24,
   "id": "9b06d312",
   "metadata": {},
   "outputs": [
    {
     "data": {
      "text/plain": [
       "1000085"
      ]
     },
     "execution_count": 24,
     "metadata": {},
     "output_type": "execute_result"
    }
   ],
   "source": [
    "len(ratings)"
   ]
  },
  {
   "cell_type": "code",
   "execution_count": 25,
   "id": "ae885400",
   "metadata": {},
   "outputs": [],
   "source": [
    "# let's use a random split, putting 75% of the ratings in the train set, and 25% in the test set:\n",
    "# Assign a seed=42 for consistency of results and reproducibility:\n",
    "seed = 42\n",
    "l = len(ratings)\n",
    "\n",
    "tf.random.set_seed(seed)\n",
    "shuffled = ratings.shuffle(l, seed=seed, reshuffle_each_iteration=False)\n",
    "\n",
    "#Save 75% of the data for training and 25% for testing:\n",
    "train_ = int(0.75 * l)\n",
    "test_ = int(0.25 * l)\n",
    "\n",
    "train = shuffled.take(train_)\n",
    "test = shuffled.skip(train_).take(test_)"
   ]
  },
  {
   "cell_type": "code",
   "execution_count": 26,
   "id": "f5e10ac0",
   "metadata": {},
   "outputs": [],
   "source": [
    "#Then, let's create vocabulary for each feature:\n",
    "\n",
    "feature_names = [\"movie_id\", \"user_id\", \"user_gender\", \"user_zip_code\",\n",
    "                 \"user_occupation_text\", \"bucketized_user_age\", \"director\", \"star\"]\n",
    "\n",
    "vocabularies = {}\n",
    "\n",
    "for feature_name in feature_names:\n",
    "    vocab = ratings.batch(l).map(lambda x: x[feature_name])\n",
    "    vocabularies[feature_name] = np.unique(np.concatenate(list(vocab)))"
   ]
  },
  {
   "cell_type": "markdown",
   "id": "21d9d746",
   "metadata": {},
   "source": [
    "## 4. Model construction\n",
    "\n",
    "The model architecture we will be building starts with an embedding layer, which is fed into a cross network followed by a deep network. The embedding dimension is set to 32 for all the features. You could also use different embedding sizes for different features."
   ]
  },
  {
   "cell_type": "code",
   "execution_count": 27,
   "id": "14a83098",
   "metadata": {},
   "outputs": [],
   "source": [
    "class DCN(tfrs.Model):\n",
    "    def __init__(self, use_cross_layer, deep_layer_sizes, projection_dim=None):\n",
    "        super().__init__()\n",
    "\n",
    "        self.embedding_dimension = 32\n",
    "\n",
    "        str_features = [\"movie_id\", \"user_id\", \"user_zip_code\", \n",
    "                        \"user_occupation_text\", \"director\", \"star\"]\n",
    "        int_features = [\"user_gender\", \"bucketized_user_age\"]\n",
    "\n",
    "        self._all_features = str_features + int_features\n",
    "        self._embeddings = {}\n",
    "\n",
    "        # Compute embeddings for string features. experimental.preprocessing\n",
    "        # WARNING:tensorflow:mask_value is deprecated, use mask_token instead.\n",
    "        for feature_name in str_features:\n",
    "            vocabulary = vocabularies[feature_name]\n",
    "            self._embeddings[feature_name] = tf.keras.Sequential(\n",
    "                                                                [tf.keras.layers.experimental.preprocessing.StringLookup(\n",
    "                                                                 vocabulary=vocabulary, mask_token=None),\n",
    "                                                                 tf.keras.layers.Embedding(len(vocabulary) + 1,\n",
    "                                                                 self.embedding_dimension)\n",
    "                                           ])\n",
    "      \n",
    "        # Compute embeddings for int features.\n",
    "        for feature_name in int_features:\n",
    "            vocabulary = vocabularies[feature_name]\n",
    "            self._embeddings[feature_name] = tf.keras.Sequential(\n",
    "                                                                 [tf.keras.layers.experimental.preprocessing.IntegerLookup(\n",
    "                                                                 vocabulary=vocabulary, mask_token=None), \n",
    "                                                                 tf.keras.layers.Embedding(len(vocabulary) + 1,\n",
    "                                                                 self.embedding_dimension)\n",
    "                                           ])\n",
    "\n",
    "        if use_cross_layer:\n",
    "            self._cross_layer = tfrs.layers.dcn.Cross(\n",
    "                                                      projection_dim=projection_dim,\n",
    "                                                      kernel_initializer=\"glorot_uniform\")\n",
    "        else:\n",
    "            self._cross_layer = None\n",
    "\n",
    "        self._deep_layers = [tf.keras.layers.Dense(layer_size, activation=\"relu\")\n",
    "            for layer_size in deep_layer_sizes]\n",
    "\n",
    "        self._logit_layer = tf.keras.layers.Dense(1)\n",
    "\n",
    "        self.task = tfrs.tasks.Ranking(\n",
    "            loss=tf.keras.losses.MeanSquaredError(),\n",
    "            metrics=[tf.keras.metrics.RootMeanSquaredError(\"RMSE\")]\n",
    "            )\n",
    "\n",
    "    def call(self, features):\n",
    "        # Concatenate embeddings\n",
    "        embeddings = []\n",
    "        for feature_name in self._all_features:\n",
    "            embedding_fn = self._embeddings[feature_name]\n",
    "            embeddings.append(embedding_fn(features[feature_name]))\n",
    "\n",
    "        x = tf.concat(embeddings, axis=1)\n",
    "\n",
    "        # Build Cross Network\n",
    "        if self._cross_layer is not None:\n",
    "            x = self._cross_layer(x)\n",
    "    \n",
    "    # Build Deep Network\n",
    "        for deep_layer in self._deep_layers:\n",
    "            x = deep_layer(x)\n",
    "\n",
    "        return self._logit_layer(x)\n",
    "\n",
    "    def compute_loss(self, features, training=False):\n",
    "        labels = features.pop(\"user_rating\")\n",
    "        scores = self(features)\n",
    "        return self.task(labels=labels,predictions=scores,\n",
    "        )        "
   ]
  },
  {
   "cell_type": "markdown",
   "id": "11fcb42a",
   "metadata": {},
   "source": [
    "### 4.1 Model Training"
   ]
  },
  {
   "cell_type": "code",
   "execution_count": 28,
   "id": "9461b1ce",
   "metadata": {},
   "outputs": [],
   "source": [
    "# Then shuffle, batch, and cache the training and evaluation data:\n",
    "# Segment the batches so that the model runs 13 training batches (2^13) and 11 test batches (2^11) per epoch, \n",
    "# while having a batch size which is a multiple of 2^n.\n",
    "cached_train = train.shuffle(l).batch(8192).cache()\n",
    "cached_test = test.batch(2048).cache()"
   ]
  },
  {
   "cell_type": "markdown",
   "id": "3edfcf22",
   "metadata": {},
   "source": [
    "Now let's define a function that runs a model multiple times and returns the model's RMSE mean and standard deviation out of multiple runs"
   ]
  },
  {
   "cell_type": "code",
   "execution_count": 29,
   "id": "eaaf4b62",
   "metadata": {},
   "outputs": [],
   "source": [
    "def run_models(use_cross_layer, deep_layer_sizes, projection_dim=None, num_runs=5):\n",
    "    models = []\n",
    "    rmses = []\n",
    "\n",
    "    for i in range(num_runs):\n",
    "        model = DCN(use_cross_layer=use_cross_layer,\n",
    "                    deep_layer_sizes=deep_layer_sizes,\n",
    "                    projection_dim=projection_dim)\n",
    "        model.compile(optimizer=tf.keras.optimizers.Adam(learning_rate))\n",
    "        models.append(model)\n",
    "\n",
    "        model.fit(cached_train, epochs=epochs, verbose=False)\n",
    "        metrics = model.evaluate(cached_test, return_dict=True)\n",
    "        rmses.append(metrics[\"RMSE\"])\n",
    "\n",
    "    mean, stdv = np.average(rmses), np.std(rmses)\n",
    "\n",
    "    return {\"model\": models, \"mean\": mean, \"stdv\": stdv}"
   ]
  },
  {
   "cell_type": "markdown",
   "id": "90dbb3b5",
   "metadata": {},
   "source": [
    "We set some hyper-parameters for the models. Note that these hyper-parameters are set globally for all the models for demonstration purpose. If you want to obtain the best performance for each model, or conduct a fair comparison among models, then we'd suggest you to fine-tune the hyper-parameters. Remember that the model architecture and optimization schemes are intertwined."
   ]
  },
  {
   "cell_type": "code",
   "execution_count": 30,
   "id": "c57cb229",
   "metadata": {},
   "outputs": [],
   "source": [
    "epochs = 32\n",
    "learning_rate = 0.01"
   ]
  },
  {
   "cell_type": "markdown",
   "id": "45df44b8",
   "metadata": {},
   "source": [
    "#### 4.1.1 DCN (stacked)\n",
    "\n",
    "We first train a DCN model with a stacked structure, that is, the inputs are fed to a cross network followed by a deep network.\n",
    "\n",
    "![DCN_stacked](https://user-images.githubusercontent.com/67468718/135777802-cacec165-ed8c-4951-85ee-f3fe1f421b4d.JPG)"
   ]
  },
  {
   "cell_type": "code",
   "execution_count": 31,
   "id": "f8c4aefa",
   "metadata": {
    "scrolled": false
   },
   "outputs": [
    {
     "name": "stdout",
     "output_type": "stream",
     "text": [
      "123/123 [==============================] - 35s 83ms/step - RMSE: 1.0310 - loss: 1.0662 - regularization_loss: 0.0000e+00 - total_loss: 1.0662\n",
      "123/123 [==============================] - 2s 13ms/step - RMSE: 1.0730 - loss: 1.1517 - regularization_loss: 0.0000e+00 - total_loss: 1.1517\n",
      "123/123 [==============================] - 2s 14ms/step - RMSE: 1.0049 - loss: 1.0078 - regularization_loss: 0.0000e+00 - total_loss: 1.0078\n",
      "123/123 [==============================] - 2s 13ms/step - RMSE: 1.0247 - loss: 1.0508 - regularization_loss: 0.0000e+00 - total_loss: 1.0508\n",
      "123/123 [==============================] - 2s 14ms/step - RMSE: 1.0434 - loss: 1.0897 - regularization_loss: 0.0000e+00 - total_loss: 1.0897\n"
     ]
    }
   ],
   "source": [
    "dcn_result = run_models(use_cross_layer=True, deep_layer_sizes=[192, 192])"
   ]
  },
  {
   "cell_type": "code",
   "execution_count": 32,
   "id": "2f5415f1",
   "metadata": {},
   "outputs": [
    {
     "name": "stdout",
     "output_type": "stream",
     "text": [
      "Visualizing the Weight Matrix Learned by DCN\n"
     ]
    },
    {
     "name": "stderr",
     "output_type": "stream",
     "text": [
      "C:\\Users\\aktha\\anaconda3\\envs\\tfrs\\lib\\site-packages\\ipykernel_launcher.py:24: UserWarning: FixedFormatter should only be used together with FixedLocator\n",
      "C:\\Users\\aktha\\anaconda3\\envs\\tfrs\\lib\\site-packages\\ipykernel_launcher.py:25: UserWarning: FixedFormatter should only be used together with FixedLocator\n"
     ]
    },
    {
     "data": {
      "text/plain": [
       "<Figure size 864x864 with 0 Axes>"
      ]
     },
     "metadata": {},
     "output_type": "display_data"
    },
    {
     "data": {
      "image/png": "[encoded data removed]",
      "text/plain": [
       "<Figure size 288x288 with 2 Axes>"
      ]
     },
     "metadata": {},
     "output_type": "display_data"
    }
   ],
   "source": [
    "from mpl_toolkits.axes_grid1 import make_axes_locatable\n",
    "\n",
    "model = dcn_result[\"model\"][0]\n",
    "mat = model._cross_layer._dense.kernel\n",
    "features = model._all_features\n",
    "\n",
    "block_norm = np.ones([len(features), len(features)])\n",
    "dim = model.embedding_dimension\n",
    "\n",
    "# Compute the norms of the blocks.\n",
    "for i in range(len(features)):\n",
    "    for j in range(len(features)):\n",
    "        block = mat[i * dim:(i + 1) * dim,\n",
    "                j * dim:(j + 1) * dim]\n",
    "        block_norm[i,j] = np.linalg.norm(block, ord=\"fro\")\n",
    "\n",
    "plt.figure(figsize=(12,12))\n",
    "im = plt.matshow(block_norm, cmap=plt.cm.Blues)\n",
    "ax = plt.gca()\n",
    "divider = make_axes_locatable(ax)\n",
    "cax = divider.append_axes(\"right\", size=\"5%\", pad=0.1)\n",
    "plt.colorbar(im, cax=cax)\n",
    "cax.tick_params(labelsize=10) \n",
    "_ = ax.set_xticklabels([\"\"] + features, rotation=45, ha=\"left\", fontsize=10)\n",
    "_ = ax.set_yticklabels([\"\"] + features, fontsize=10)\n",
    "#plt.title('Visualizing the Weight Matrix Learned by DCN')\n",
    "print('Visualizing the Weight Matrix Learned by DCN')"
   ]
  },
  {
   "cell_type": "markdown",
   "id": "db5d451a",
   "metadata": {},
   "source": [
    "One of the nice things about DCN is that you can visualize the weights from the cross network and see if it has successfully learned the important feature process.\n",
    "As shown above, the stronger the interaction between two features is. In this case, the feature cross of user ID and movie ID is of great importance."
   ]
  },
  {
   "cell_type": "markdown",
   "id": "e9b7ee9f",
   "metadata": {},
   "source": [
    "#### 4.1.2 Low-rank DCN\n",
    "\n",
    "To reduce the training and serving cost, we leverage low-rank techniques to approximate the DCN weight matrices. The rank is passed in through argument projection_dim; a smaller projection_dim results in a lower cost. Note that projection_dim needs to be smaller than (input size)/2 to reduce the cost. In practice, we've observed using low-rank DCN with rank (input size)/4 consistently preserved the accuracy of a full-rank DCN.\n",
    "\n",
    "![low-rank-dcn](https://user-images.githubusercontent.com/67468718/137226644-e5bebcf9-2648-407c-94a5-108435076570.JPG)"
   ]
  },
  {
   "cell_type": "code",
   "execution_count": 33,
   "id": "fd5640f3",
   "metadata": {},
   "outputs": [
    {
     "name": "stdout",
     "output_type": "stream",
     "text": [
      "123/123 [==============================] - 2s 11ms/step - RMSE: 0.9839 - loss: 0.9698 - regularization_loss: 0.0000e+00 - total_loss: 0.9698\n",
      "123/123 [==============================] - 1s 9ms/step - RMSE: 1.0010 - loss: 1.0041 - regularization_loss: 0.0000e+00 - total_loss: 1.0041\n",
      "123/123 [==============================] - 2s 12ms/step - RMSE: 1.0373 - loss: 1.0784 - regularization_loss: 0.0000e+00 - total_loss: 1.0784\n",
      "123/123 [==============================] - 2s 11ms/step - RMSE: 1.0307 - loss: 1.0646 - regularization_loss: 0.0000e+00 - total_loss: 1.0646\n",
      "123/123 [==============================] - 2s 11ms/step - RMSE: 0.9959 - loss: 0.9889 - regularization_loss: 0.0000e+00 - total_loss: 0.9889\n"
     ]
    }
   ],
   "source": [
    "dcn_lr_result = run_models(use_cross_layer=True,\n",
    "                           projection_dim=20,\n",
    "                           deep_layer_sizes=[192, 192])"
   ]
  },
  {
   "cell_type": "markdown",
   "id": "8315025d",
   "metadata": {},
   "source": [
    "#### 4.1.3 DNN (Cross Layer = False)\n",
    "\n",
    "We train a same-sized DNN model as a reference."
   ]
  },
  {
   "cell_type": "code",
   "execution_count": 34,
   "id": "ec17e925",
   "metadata": {
    "scrolled": false
   },
   "outputs": [
    {
     "name": "stdout",
     "output_type": "stream",
     "text": [
      "123/123 [==============================] - 2s 11ms/step - RMSE: 0.9154 - loss: 0.8383 - regularization_loss: 0.0000e+00 - total_loss: 0.8383\n",
      "123/123 [==============================] - 2s 14ms/step - RMSE: 0.9510 - loss: 0.9064 - regularization_loss: 0.0000e+00 - total_loss: 0.9064\n",
      "123/123 [==============================] - 2s 12ms/step - RMSE: 0.9761 - loss: 0.9520 - regularization_loss: 0.0000e+00 - total_loss: 0.9520\n",
      "123/123 [==============================] - 3s 19ms/step - RMSE: 0.9420 - loss: 0.8883 - regularization_loss: 0.0000e+00 - total_loss: 0.8883\n",
      "123/123 [==============================] - 3s 18ms/step - RMSE: 0.9833 - loss: 0.9681 - regularization_loss: 0.0000e+00 - total_loss: 0.9681\n"
     ]
    }
   ],
   "source": [
    "dnn_result = run_models(use_cross_layer=False,\n",
    "                        deep_layer_sizes=[192, 192, 192])"
   ]
  },
  {
   "cell_type": "code",
   "execution_count": 35,
   "id": "271e01ef",
   "metadata": {},
   "outputs": [
    {
     "name": "stdout",
     "output_type": "stream",
     "text": [
      "DCN            RMSE mean: 1.0354, stdv: 0.0225\n",
      "DCN (low-rank) RMSE mean: 1.0098, stdv: 0.0207\n",
      "DNN            RMSE mean: 0.9535, stdv: 0.0244\n"
     ]
    }
   ],
   "source": [
    "print(\"DCN            RMSE mean: {:.4f}, stdv: {:.4f}\".format(dcn_result[\"mean\"], dcn_result[\"stdv\"]))\n",
    "print(\"DCN (low-rank) RMSE mean: {:.4f}, stdv: {:.4f}\".format(dcn_lr_result[\"mean\"], dcn_lr_result[\"stdv\"]))\n",
    "print(\"DNN            RMSE mean: {:.4f}, stdv: {:.4f}\".format(dnn_result[\"mean\"], dnn_result[\"stdv\"]))"
   ]
  },
  {
   "cell_type": "code",
   "execution_count": 1,
   "id": "76d96ef3",
   "metadata": {},
   "outputs": [
    {
     "data": {
      "text/html": [
       "<style>.container { width:75% !important; }</style>"
      ],
      "text/plain": [
       "<IPython.core.display.HTML object>"
      ]
     },
     "metadata": {},
     "output_type": "display_data"
    }
   ],
   "source": [
    "from IPython.core.display import display, HTML\n",
    "display(HTML(\"<style>.container { width:75% !important; }</style>\"))"
   ]
  },
  {
   "cell_type": "code",
   "execution_count": null,
   "id": "7ef66c37",
   "metadata": {},
   "outputs": [],
   "source": []
  }
 ],
 "metadata": {
  "kernelspec": {
   "display_name": "Python [conda env:tfrs] *",
   "language": "python",
   "name": "conda-env-tfrs-py"
  },
  "language_info": {
   "codemirror_mode": {
    "name": "ipython",
    "version": 3
   },
   "file_extension": ".py",
   "mimetype": "text/x-python",
   "name": "python",
   "nbconvert_exporter": "python",
   "pygments_lexer": "ipython3",
   "version": "3.7.10"
  }
 },
 "nbformat": 4,
 "nbformat_minor": 5
}
