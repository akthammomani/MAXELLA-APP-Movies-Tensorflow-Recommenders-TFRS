{
 "cells": [
  {
   "cell_type": "markdown",
   "id": "6163fad7",
   "metadata": {},
   "source": [
    "# TensorFlow Recommenders (TFRS) - Second Stage: Ranking\n",
    "\n",
    "![logo_small](https://user-images.githubusercontent.com/67468718/127299425-533f0a3c-c965-42a5-886a-5272170d9e0e.JPG)\n",
    "\n",
    "\n",
    "## Contents:\n",
    "\n",
    " 1. Introduction\n",
    " 2. Dataset\n",
    " 3. Sourcing and Loading\n",
    "  * Import relevant libraries\n",
    "  * preparing the dataset\n",
    " 4. Implementing a Ranking Model: 2 Dense Layers + embedding_dimension = 32 + epochs = 3\n",
    "  * Loss and metrics\n",
    "  * The full model\n",
    "  * Fitting and evaluating\n",
    "  * Visualization: Total loss and RMSE over epochs\n",
    " 5. Ranking Tuning\n",
    "  * Two Dense Layers + embedding_dimension = 64 + epochs = 32\n",
    "  * Deeper Network: 3 Dense Layers + embedding_dimension = 64 + epochs = 32\n",
    "  * Deeper Network: 4 Dense Layers + embedding_dimension = 64 + epochs = 32\n",
    " 6. Ranking Tuning Summary\n",
    " 7. Ranking\n",
    " \n",
    "## 1. Introduction\n",
    "\n",
    "**Real-world recommender systems are often composed of two stages:**\n",
    "\n",
    " * The retrieval stage (Selects recommendation candidates): is responsible for selecting an initial set of hundreds of candidates from all possible candidates. The main objective of this model is to efficiently weed out all candidates that the user is not interested in. Because the retrieval model may be dealing with millions of candidates, it has to be computationally efficient.\n",
    "\n",
    " * The ranking stage (Selects the best candidates and rank them): takes the outputs of the retrieval model and fine-tunes them to select the best possible handful of recommendations. Its task is to narrow down the set of items the user may be interested in to a shortlist of likely candidates.\n",
    "\n",
    "\n",
    "In this Notebook, we're going to build and train such a ranking model using the Movielens dataset (1m Dataset).\n",
    "\n",
    "We're going to:\n",
    "\n",
    " * Get our data and split it into a training and test set.\n",
    " * Implement a ranking model.\n",
    " * Fit and evaluate it.\n"
   ]
  },
  {
   "cell_type": "markdown",
   "id": "9b47fa7f",
   "metadata": {},
   "source": [
    "## 2. Dataset: \n",
    "\n",
    "**Movie Lens** contains a set of movie ratings from the MovieLens website, a movie recommendation service. This dataset was collected and maintained by [GroupLens](https://grouplens.org/) , a research group at the University of Minnesota. There are 5 versions included: \"25m\", \"latest-small\", \"100k\", \"1m\", \"20m\". In all datasets, the movies data and ratings data are joined on \"movieId\". The 25m dataset, latest-small dataset, and 20m dataset contain only movie data and rating data. The 1m dataset and 100k dataset contain demographic data in addition to movie and rating data.\n",
    "\n",
    "**movie_lens/1m** can be treated in two ways:\n",
    "\n",
    "  * It can be interpreted as expressesing which movies the users watched (and rated), and which they did not. This is a form of *implicit feedback*, where users' watches tell us which things they prefer to see and which they'd rather not see (This means that every movie a user watched is a positive example, and every movie they have not seen is an implicit negative example).\n",
    "  * It can also be seen as expressesing how much the users liked the movies they did watch. This is a form of *explicit feedback*: given that a user watched a movie, we can tell roughly how much they liked by looking at the rating they have given.\n",
    "\n",
    "\n",
    "\n",
    "**[movie_lens/1m-ratings](https://www.tensorflow.org/datasets/catalog/movie_lens#movie_lens1m-ratings):**\n",
    " * Config description: This dataset contains 1,000,209 anonymous ratings of approximately 3,900 movies made by 6,040 MovieLens users who joined MovieLens. Ratings are in whole-star increments. This dataset contains demographic data of users in addition to data on movies and ratings.\n",
    " * This dataset is the largest dataset that includes demographic data from movie_lens.\n",
    " * \"user_gender\": gender of the user who made the rating; a true value corresponds to male\n",
    " * \"bucketized_user_age\": bucketized age values of the user who made the rating, the values and the corresponding ranges are:\n",
    "   * 1: \"Under 18\"\n",
    "   * 18: \"18-24\"\n",
    "   * 25: \"25-34\"\n",
    "   * 35: \"35-44\"\n",
    "   * 45: \"45-49\"\n",
    "   * 50: \"50-55\"\n",
    "   * 56: \"56+\"\n",
    " * \"user_occupation_label\": the occupation of the user who made the rating represented by an integer-encoded label; labels are preprocessed to be consistent across different versions\n",
    " * \"user_occupation_text\": the occupation of the user who made the rating in the original string; different versions can have different set of raw text labels\n",
    " * \"user_zip_code\": the zip code of the user who made the rating.\n",
    " * Download size: 5.64 MiB\n",
    " * Dataset size: 308.42 MiB\n",
    " * Auto-cached ([documentation](https://www.tensorflow.org/datasets/performances#auto-caching)): No\n",
    " * Features:\n",
    " ```\n",
    " FeaturesDict({\n",
    "               'bucketized_user_age': tf.float32,\n",
    "               'movie_genres': Sequence(ClassLabel(shape=(), dtype=tf.int64, num_classes=21)),\n",
    "               'movie_id': tf.string,\n",
    "               'movie_title': tf.string,\n",
    "               'raw_user_age': tf.float32,\n",
    "               'timestamp': tf.int64,\n",
    "               'user_gender': tf.bool,\n",
    "               'user_id': tf.string,\n",
    "               'user_occupation_label': ClassLabel(shape=(), dtype=tf.int64, num_classes=22),\n",
    "               'user_occupation_text': tf.string,\n",
    "               'user_rating': tf.float32,\n",
    "               'user_zip_code': tf.string,\n",
    "              })\n",
    " ```\n",
    "**Example:**\n",
    "\n",
    "|bucketized_user_age\t|movie_genres|\tmovie_id|\tmovie_title|\traw_user_age|\ttimestamp|\tuser_gender|\tuser_id\t|user_occupation_label|\tuser_occupation_text\t|user_rating\t|user_zip_code|\n",
    "|:----:|:----:|:----:|:----:|:----:|:----:|:----:|:----:|:----:|:----:|:----:|:----:|\n",
    "|45.0\t|7 (Drama)|b'357'\t|b\"One Flew Over the Cuckoo's Nest (1975)\"\t|46.0\t|879024327\t|True\t|b'138'\t|4 (doctor/health care)\t|b'doctor'\t|4.0|\tb'53211'|\n"
   ]
  },
  {
   "cell_type": "markdown",
   "id": "91c9b7d3",
   "metadata": {},
   "source": [
    "## 3. Sourcing and Loading\n",
    "\n",
    "### 3.1 Import relevant libraries"
   ]
  },
  {
   "cell_type": "code",
   "execution_count": 1,
   "id": "7d223838",
   "metadata": {},
   "outputs": [],
   "source": [
    "# Import the necessary Libararies: \n",
    "\n",
    "import os\n",
    "import pprint\n",
    "import tempfile\n",
    "import matplotlib.pyplot as plt\n",
    "from typing import Dict, Text\n",
    "\n",
    "import numpy as np\n",
    "import tensorflow as tf\n",
    "import tensorflow_datasets as tfds\n",
    "from typing import Dict, Text\n",
    "import pandas as pd\n",
    "import numpy as np\n",
    "\n",
    "import tensorflow as tf\n",
    "\n",
    "import tensorflow_datasets as tfds\n",
    "import tensorflow_recommenders as tfrs\n",
    "\n",
    "plt.style.use('ggplot')"
   ]
  },
  {
   "cell_type": "markdown",
   "id": "4a320a49",
   "metadata": {},
   "source": [
    "### 3.2 Preparing the dataset\n",
    "\n",
    "Let's first have a look at the data.\n",
    "\n",
    "We use the MovieLens dataset from Tensorflow Datasets. Loading **[movie_lens/1m-ratings](https://www.tensorflow.org/datasets/catalog/movie_lens#movie_lens1m-ratings)** yields a ***tf.data.Dataset*** object.\n",
    "\n",
    "Note that since the MovieLens dataset does not have predefined splits, all data are under train split."
   ]
  },
  {
   "cell_type": "code",
   "execution_count": 2,
   "id": "c49caba2",
   "metadata": {},
   "outputs": [],
   "source": [
    "# Ratings data.\n",
    "ratings = tfds.load(\"movielens/1m-ratings\", split=\"train\", shuffle_files=True)\n"
   ]
  },
  {
   "cell_type": "code",
   "execution_count": 3,
   "id": "8920e803",
   "metadata": {},
   "outputs": [
    {
     "name": "stdout",
     "output_type": "stream",
     "text": [
      "{'bucketized_user_age': 45.0,\n",
      " 'movie_genres': array([16], dtype=int64),\n",
      " 'movie_id': b'2762',\n",
      " 'movie_title': b'Sixth Sense, The (1999)',\n",
      " 'timestamp': 974584897,\n",
      " 'user_gender': True,\n",
      " 'user_id': b'2262',\n",
      " 'user_occupation_label': 18,\n",
      " 'user_occupation_text': b'technician/engineer',\n",
      " 'user_rating': 4.0,\n",
      " 'user_zip_code': b'48116'}\n"
     ]
    }
   ],
   "source": [
    "#The ratings dataset returns a dictionary of movie id, user id, the assigned rating, timestamp, movie information, and user information:\n",
    "#View the data from ratings dataset:\n",
    "for x in ratings.take(1).as_numpy_iterator():\n",
    "    pprint.pprint(x)"
   ]
  },
  {
   "cell_type": "code",
   "execution_count": 4,
   "id": "8399463b",
   "metadata": {},
   "outputs": [
    {
     "data": {
      "text/plain": [
       "tensorflow.python.data.ops.dataset_ops._OptionsDataset"
      ]
     },
     "execution_count": 4,
     "metadata": {},
     "output_type": "execute_result"
    }
   ],
   "source": [
    "type(ratings)"
   ]
  },
  {
   "cell_type": "markdown",
   "id": "03f9ffa4",
   "metadata": {},
   "source": [
    "Next, As you can see below, in the map function, the ratings are considered explicit feedback since we can tell roughly how much the users like the movies based on the rating numbers."
   ]
  },
  {
   "cell_type": "code",
   "execution_count": 5,
   "id": "e673da2d",
   "metadata": {},
   "outputs": [],
   "source": [
    "#Let's select the necessary attributes:\n",
    "\n",
    "ratings = ratings.map(lambda x: {\n",
    "                                 \"movie_title\": x[\"movie_title\"],\n",
    "                                 \"user_id\": x[\"user_id\"],\n",
    "                                 \"user_rating\": x[\"user_rating\"]\n",
    "                                })\n",
    "\n"
   ]
  },
  {
   "cell_type": "code",
   "execution_count": 6,
   "id": "9b06d312",
   "metadata": {},
   "outputs": [
    {
     "data": {
      "text/plain": [
       "1000209"
      ]
     },
     "execution_count": 6,
     "metadata": {},
     "output_type": "execute_result"
    }
   ],
   "source": [
    "len(ratings)"
   ]
  },
  {
   "cell_type": "code",
   "execution_count": 7,
   "id": "ae885400",
   "metadata": {},
   "outputs": [],
   "source": [
    "# let's use a random split, putting 75% of the ratings in the train set, and 25% in the test set:\n",
    "# Assign a seed=42 for consistency of results and reproducibility:\n",
    "seed = 42\n",
    "l = len(ratings)\n",
    "\n",
    "tf.random.set_seed(seed)\n",
    "shuffled = ratings.shuffle(l, seed=seed, reshuffle_each_iteration=False)\n",
    "\n",
    "#Save 75% of the data for training and 25% for testing:\n",
    "train_ = int(0.75 * l)\n",
    "test_ = int(0.25 * l)\n",
    "\n",
    "train = shuffled.take(train_)\n",
    "test = shuffled.skip(train_).take(test_)"
   ]
  },
  {
   "cell_type": "code",
   "execution_count": 8,
   "id": "f5e10ac0",
   "metadata": {},
   "outputs": [
    {
     "data": {
      "text/plain": [
       "array([b'$1,000,000 Duck (1971)', b\"'Night Mother (1986)\",\n",
       "       b\"'Til There Was You (1997)\", b\"'burbs, The (1989)\",\n",
       "       b'...And Justice for All (1979)', b'1-900 (1994)',\n",
       "       b'10 Things I Hate About You (1999)', b'101 Dalmatians (1961)',\n",
       "       b'101 Dalmatians (1996)', b'12 Angry Men (1957)'], dtype=object)"
      ]
     },
     "execution_count": 8,
     "metadata": {},
     "output_type": "execute_result"
    }
   ],
   "source": [
    "# Now, let's find out how many uniques users/movies:\n",
    "movie_titles = ratings.batch(l).map(lambda x: x[\"movie_title\"])\n",
    "user_ids = ratings.batch(l).map(lambda x: x[\"user_id\"])\n",
    "\n",
    "#Movies uniques:\n",
    "unique_movie_titles = np.unique(np.concatenate(list(movie_titles)))\n",
    "\n",
    "#users unique\n",
    "unique_user_ids = np.unique(np.concatenate(list(user_ids)))\n",
    "\n",
    "# take a look at the movies:\n",
    "unique_movie_titles[:10]"
   ]
  },
  {
   "cell_type": "code",
   "execution_count": 9,
   "id": "14a83098",
   "metadata": {},
   "outputs": [
    {
     "name": "stdout",
     "output_type": "stream",
     "text": [
      "3706\n"
     ]
    }
   ],
   "source": [
    "#Movies uniques\n",
    "len_films = len(unique_movie_titles)\n",
    "print(len_films) "
   ]
  },
  {
   "cell_type": "code",
   "execution_count": 10,
   "id": "9461b1ce",
   "metadata": {},
   "outputs": [
    {
     "name": "stdout",
     "output_type": "stream",
     "text": [
      "6040\n"
     ]
    }
   ],
   "source": [
    "#users unique\n",
    "len_users = len(unique_user_ids)\n",
    "print(len_users) "
   ]
  },
  {
   "cell_type": "markdown",
   "id": "ad00ee90",
   "metadata": {},
   "source": [
    "## 4. Implementing a Ranking Model:\n",
    "\n",
    "**2 Dense Layers + embedding_dimension = 32 + epochs = 3**\n",
    "\n",
    "Ranking models do not face the same efficiency constraints as retrieval models do, and so we have a little bit more freedom in our choice of architectures.\n",
    "\n",
    "A model composed of multiple stacked dense layers is a relatively common architecture for ranking tasks. We can implement it as follows:"
   ]
  },
  {
   "cell_type": "code",
   "execution_count": 11,
   "id": "f1637802",
   "metadata": {},
   "outputs": [],
   "source": [
    "class RankingModel(tf.keras.Model):\n",
    "\n",
    "    def __init__(self):\n",
    "        super().__init__()\n",
    "        #Higher values will correspond to models that may be more accurate, but will also be slower to fit and more prone to overfitting:\n",
    "        embedding_dimension = 32\n",
    "\n",
    "        # Compute embeddings for users.\n",
    "        self.user_embeddings = tf.keras.Sequential([\n",
    "                               tf.keras.layers.experimental.preprocessing.StringLookup(\n",
    "                               vocabulary=unique_user_ids, mask_token=None),\n",
    "                               tf.keras.layers.Embedding(len(unique_user_ids) + 1, embedding_dimension)\n",
    "                                                  ])\n",
    "\n",
    "        # Compute embeddings for movies.\n",
    "        self.movie_embeddings = tf.keras.Sequential([\n",
    "                                tf.keras.layers.experimental.preprocessing.StringLookup(\n",
    "                                vocabulary=unique_movie_titles, mask_token=None),\n",
    "                                tf.keras.layers.Embedding(len(unique_movie_titles) + 1, embedding_dimension)\n",
    "                                                   ])\n",
    "\n",
    "        # Compute predictions.\n",
    "        self.ratings = tf.keras.Sequential([\n",
    "                                          # Learn multiple dense layers.\n",
    "                                          tf.keras.layers.Dense(256, activation=\"relu\"),\n",
    "                                          tf.keras.layers.Dense(64, activation=\"relu\"),\n",
    "                                          # Make rating predictions in the final layer.\n",
    "                                          tf.keras.layers.Dense(1)\n",
    "                                          ])\n",
    "\n",
    "    def call(self, inputs):\n",
    "\n",
    "        user_id, movie_title = inputs\n",
    "\n",
    "        user_embedding = self.user_embeddings(user_id)\n",
    "        movie_embedding = self.movie_embeddings(movie_title)\n",
    "\n",
    "        return self.ratings(tf.concat([user_embedding, movie_embedding], axis=1))"
   ]
  },
  {
   "cell_type": "markdown",
   "id": "9f33b377",
   "metadata": {},
   "source": [
    "This model takes user ids and movie titles, and outputs a predicted rating:"
   ]
  },
  {
   "cell_type": "code",
   "execution_count": 12,
   "id": "71481f89",
   "metadata": {
    "scrolled": true
   },
   "outputs": [
    {
     "name": "stdout",
     "output_type": "stream",
     "text": [
      "WARNING:tensorflow:Layers in a Sequential model should only have a single input tensor, but we receive a <class 'list'> input: ['42']\n",
      "Consider rewriting this model with the Functional API.\n"
     ]
    },
    {
     "name": "stderr",
     "output_type": "stream",
     "text": [
      "WARNING:tensorflow:Layers in a Sequential model should only have a single input tensor, but we receive a <class 'list'> input: ['42']\n",
      "Consider rewriting this model with the Functional API.\n"
     ]
    },
    {
     "name": "stdout",
     "output_type": "stream",
     "text": [
      "WARNING:tensorflow:Layers in a Sequential model should only have a single input tensor, but we receive a <class 'list'> input: ['7th Voyage of Sinbad, The (1958)']\n",
      "Consider rewriting this model with the Functional API.\n"
     ]
    },
    {
     "name": "stderr",
     "output_type": "stream",
     "text": [
      "WARNING:tensorflow:Layers in a Sequential model should only have a single input tensor, but we receive a <class 'list'> input: ['7th Voyage of Sinbad, The (1958)']\n",
      "Consider rewriting this model with the Functional API.\n"
     ]
    },
    {
     "data": {
      "text/plain": [
       "<tf.Tensor: shape=(1, 1), dtype=float32, numpy=array([[0.01835283]], dtype=float32)>"
      ]
     },
     "execution_count": 12,
     "metadata": {},
     "output_type": "execute_result"
    }
   ],
   "source": [
    "RankingModel()(([\"42\"], [\"7th Voyage of Sinbad, The (1958)\"]))\n"
   ]
  },
  {
   "cell_type": "markdown",
   "id": "a1716964",
   "metadata": {},
   "source": [
    "Overall, our ranking model takes in a user ID and a movie title and outputs a predicted rating. As we can see above, using our untrained model, user 42 is predicted to give \"7th Voyage of Sinbad, The (1958)\" a rating of 0.033. "
   ]
  },
  {
   "cell_type": "markdown",
   "id": "0e530cb0",
   "metadata": {},
   "source": [
    "### 4.1 Loss and metrics:\n",
    "\n",
    "The next component is the loss used to train our model. TFRS has several loss layers and tasks to make this easy.\n",
    "\n",
    "In this instance, we'll make use of the **Ranking** task object: a convenience wrapper that bundles together the loss function and metric computation.\n",
    "\n",
    "We'll use it together with the **MeanSquaredError** Keras loss in order to predict the ratings.\n"
   ]
  },
  {
   "cell_type": "code",
   "execution_count": 13,
   "id": "6640f327",
   "metadata": {},
   "outputs": [],
   "source": [
    "task = tfrs.tasks.Ranking(\n",
    "                         loss = tf.keras.losses.MeanSquaredError(),\n",
    "                         metrics=[tf.keras.metrics.RootMeanSquaredError()]\n",
    "                         )"
   ]
  },
  {
   "cell_type": "markdown",
   "id": "4619eb13",
   "metadata": {},
   "source": [
    "The task itself is a Keras layer that takes true and predicted as arguments, and returns the computed loss. We'll use that to implement the model's training loop."
   ]
  },
  {
   "cell_type": "markdown",
   "id": "8f5fbc41",
   "metadata": {},
   "source": [
    "### 4.2 The full model\n",
    "\n",
    "We can now put it all together into a model. TFRS exposes a base model class [(tfrs.models.Model)](https://www.tensorflow.org/recommenders/api_docs/python/tfrs/models/Model) which streamlines bulding models: all we need to do is to set up the components in the __init__ method, and implement the compute_loss method, taking in the raw features and returning a loss value.\n",
    "\n",
    "The base model will then take care of creating the appropriate training loop to fit our model\n",
    "\n"
   ]
  },
  {
   "cell_type": "code",
   "execution_count": 14,
   "id": "4bee6877",
   "metadata": {},
   "outputs": [],
   "source": [
    "class MovielensModel(tfrs.models.Model):\n",
    "\n",
    "    def __init__(self):\n",
    "        super().__init__()\n",
    "        self.ranking_model: tf.keras.Model = RankingModel()\n",
    "        self.task: tf.keras.layers.Layer = tfrs.tasks.Ranking(\n",
    "                                                              loss = tf.keras.losses.MeanSquaredError(),\n",
    "                                                               metrics=[tf.keras.metrics.RootMeanSquaredError()]\n",
    "                                                              )\n",
    "\n",
    "    def compute_loss(self, features: Dict[Text, tf.Tensor], training=False) -> tf.Tensor:\n",
    "        rating_predictions = self.ranking_model((features[\"user_id\"], features[\"movie_title\"]))\n",
    "\n",
    "        # The task computes the loss and the metrics.\n",
    "        return self.task(labels=features[\"user_rating\"], predictions=rating_predictions)"
   ]
  },
  {
   "cell_type": "markdown",
   "id": "860617ea",
   "metadata": {},
   "source": [
    "### 4.3 Fitting and evaluating\n",
    "\n",
    "After defining the model, we can use standard Keras fitting and evaluation routines to fit and evaluate the model.\n",
    "\n",
    "**Adagrad** is an algorithm for gradient-based optimization that does just this: It adapts the learning rate to the parameters, performing smaller updates\n",
    "(i.e. low learning rates) for parameters associated with frequently occurring features, and larger updates (i.e. high learning rates) for parameters associated with infrequent features. **For this reason, it is well-suited for dealing with sparse data.**\n",
    "\n",
    "Let's first instantiate the model."
   ]
  },
  {
   "cell_type": "code",
   "execution_count": 15,
   "id": "a13e3455",
   "metadata": {},
   "outputs": [],
   "source": [
    "#Let's first instantiate the model.\n",
    "model = MovielensModel()\n",
    "model.compile(optimizer=tf.keras.optimizers.Adagrad(learning_rate=0.1)) #defauly learning_rate=0.001"
   ]
  },
  {
   "cell_type": "code",
   "execution_count": 16,
   "id": "2aa6d856",
   "metadata": {},
   "outputs": [],
   "source": [
    "# Then shuffle, batch, and cache the training and evaluation data:\n",
    "# Segment the batches so that the model runs 13 training batches (2^13) and 11 test batches (2^11) per epoch, \n",
    "# while having a batch size which is a multiple of 2^n.\n",
    "cached_train = train.shuffle(l).batch(8192).cache()\n",
    "cached_test = test.batch(2048).cache()"
   ]
  },
  {
   "cell_type": "code",
   "execution_count": 17,
   "id": "a0b462c2",
   "metadata": {
    "scrolled": true
   },
   "outputs": [
    {
     "name": "stdout",
     "output_type": "stream",
     "text": [
      "Epoch 1/3\n",
      "92/92 [==============================] - 36s 227ms/step - root_mean_squared_error: 1.2698 - loss: 1.6049 - regularization_loss: 0.0000e+00 - total_loss: 1.6049 - val_root_mean_squared_error: 1.0699 - val_loss: 1.0821 - val_regularization_loss: 0.0000e+00 - val_total_loss: 1.0821\n",
      "Epoch 2/3\n",
      "92/92 [==============================] - 2s 23ms/step - root_mean_squared_error: 1.0186 - loss: 1.0361 - regularization_loss: 0.0000e+00 - total_loss: 1.0361 - val_root_mean_squared_error: 0.9807 - val_loss: 0.9176 - val_regularization_loss: 0.0000e+00 - val_total_loss: 0.9176\n",
      "Epoch 3/3\n",
      "92/92 [==============================] - 2s 24ms/step - root_mean_squared_error: 0.9535 - loss: 0.9081 - regularization_loss: 0.0000e+00 - total_loss: 0.9081 - val_root_mean_squared_error: 0.9319 - val_loss: 0.8102 - val_regularization_loss: 0.0000e+00 - val_total_loss: 0.8102\n"
     ]
    }
   ],
   "source": [
    "# Then, let's train the model:\n",
    "history_train = model.fit(cached_train, validation_data = cached_test, epochs=3)"
   ]
  },
  {
   "cell_type": "markdown",
   "id": "fc8d828e",
   "metadata": {},
   "source": [
    "Now, we can compile and train the model using the fit method. You can see that the loss is falling and the RMSE metric is improving."
   ]
  },
  {
   "cell_type": "markdown",
   "id": "328140da",
   "metadata": {},
   "source": [
    "### 4.4 Visualization: Total loss and RMSE over epochs"
   ]
  },
  {
   "cell_type": "code",
   "execution_count": 21,
   "id": "54580136",
   "metadata": {},
   "outputs": [
    {
     "data": {
      "image/png": "[encoded data removed]",
      "text/plain": [
       "<Figure size 1152x432 with 1 Axes>"
      ]
     },
     "metadata": {},
     "output_type": "display_data"
    }
   ],
   "source": [
    "plt.subplots(figsize = (16,6))\n",
    "plt.plot(history_train.history['total_loss'],color='red', alpha=0.8, label='loss')\n",
    "plt.title(\"Total Loss over epochs\", fontsize=14)\n",
    "#plt.ylabel('Loss Total')\n",
    "plt.xlabel('epochs')\n",
    "plt.legend(loc='upper right')\n",
    "plt.show()\n"
   ]
  },
  {
   "cell_type": "code",
   "execution_count": 20,
   "id": "e7e66302",
   "metadata": {},
   "outputs": [
    {
     "data": {
      "image/png": "[encoded data removed]",
      "text/plain": [
       "<Figure size 1152x432 with 1 Axes>"
      ]
     },
     "metadata": {},
     "output_type": "display_data"
    }
   ],
   "source": [
    "plt.subplots(figsize = (16,6))\n",
    "plt.plot(history_train.history['root_mean_squared_error'],color='red', alpha=0.8, label='RMSE-Train')\n",
    "plt.plot(history_train.history['val_root_mean_squared_error'],color='green', alpha=0.8, label='RMSE-Test')\n",
    "plt.title(\"RMSE over epochs\", fontsize=14)\n",
    "#plt.ylabel('Loss Total')\n",
    "plt.xlabel('epochs')\n",
    "plt.legend(loc='upper right')\n",
    "plt.show()"
   ]
  },
  {
   "cell_type": "code",
   "execution_count": 22,
   "id": "78533902",
   "metadata": {},
   "outputs": [
    {
     "name": "stdout",
     "output_type": "stream",
     "text": [
      "123/123 [==============================] - 0s 3ms/step - root_mean_squared_error: 0.9319 - loss: 0.8675 - regularization_loss: 0.0000e+00 - total_loss: 0.8675\n"
     ]
    },
    {
     "data": {
      "text/plain": [
       "{'root_mean_squared_error': 0.9318667650222778,\n",
       " 'loss': 0.8102383017539978,\n",
       " 'regularization_loss': 0,\n",
       " 'total_loss': 0.8102383017539978}"
      ]
     },
     "execution_count": 22,
     "metadata": {},
     "output_type": "execute_result"
    }
   ],
   "source": [
    "#Evaluate the model\n",
    "model.evaluate(cached_test, return_dict=True)"
   ]
  },
  {
   "cell_type": "markdown",
   "id": "d304f3c0",
   "metadata": {},
   "source": [
    "The lower the RMSE metric, the more accurate our model is at predicting ratings."
   ]
  },
  {
   "cell_type": "markdown",
   "id": "9d0ab90d",
   "metadata": {},
   "source": [
    "## 5. Ranking Tuning\n",
    "\n",
    "### 5.1 Two Dense Layers + embedding_dimension = 64 + epochs = 32"
   ]
  },
  {
   "cell_type": "code",
   "execution_count": 23,
   "id": "3e64723a",
   "metadata": {},
   "outputs": [],
   "source": [
    "class RankingModel(tf.keras.Model):\n",
    "\n",
    "    def __init__(self):\n",
    "        super().__init__()\n",
    "        #Higher values will correspond to models that may be more accurate, but will also be slower to fit and more prone to overfitting:\n",
    "        embedding_dimension = 64\n",
    "\n",
    "        # Compute embeddings for users.\n",
    "        self.user_embeddings = tf.keras.Sequential([\n",
    "                               tf.keras.layers.experimental.preprocessing.StringLookup(\n",
    "                               vocabulary=unique_user_ids, mask_token=None),\n",
    "                               tf.keras.layers.Embedding(len(unique_user_ids) + 1, embedding_dimension)\n",
    "                                                  ])\n",
    "\n",
    "        # Compute embeddings for movies.\n",
    "        self.movie_embeddings = tf.keras.Sequential([\n",
    "                                tf.keras.layers.experimental.preprocessing.StringLookup(\n",
    "                                vocabulary=unique_movie_titles, mask_token=None),\n",
    "                                tf.keras.layers.Embedding(len(unique_movie_titles) + 1, embedding_dimension)\n",
    "                                                   ])\n",
    "\n",
    "        # Compute predictions.\n",
    "        self.ratings = tf.keras.Sequential([\n",
    "                                          # Learn multiple dense layers.\n",
    "                                          tf.keras.layers.Dense(256, activation=\"relu\"),\n",
    "                                          tf.keras.layers.Dense(64, activation=\"relu\"),\n",
    "                                          # Make rating predictions in the final layer.\n",
    "                                          tf.keras.layers.Dense(1)\n",
    "                                          ])\n",
    "\n",
    "    def call(self, inputs):\n",
    "\n",
    "        user_id, movie_title = inputs\n",
    "\n",
    "        user_embedding = self.user_embeddings(user_id)\n",
    "        movie_embedding = self.movie_embeddings(movie_title)\n",
    "\n",
    "        return self.ratings(tf.concat([user_embedding, movie_embedding], axis=1))"
   ]
  },
  {
   "cell_type": "code",
   "execution_count": 24,
   "id": "5ba3cf48",
   "metadata": {
    "scrolled": true
   },
   "outputs": [
    {
     "name": "stdout",
     "output_type": "stream",
     "text": [
      "WARNING:tensorflow:Layers in a Sequential model should only have a single input tensor, but we receive a <class 'list'> input: ['42']\n",
      "Consider rewriting this model with the Functional API.\n"
     ]
    },
    {
     "name": "stderr",
     "output_type": "stream",
     "text": [
      "WARNING:tensorflow:Layers in a Sequential model should only have a single input tensor, but we receive a <class 'list'> input: ['42']\n",
      "Consider rewriting this model with the Functional API.\n"
     ]
    },
    {
     "name": "stdout",
     "output_type": "stream",
     "text": [
      "WARNING:tensorflow:Layers in a Sequential model should only have a single input tensor, but we receive a <class 'list'> input: ['7th Voyage of Sinbad, The (1958)']\n",
      "Consider rewriting this model with the Functional API.\n"
     ]
    },
    {
     "name": "stderr",
     "output_type": "stream",
     "text": [
      "WARNING:tensorflow:Layers in a Sequential model should only have a single input tensor, but we receive a <class 'list'> input: ['7th Voyage of Sinbad, The (1958)']\n",
      "Consider rewriting this model with the Functional API.\n"
     ]
    },
    {
     "data": {
      "text/plain": [
       "<tf.Tensor: shape=(1, 1), dtype=float32, numpy=array([[0.03304617]], dtype=float32)>"
      ]
     },
     "execution_count": 24,
     "metadata": {},
     "output_type": "execute_result"
    }
   ],
   "source": [
    "RankingModel()(([\"42\"], [\"7th Voyage of Sinbad, The (1958)\"]))\n"
   ]
  },
  {
   "cell_type": "code",
   "execution_count": 25,
   "id": "9a7f9ea6",
   "metadata": {},
   "outputs": [],
   "source": [
    "task = tfrs.tasks.Ranking(\n",
    "                         loss = tf.keras.losses.MeanSquaredError(),\n",
    "                         metrics=[tf.keras.metrics.RootMeanSquaredError()]\n",
    "                         )"
   ]
  },
  {
   "cell_type": "code",
   "execution_count": 26,
   "id": "c94e30f6",
   "metadata": {},
   "outputs": [],
   "source": [
    "class MovielensModel(tfrs.models.Model):\n",
    "\n",
    "    def __init__(self):\n",
    "        super().__init__()\n",
    "        self.ranking_model: tf.keras.Model = RankingModel()\n",
    "        self.task: tf.keras.layers.Layer = tfrs.tasks.Ranking(\n",
    "                                                              loss = tf.keras.losses.MeanSquaredError(),\n",
    "                                                               metrics=[tf.keras.metrics.RootMeanSquaredError()]\n",
    "                                                              )\n",
    "\n",
    "    def compute_loss(self, features: Dict[Text, tf.Tensor], training=False) -> tf.Tensor:\n",
    "        rating_predictions = self.ranking_model((features[\"user_id\"], features[\"movie_title\"]))\n",
    "\n",
    "        # The task computes the loss and the metrics.\n",
    "        return self.task(labels=features[\"user_rating\"], predictions=rating_predictions)"
   ]
  },
  {
   "cell_type": "code",
   "execution_count": 27,
   "id": "a06fdaf5",
   "metadata": {},
   "outputs": [],
   "source": [
    "#Let's first instantiate the model.\n",
    "model_1 = MovielensModel()\n",
    "model_1.compile(optimizer=tf.keras.optimizers.Adagrad(learning_rate=0.1)) #defauly learning_rate=0.001"
   ]
  },
  {
   "cell_type": "code",
   "execution_count": 28,
   "id": "eac5aa0a",
   "metadata": {},
   "outputs": [],
   "source": [
    "# Then shuffle, batch, and cache the training and evaluation data:\n",
    "# Segment the batches so that the model runs 13 training batches (2^13) and 11 test batches (2^11) per epoch, \n",
    "# while having a batch size which is a multiple of 2^n.\n",
    "cached_train = train.shuffle(l).batch(8192).cache()\n",
    "cached_test = test.batch(2048).cache()"
   ]
  },
  {
   "cell_type": "code",
   "execution_count": 29,
   "id": "8cc4a0df",
   "metadata": {
    "scrolled": true
   },
   "outputs": [
    {
     "name": "stdout",
     "output_type": "stream",
     "text": [
      "Epoch 1/32\n",
      "92/92 [==============================] - 38s 271ms/step - root_mean_squared_error: 1.2461 - loss: 1.5458 - regularization_loss: 0.0000e+00 - total_loss: 1.5458 - val_root_mean_squared_error: 1.0557 - val_loss: 1.1432 - val_regularization_loss: 0.0000e+00 - val_total_loss: 1.1432\n",
      "Epoch 2/32\n",
      "92/92 [==============================] - 4s 39ms/step - root_mean_squared_error: 1.0111 - loss: 1.0209 - regularization_loss: 0.0000e+00 - total_loss: 1.0209 - val_root_mean_squared_error: 0.9703 - val_loss: 0.9552 - val_regularization_loss: 0.0000e+00 - val_total_loss: 0.9552\n",
      "Epoch 3/32\n",
      "92/92 [==============================] - 4s 39ms/step - root_mean_squared_error: 0.9461 - loss: 0.8954 - regularization_loss: 0.0000e+00 - total_loss: 0.8954 - val_root_mean_squared_error: 0.9592 - val_loss: 0.9399 - val_regularization_loss: 0.0000e+00 - val_total_loss: 0.9399error: 0.9534 - loss: 0.9091 - regularization - ETA: 0s - root_mean_squared_error: 0.9461 - loss: 0.8951 - regularization_loss: 0.0000e+00 - total_\n",
      "Epoch 4/32\n",
      "92/92 [==============================] - 4s 39ms/step - root_mean_squared_error: 0.9272 - loss: 0.8593 - regularization_loss: 0.0000e+00 - total_loss: 0.8593 - val_root_mean_squared_error: 0.9251 - val_loss: 0.8882 - val_regularization_loss: 0.0000e+00 - val_total_loss: 0.8882\n",
      "Epoch 5/32\n",
      "92/92 [==============================] - 4s 39ms/step - root_mean_squared_error: 0.9160 - loss: 0.8387 - regularization_loss: 0.0000e+00 - total_loss: 0.8387 - val_root_mean_squared_error: 0.9177 - val_loss: 0.8825 - val_regularization_loss: 0.0000e+00 - val_total_loss: 0.8825\n",
      "Epoch 6/32\n",
      "92/92 [==============================] - 4s 39ms/step - root_mean_squared_error: 0.9111 - loss: 0.8298 - regularization_loss: 0.0000e+00 - total_loss: 0.8298 - val_root_mean_squared_error: 0.9124 - val_loss: 0.8773 - val_regularization_loss: 0.0000e+00 - val_total_loss: 0.8773squared_error: 0.9117 - loss: 0\n",
      "Epoch 7/32\n",
      "92/92 [==============================] - 4s 39ms/step - root_mean_squared_error: 0.9081 - loss: 0.8243 - regularization_loss: 0.0000e+00 - total_loss: 0.8243 - val_root_mean_squared_error: 0.9092 - val_loss: 0.8745 - val_regularization_loss: 0.0000e+00 - val_total_loss: 0.8745\n",
      "Epoch 8/32\n",
      "92/92 [==============================] - 4s 39ms/step - root_mean_squared_error: 0.9063 - loss: 0.8209 - regularization_loss: 0.0000e+00 - total_loss: 0.8209 - val_root_mean_squared_error: 0.9071 - val_loss: 0.8728 - val_regularization_loss: 0.0000e+00 - val_total_loss: 0.8728\n",
      "Epoch 9/32\n",
      "92/92 [==============================] - 4s 39ms/step - root_mean_squared_error: 0.9050 - loss: 0.8186 - regularization_loss: 0.0000e+00 - total_loss: 0.8186 - val_root_mean_squared_error: 0.9057 - val_loss: 0.8718 - val_regularization_loss: 0.0000e+00 - val_total_loss: 0.8718ean_squared_error: 0.9048 - loss: 0.8\n",
      "Epoch 10/32\n",
      "92/92 [==============================] - 4s 39ms/step - root_mean_squared_error: 0.9041 - loss: 0.8170 - regularization_loss: 0.0000e+00 - total_loss: 0.8170 - val_root_mean_squared_error: 0.9046 - val_loss: 0.8712 - val_regularization_loss: 0.0000e+00 - val_total_loss: 0.8712\n",
      "Epoch 11/32\n",
      "92/92 [==============================] - 4s 39ms/step - root_mean_squared_error: 0.9034 - loss: 0.8158 - regularization_loss: 0.0000e+00 - total_loss: 0.8158 - val_root_mean_squared_error: 0.9041 - val_loss: 0.8717 - val_regularization_loss: 0.0000e+00 - val_total_loss: 0.8717\n",
      "Epoch 12/32\n",
      "92/92 [==============================] - 4s 41ms/step - root_mean_squared_error: 0.9029 - loss: 0.8149 - regularization_loss: 0.0000e+00 - total_loss: 0.8149 - val_root_mean_squared_error: 0.9036 - val_loss: 0.8717 - val_regularization_loss: 0.0000e+00 - val_total_loss: 0.8717\n",
      "Epoch 13/32\n",
      "92/92 [==============================] - 4s 40ms/step - root_mean_squared_error: 0.9025 - loss: 0.8140 - regularization_loss: 0.0000e+00 - total_loss: 0.8140 - val_root_mean_squared_error: 0.9030 - val_loss: 0.8711 - val_regularization_loss: 0.0000e+00 - val_total_loss: 0.8711\n",
      "Epoch 14/32\n",
      "92/92 [==============================] - 4s 39ms/step - root_mean_squared_error: 0.9021 - loss: 0.8133 - regularization_loss: 0.0000e+00 - total_loss: 0.8133 - val_root_mean_squared_error: 0.9026 - val_loss: 0.8706 - val_regularization_loss: 0.0000e+00 - val_total_loss: 0.8706\n",
      "Epoch 15/32\n",
      "92/92 [==============================] - 4s 48ms/step - root_mean_squared_error: 0.9017 - loss: 0.8126 - regularization_loss: 0.0000e+00 - total_loss: 0.8126 - val_root_mean_squared_error: 0.9022 - val_loss: 0.8699 - val_regularization_loss: 0.0000e+00 - val_total_loss: 0.8699\n",
      "Epoch 16/32\n",
      "92/92 [==============================] - 6s 61ms/step - root_mean_squared_error: 0.9014 - loss: 0.8120 - regularization_loss: 0.0000e+00 - total_loss: 0.8120 - val_root_mean_squared_error: 0.9018 - val_loss: 0.8693 - val_regularization_loss: 0.0000e+00 - val_total_loss: 0.8693\n",
      "Epoch 17/32\n",
      "92/92 [==============================] - 5s 59ms/step - root_mean_squared_error: 0.9010 - loss: 0.8115 - regularization_loss: 0.0000e+00 - total_loss: 0.8115 - val_root_mean_squared_error: 0.9015 - val_loss: 0.8687 - val_regularization_loss: 0.0000e+00 - val_total_loss: 0.8687\n",
      "Epoch 18/32\n",
      "92/92 [==============================] - 5s 58ms/step - root_mean_squared_error: 0.9007 - loss: 0.8109 - regularization_loss: 0.0000e+00 - total_loss: 0.8109 - val_root_mean_squared_error: 0.9012 - val_loss: 0.8681 - val_regularization_loss: 0.0000e+00 - val_total_loss: 0.8681\n",
      "Epoch 19/32\n",
      "92/92 [==============================] - 5s 59ms/step - root_mean_squared_error: 0.9004 - loss: 0.8104 - regularization_loss: 0.0000e+00 - total_loss: 0.8104 - val_root_mean_squared_error: 0.9009 - val_loss: 0.8674 - val_regularization_loss: 0.0000e+00 - val_total_loss: 0.8674\n",
      "Epoch 20/32\n",
      "92/92 [==============================] - 6s 61ms/step - root_mean_squared_error: 0.9001 - loss: 0.8098 - regularization_loss: 0.0000e+00 - total_loss: 0.8098 - val_root_mean_squared_error: 0.9007 - val_loss: 0.8666 - val_regularization_loss: 0.0000e+00 - val_total_loss: 0.8666\n",
      "Epoch 21/32\n",
      "92/92 [==============================] - 6s 66ms/step - root_mean_squared_error: 0.8998 - loss: 0.8093 - regularization_loss: 0.0000e+00 - total_loss: 0.8093 - val_root_mean_squared_error: 0.9004 - val_loss: 0.8656 - val_regularization_loss: 0.0000e+00 - val_total_loss: 0.8656\n",
      "Epoch 22/32\n",
      "92/92 [==============================] - 6s 61ms/step - root_mean_squared_error: 0.8995 - loss: 0.8087 - regularization_loss: 0.0000e+00 - total_loss: 0.8087 - val_root_mean_squared_error: 0.9002 - val_loss: 0.8646 - val_regularization_loss: 0.0000e+00 - val_total_loss: 0.8646\n",
      "Epoch 23/32\n",
      "92/92 [==============================] - 6s 61ms/step - root_mean_squared_error: 0.8992 - loss: 0.8082 - regularization_loss: 0.0000e+00 - total_loss: 0.8082 - val_root_mean_squared_error: 0.9000 - val_loss: 0.8635 - val_regularization_loss: 0.0000e+00 - val_total_loss: 0.8635\n",
      "Epoch 24/32\n",
      "92/92 [==============================] - 6s 63ms/step - root_mean_squared_error: 0.8989 - loss: 0.8076 - regularization_loss: 0.0000e+00 - total_loss: 0.8076 - val_root_mean_squared_error: 0.8998 - val_loss: 0.8624 - val_regularization_loss: 0.0000e+00 - val_total_loss: 0.8624\n",
      "Epoch 25/32\n",
      "92/92 [==============================] - 6s 65ms/step - root_mean_squared_error: 0.8986 - loss: 0.8071 - regularization_loss: 0.0000e+00 - total_loss: 0.8071 - val_root_mean_squared_error: 0.8996 - val_loss: 0.8610 - val_regularization_loss: 0.0000e+00 - val_total_loss: 0.8610\n",
      "Epoch 26/32\n",
      "92/92 [==============================] - 6s 63ms/step - root_mean_squared_error: 0.8983 - loss: 0.8065 - regularization_loss: 0.0000e+00 - total_loss: 0.8065 - val_root_mean_squared_error: 0.8994 - val_loss: 0.8598 - val_regularization_loss: 0.0000e+00 - val_total_loss: 0.8598\n",
      "Epoch 27/32\n",
      "92/92 [==============================] - 6s 65ms/step - root_mean_squared_error: 0.8979 - loss: 0.8059 - regularization_loss: 0.0000e+00 - total_loss: 0.8059 - val_root_mean_squared_error: 0.8992 - val_loss: 0.8584 - val_regularization_loss: 0.0000e+00 - val_total_loss: 0.8584\n",
      "Epoch 28/32\n"
     ]
    },
    {
     "name": "stdout",
     "output_type": "stream",
     "text": [
      "92/92 [==============================] - 6s 63ms/step - root_mean_squared_error: 0.8976 - loss: 0.8053 - regularization_loss: 0.0000e+00 - total_loss: 0.8053 - val_root_mean_squared_error: 0.8990 - val_loss: 0.8571 - val_regularization_loss: 0.0000e+00 - val_total_loss: 0.8571\n",
      "Epoch 29/32\n",
      "92/92 [==============================] - 6s 65ms/step - root_mean_squared_error: 0.8973 - loss: 0.8047 - regularization_loss: 0.0000e+00 - total_loss: 0.8047 - val_root_mean_squared_error: 0.8988 - val_loss: 0.8559 - val_regularization_loss: 0.0000e+00 - val_total_loss: 0.8559\n",
      "Epoch 30/32\n",
      "92/92 [==============================] - 6s 65ms/step - root_mean_squared_error: 0.8969 - loss: 0.8041 - regularization_loss: 0.0000e+00 - total_loss: 0.8041 - val_root_mean_squared_error: 0.8986 - val_loss: 0.8547 - val_regularization_loss: 0.0000e+00 - val_total_loss: 0.8547\n",
      "Epoch 31/32\n",
      "92/92 [==============================] - 6s 66ms/step - root_mean_squared_error: 0.8965 - loss: 0.8033 - regularization_loss: 0.0000e+00 - total_loss: 0.8033 - val_root_mean_squared_error: 0.8983 - val_loss: 0.8538 - val_regularization_loss: 0.0000e+00 - val_total_loss: 0.8538\n",
      "Epoch 32/32\n",
      "92/92 [==============================] - 6s 62ms/step - root_mean_squared_error: 0.8961 - loss: 0.8026 - regularization_loss: 0.0000e+00 - total_loss: 0.8026 - val_root_mean_squared_error: 0.8984 - val_loss: 0.8538 - val_regularization_loss: 0.0000e+00 - val_total_loss: 0.8538\n"
     ]
    }
   ],
   "source": [
    "# Then, let's train the model:\n",
    "history_train_1 = model_1.fit(cached_train, validation_data = cached_test, epochs=32)"
   ]
  },
  {
   "cell_type": "code",
   "execution_count": 30,
   "id": "efe3ea9e",
   "metadata": {},
   "outputs": [
    {
     "data": {
      "image/png": "[encoded data removed]",
      "text/plain": [
       "<Figure size 1152x432 with 1 Axes>"
      ]
     },
     "metadata": {},
     "output_type": "display_data"
    }
   ],
   "source": [
    "plt.subplots(figsize = (16,6))\n",
    "plt.plot(history_train_1.history['total_loss'],color='red', alpha=0.8, label='loss')\n",
    "plt.title(\"Total Loss over epochs\", fontsize=14)\n",
    "#plt.ylabel('Loss Total')\n",
    "plt.xlabel('epochs')\n",
    "plt.legend(loc='upper right')\n",
    "plt.show()\n"
   ]
  },
  {
   "cell_type": "code",
   "execution_count": 31,
   "id": "153a6352",
   "metadata": {},
   "outputs": [
    {
     "data": {
      "image/png": "[encoded data removed]",
      "text/plain": [
       "<Figure size 1152x432 with 1 Axes>"
      ]
     },
     "metadata": {},
     "output_type": "display_data"
    }
   ],
   "source": [
    "plt.subplots(figsize = (16,6))\n",
    "plt.plot(history_train_1.history['root_mean_squared_error'],color='red', alpha=0.8, label='RMSE-Train')\n",
    "plt.plot(history_train_1.history['val_root_mean_squared_error'],color='green', alpha=0.8, label='RMSE-Test')\n",
    "plt.title(\"RMSE over epochs\", fontsize=14)\n",
    "#plt.ylabel('Loss Total')\n",
    "plt.xlabel('epochs')\n",
    "plt.legend(loc='upper right')\n",
    "plt.show()"
   ]
  },
  {
   "cell_type": "code",
   "execution_count": 32,
   "id": "8acc8f58",
   "metadata": {},
   "outputs": [
    {
     "name": "stdout",
     "output_type": "stream",
     "text": [
      "123/123 [==============================] - 1s 7ms/step - root_mean_squared_error: 0.8984 - loss: 0.8078 - regularization_loss: 0.0000e+00 - total_loss: 0.8078\n"
     ]
    },
    {
     "data": {
      "text/plain": [
       "{'root_mean_squared_error': 0.8983687162399292,\n",
       " 'loss': 0.8537996411323547,\n",
       " 'regularization_loss': 0,\n",
       " 'total_loss': 0.8537996411323547}"
      ]
     },
     "execution_count": 32,
     "metadata": {},
     "output_type": "execute_result"
    }
   ],
   "source": [
    "#Evaluate the model\n",
    "model_1.evaluate(cached_test, return_dict=True)"
   ]
  },
  {
   "cell_type": "code",
   "execution_count": null,
   "id": "e4084eaa",
   "metadata": {},
   "outputs": [],
   "source": []
  },
  {
   "cell_type": "markdown",
   "id": "ce3943de",
   "metadata": {},
   "source": [
    "### 5.2 Deeper Network: 3 Dense Layers + embedding_dimension = 64 + epochs = 32"
   ]
  },
  {
   "cell_type": "code",
   "execution_count": 71,
   "id": "c07cc7d1",
   "metadata": {},
   "outputs": [],
   "source": [
    "class RankingModel(tf.keras.Model):\n",
    "\n",
    "    def __init__(self):\n",
    "        super().__init__()\n",
    "        #Higher values will correspond to models that may be more accurate, but will also be slower to fit and more prone to overfitting:\n",
    "        embedding_dimension = 64\n",
    "\n",
    "        # Compute embeddings for users.\n",
    "        self.user_embeddings = tf.keras.Sequential([\n",
    "                               tf.keras.layers.experimental.preprocessing.StringLookup(\n",
    "                               vocabulary=unique_user_ids, mask_token=None),\n",
    "                               tf.keras.layers.Embedding(len(unique_user_ids) + 1, embedding_dimension)\n",
    "                                                  ])\n",
    "\n",
    "        # Compute embeddings for movies.\n",
    "        self.movie_embeddings = tf.keras.Sequential([\n",
    "                                tf.keras.layers.experimental.preprocessing.StringLookup(\n",
    "                                vocabulary=unique_movie_titles, mask_token=None),\n",
    "                                tf.keras.layers.Embedding(len(unique_movie_titles) + 1, embedding_dimension)\n",
    "                                                   ])\n",
    "\n",
    "        # Compute predictions.\n",
    "        self.ratings = tf.keras.Sequential([\n",
    "                                          # Learn multiple dense layers.\n",
    "                                          tf.keras.layers.Dense(128, activation=\"relu\"),\n",
    "                                          tf.keras.layers.Dense(128, activation=\"relu\"),\n",
    "                                          tf.keras.layers.Dense(64, activation=\"relu\"),\n",
    "                                          # Make rating predictions in the final layer.\n",
    "                                          tf.keras.layers.Dense(1)\n",
    "                                          ])\n",
    "\n",
    "    def call(self, inputs):\n",
    "\n",
    "        user_id, movie_title = inputs\n",
    "\n",
    "        user_embedding = self.user_embeddings(user_id)\n",
    "        movie_embedding = self.movie_embeddings(movie_title)\n",
    "\n",
    "        return self.ratings(tf.concat([user_embedding, movie_embedding], axis=1))"
   ]
  },
  {
   "cell_type": "code",
   "execution_count": 75,
   "id": "c5a18f13",
   "metadata": {
    "scrolled": true
   },
   "outputs": [
    {
     "name": "stdout",
     "output_type": "stream",
     "text": [
      "WARNING:tensorflow:Layers in a Sequential model should only have a single input tensor, but we receive a <class 'list'> input: ['42']\n",
      "Consider rewriting this model with the Functional API.\n"
     ]
    },
    {
     "name": "stderr",
     "output_type": "stream",
     "text": [
      "WARNING:tensorflow:Layers in a Sequential model should only have a single input tensor, but we receive a <class 'list'> input: ['42']\n",
      "Consider rewriting this model with the Functional API.\n"
     ]
    },
    {
     "name": "stdout",
     "output_type": "stream",
     "text": [
      "WARNING:tensorflow:Layers in a Sequential model should only have a single input tensor, but we receive a <class 'list'> input: ['7th Voyage of Sinbad, The (1958)']\n",
      "Consider rewriting this model with the Functional API.\n"
     ]
    },
    {
     "name": "stderr",
     "output_type": "stream",
     "text": [
      "WARNING:tensorflow:Layers in a Sequential model should only have a single input tensor, but we receive a <class 'list'> input: ['7th Voyage of Sinbad, The (1958)']\n",
      "Consider rewriting this model with the Functional API.\n"
     ]
    },
    {
     "data": {
      "text/plain": [
       "<tf.Tensor: shape=(1, 1), dtype=float32, numpy=array([[0.01368098]], dtype=float32)>"
      ]
     },
     "execution_count": 75,
     "metadata": {},
     "output_type": "execute_result"
    }
   ],
   "source": [
    "RankingModel()(([\"42\"], [\"7th Voyage of Sinbad, The (1958)\"]))\n"
   ]
  },
  {
   "cell_type": "code",
   "execution_count": 76,
   "id": "f0d1973e",
   "metadata": {},
   "outputs": [],
   "source": [
    "task = tfrs.tasks.Ranking(\n",
    "                         loss = tf.keras.losses.MeanSquaredError(),\n",
    "                         metrics=[tf.keras.metrics.RootMeanSquaredError()]\n",
    "                         )"
   ]
  },
  {
   "cell_type": "code",
   "execution_count": 77,
   "id": "d50c92b3",
   "metadata": {},
   "outputs": [],
   "source": [
    "class MovielensModel(tfrs.models.Model):\n",
    "\n",
    "    def __init__(self):\n",
    "        super().__init__()\n",
    "        self.ranking_model: tf.keras.Model = RankingModel()\n",
    "        self.task: tf.keras.layers.Layer = tfrs.tasks.Ranking(\n",
    "                                                              loss = tf.keras.losses.MeanSquaredError(),\n",
    "                                                               metrics=[tf.keras.metrics.RootMeanSquaredError()]\n",
    "                                                              )\n",
    "\n",
    "    def compute_loss(self, features: Dict[Text, tf.Tensor], training=False) -> tf.Tensor:\n",
    "        rating_predictions = self.ranking_model((features[\"user_id\"], features[\"movie_title\"]))\n",
    "\n",
    "        # The task computes the loss and the metrics.\n",
    "        return self.task(labels=features[\"user_rating\"], predictions=rating_predictions)"
   ]
  },
  {
   "cell_type": "code",
   "execution_count": 78,
   "id": "02225374",
   "metadata": {},
   "outputs": [],
   "source": [
    "#Let's first instantiate the model.\n",
    "model_2 = MovielensModel()\n",
    "model_2.compile(optimizer=tf.keras.optimizers.Adagrad(learning_rate=0.1)) #defauly learning_rate=0.001"
   ]
  },
  {
   "cell_type": "code",
   "execution_count": 79,
   "id": "08973a6e",
   "metadata": {},
   "outputs": [],
   "source": [
    "# Then shuffle, batch, and cache the training and evaluation data:\n",
    "# Segment the batches so that the model runs 13 training batches (2^13) and 11 test batches (2^11) per epoch, \n",
    "# while having a batch size which is a multiple of 2^n.\n",
    "cached_train = train.shuffle(l).batch(8192).cache()\n",
    "cached_test = test.batch(2048).cache()"
   ]
  },
  {
   "cell_type": "code",
   "execution_count": 80,
   "id": "9adf4791",
   "metadata": {
    "scrolled": true
   },
   "outputs": [
    {
     "name": "stdout",
     "output_type": "stream",
     "text": [
      "Epoch 1/32\n",
      "92/92 [==============================] - 42s 314ms/step - root_mean_squared_error: 1.3079 - loss: 1.7031 - regularization_loss: 0.0000e+00 - total_loss: 1.7031 - val_root_mean_squared_error: 1.1005 - val_loss: 1.1245 - val_regularization_loss: 0.0000e+00 - val_total_loss: 1.1245\n",
      "Epoch 2/32\n",
      "92/92 [==============================] - 4s 48ms/step - root_mean_squared_error: 1.0581 - loss: 1.1177 - regularization_loss: 0.0000e+00 - total_loss: 1.1177 - val_root_mean_squared_error: 0.9918 - val_loss: 0.9704 - val_regularization_loss: 0.0000e+00 - val_total_loss: 0.9704\n",
      "Epoch 3/32\n",
      "92/92 [==============================] - 5s 56ms/step - root_mean_squared_error: 0.9624 - loss: 0.9251 - regularization_loss: 0.0000e+00 - total_loss: 0.9251 - val_root_mean_squared_error: 0.9293 - val_loss: 0.9321 - val_regularization_loss: 0.0000e+00 - val_total_loss: 0.9321\n",
      "Epoch 4/32\n",
      "92/92 [==============================] - 5s 57ms/step - root_mean_squared_error: 0.9277 - loss: 0.8604 - regularization_loss: 0.0000e+00 - total_loss: 0.8604 - val_root_mean_squared_error: 0.9239 - val_loss: 0.9399 - val_regularization_loss: 0.0000e+00 - val_total_loss: 0.9399\n",
      "Epoch 5/32\n",
      "92/92 [==============================] - 5s 57ms/step - root_mean_squared_error: 0.9149 - loss: 0.8367 - regularization_loss: 0.0000e+00 - total_loss: 0.8367 - val_root_mean_squared_error: 0.9126 - val_loss: 0.9109 - val_regularization_loss: 0.0000e+00 - val_total_loss: 0.9109\n",
      "Epoch 6/32\n",
      "92/92 [==============================] - 6s 64ms/step - root_mean_squared_error: 0.9082 - loss: 0.8246 - regularization_loss: 0.0000e+00 - total_loss: 0.8246 - val_root_mean_squared_error: 0.9073 - val_loss: 0.8940 - val_regularization_loss: 0.0000e+00 - val_total_loss: 0.8940\n",
      "Epoch 7/32\n",
      "92/92 [==============================] - 5s 58ms/step - root_mean_squared_error: 0.9044 - loss: 0.8176 - regularization_loss: 0.0000e+00 - total_loss: 0.8176 - val_root_mean_squared_error: 0.9031 - val_loss: 0.8786 - val_regularization_loss: 0.0000e+00 - val_total_loss: 0.8786\n",
      "Epoch 8/32\n",
      "92/92 [==============================] - 6s 61ms/step - root_mean_squared_error: 0.9026 - loss: 0.8143 - regularization_loss: 0.0000e+00 - total_loss: 0.8143 - val_root_mean_squared_error: 0.9007 - val_loss: 0.8686 - val_regularization_loss: 0.0000e+00 - val_total_loss: 0.8686\n",
      "Epoch 9/32\n",
      "92/92 [==============================] - 6s 63ms/step - root_mean_squared_error: 0.9008 - loss: 0.8111 - regularization_loss: 0.0000e+00 - total_loss: 0.8111 - val_root_mean_squared_error: 0.9003 - val_loss: 0.8677 - val_regularization_loss: 0.0000e+00 - val_total_loss: 0.8677\n",
      "Epoch 10/32\n",
      "92/92 [==============================] - 6s 65ms/step - root_mean_squared_error: 0.8992 - loss: 0.8083 - regularization_loss: 0.0000e+00 - total_loss: 0.8083 - val_root_mean_squared_error: 0.8997 - val_loss: 0.8665 - val_regularization_loss: 0.0000e+00 - val_total_loss: 0.8665\n",
      "Epoch 11/32\n",
      "92/92 [==============================] - 6s 67ms/step - root_mean_squared_error: 0.8980 - loss: 0.8061 - regularization_loss: 0.0000e+00 - total_loss: 0.8061 - val_root_mean_squared_error: 0.8985 - val_loss: 0.8637 - val_regularization_loss: 0.0000e+00 - val_total_loss: 0.8637\n",
      "Epoch 12/32\n",
      "92/92 [==============================] - 6s 69ms/step - root_mean_squared_error: 0.8968 - loss: 0.8039 - regularization_loss: 0.0000e+00 - total_loss: 0.8039 - val_root_mean_squared_error: 0.8975 - val_loss: 0.8617 - val_regularization_loss: 0.0000e+00 - val_total_loss: 0.8617\n",
      "Epoch 13/32\n",
      "92/92 [==============================] - 6s 70ms/step - root_mean_squared_error: 0.8955 - loss: 0.8017 - regularization_loss: 0.0000e+00 - total_loss: 0.8017 - val_root_mean_squared_error: 0.8963 - val_loss: 0.8593 - val_regularization_loss: 0.0000e+00 - val_total_loss: 0.8593\n",
      "Epoch 14/32\n",
      "92/92 [==============================] - 7s 77ms/step - root_mean_squared_error: 0.8942 - loss: 0.7993 - regularization_loss: 0.0000e+00 - total_loss: 0.7993 - val_root_mean_squared_error: 0.8949 - val_loss: 0.8556 - val_regularization_loss: 0.0000e+00 - val_total_loss: 0.8556\n",
      "Epoch 15/32\n",
      "92/92 [==============================] - 7s 80ms/step - root_mean_squared_error: 0.8929 - loss: 0.7969 - regularization_loss: 0.0000e+00 - total_loss: 0.7969 - val_root_mean_squared_error: 0.8937 - val_loss: 0.8526 - val_regularization_loss: 0.0000e+00 - val_total_loss: 0.8526\n",
      "Epoch 16/32\n",
      "92/92 [==============================] - 7s 79ms/step - root_mean_squared_error: 0.8916 - loss: 0.7946 - regularization_loss: 0.0000e+00 - total_loss: 0.7946 - val_root_mean_squared_error: 0.8938 - val_loss: 0.8544 - val_regularization_loss: 0.0000e+00 - val_total_loss: 0.8544\n",
      "Epoch 17/32\n",
      "92/92 [==============================] - 8s 86ms/step - root_mean_squared_error: 0.8911 - loss: 0.7939 - regularization_loss: 0.0000e+00 - total_loss: 0.7939 - val_root_mean_squared_error: 0.8946 - val_loss: 0.8578 - val_regularization_loss: 0.0000e+00 - val_total_loss: 0.8578\n",
      "Epoch 18/32\n",
      "92/92 [==============================] - 8s 85ms/step - root_mean_squared_error: 0.8892 - loss: 0.7904 - regularization_loss: 0.0000e+00 - total_loss: 0.7904 - val_root_mean_squared_error: 0.8895 - val_loss: 0.8419 - val_regularization_loss: 0.0000e+00 - val_total_loss: 0.8419\n",
      "Epoch 19/32\n",
      "92/92 [==============================] - 8s 92ms/step - root_mean_squared_error: 0.8886 - loss: 0.7893 - regularization_loss: 0.0000e+00 - total_loss: 0.7893 - val_root_mean_squared_error: 0.8875 - val_loss: 0.8330 - val_regularization_loss: 0.0000e+00 - val_total_loss: 0.8330\n",
      "Epoch 20/32\n",
      "92/92 [==============================] - 9s 96ms/step - root_mean_squared_error: 0.8873 - loss: 0.7870 - regularization_loss: 0.0000e+00 - total_loss: 0.7870 - val_root_mean_squared_error: 0.8874 - val_loss: 0.8354 - val_regularization_loss: 0.0000e+00 - val_total_loss: 0.8354\n",
      "Epoch 21/32\n",
      "92/92 [==============================] - 10s 104ms/step - root_mean_squared_error: 0.8866 - loss: 0.7858 - regularization_loss: 0.0000e+00 - total_loss: 0.7858 - val_root_mean_squared_error: 0.8919 - val_loss: 0.8511 - val_regularization_loss: 0.0000e+00 - val_total_loss: 0.8511\n",
      "Epoch 22/32\n",
      "92/92 [==============================] - 10s 109ms/step - root_mean_squared_error: 0.8844 - loss: 0.7817 - regularization_loss: 0.0000e+00 - total_loss: 0.7817 - val_root_mean_squared_error: 0.8854 - val_loss: 0.8313 - val_regularization_loss: 0.0000e+00 - val_total_loss: 0.8313\n",
      "Epoch 23/32\n",
      "92/92 [==============================] - 10s 104ms/step - root_mean_squared_error: 0.8848 - loss: 0.7826 - regularization_loss: 0.0000e+00 - total_loss: 0.7826 - val_root_mean_squared_error: 0.8888 - val_loss: 0.8438 - val_regularization_loss: 0.0000e+00 - val_total_loss: 0.8438\n",
      "Epoch 24/32\n",
      "92/92 [==============================] - 10s 109ms/step - root_mean_squared_error: 0.8824 - loss: 0.7783 - regularization_loss: 0.0000e+00 - total_loss: 0.7783 - val_root_mean_squared_error: 0.8822 - val_loss: 0.8133 - val_regularization_loss: 0.0000e+00 - val_total_loss: 0.8133\n",
      "Epoch 25/32\n",
      "92/92 [==============================] - 10s 107ms/step - root_mean_squared_error: 0.8828 - loss: 0.7789 - regularization_loss: 0.0000e+00 - total_loss: 0.7789 - val_root_mean_squared_error: 0.8818 - val_loss: 0.8199 - val_regularization_loss: 0.0000e+00 - val_total_loss: 0.8199\n",
      "Epoch 26/32\n",
      "92/92 [==============================] - 10s 108ms/step - root_mean_squared_error: 0.8813 - loss: 0.7763 - regularization_loss: 0.0000e+00 - total_loss: 0.7763 - val_root_mean_squared_error: 0.8861 - val_loss: 0.8366 - val_regularization_loss: 0.0000e+00 - val_total_loss: 0.8366\n",
      "Epoch 27/32\n",
      "92/92 [==============================] - 10s 106ms/step - root_mean_squared_error: 0.8788 - loss: 0.7718 - regularization_loss: 0.0000e+00 - total_loss: 0.7718 - val_root_mean_squared_error: 0.8790 - val_loss: 0.8059 - val_regularization_loss: 0.0000e+00 - val_total_loss: 0.8059\n",
      "Epoch 28/32\n",
      "92/92 [==============================] - 10s 107ms/step - root_mean_squared_error: 0.8801 - loss: 0.7741 - regularization_loss: 0.0000e+00 - total_loss: 0.7741 - val_root_mean_squared_error: 0.8783 - val_loss: 0.8104 - val_regularization_loss: 0.0000e+00 - val_total_loss: 0.8104\n",
      "Epoch 29/32\n"
     ]
    },
    {
     "name": "stdout",
     "output_type": "stream",
     "text": [
      "92/92 [==============================] - 10s 109ms/step - root_mean_squared_error: 0.8783 - loss: 0.7710 - regularization_loss: 0.0000e+00 - total_loss: 0.7710 - val_root_mean_squared_error: 0.8822 - val_loss: 0.8302 - val_regularization_loss: 0.0000e+00 - val_total_loss: 0.8302\n",
      "Epoch 30/32\n",
      "92/92 [==============================] - 10s 109ms/step - root_mean_squared_error: 0.8753 - loss: 0.7657 - regularization_loss: 0.0000e+00 - total_loss: 0.7657 - val_root_mean_squared_error: 0.8773 - val_loss: 0.8157 - val_regularization_loss: 0.0000e+00 - val_total_loss: 0.8157\n",
      "Epoch 31/32\n",
      "92/92 [==============================] - 10s 107ms/step - root_mean_squared_error: 0.8760 - loss: 0.7669 - regularization_loss: 0.0000e+00 - total_loss: 0.7669 - val_root_mean_squared_error: 0.8758 - val_loss: 0.7974 - val_regularization_loss: 0.0000e+00 - val_total_loss: 0.7974\n",
      "Epoch 32/32\n",
      "92/92 [==============================] - 9s 102ms/step - root_mean_squared_error: 0.8758 - loss: 0.7664 - regularization_loss: 0.0000e+00 - total_loss: 0.7664 - val_root_mean_squared_error: 0.8738 - val_loss: 0.8057 - val_regularization_loss: 0.0000e+00 - val_total_loss: 0.8057\n"
     ]
    }
   ],
   "source": [
    "# Then, let's train the model:\n",
    "history_train_2 = model_2.fit(cached_train, validation_data = cached_test, epochs=32)"
   ]
  },
  {
   "cell_type": "code",
   "execution_count": 81,
   "id": "d2219ead",
   "metadata": {},
   "outputs": [
    {
     "data": {
      "image/png": "[encoded data removed]",
      "text/plain": [
       "<Figure size 1152x432 with 1 Axes>"
      ]
     },
     "metadata": {},
     "output_type": "display_data"
    }
   ],
   "source": [
    "plt.subplots(figsize = (16,6))\n",
    "plt.plot(history_train_2.history['total_loss'],color='red', alpha=0.8, label='loss')\n",
    "plt.title(\"Total Loss over epochs\", fontsize=14)\n",
    "#plt.ylabel('Loss Total')\n",
    "plt.xlabel('epochs')\n",
    "plt.legend(loc='upper right')\n",
    "plt.show()\n"
   ]
  },
  {
   "cell_type": "code",
   "execution_count": 82,
   "id": "477570e5",
   "metadata": {},
   "outputs": [
    {
     "data": {
      "image/png": "[encoded data removed]",
      "text/plain": [
       "<Figure size 1152x432 with 1 Axes>"
      ]
     },
     "metadata": {},
     "output_type": "display_data"
    }
   ],
   "source": [
    "plt.subplots(figsize = (16,6))\n",
    "plt.plot(history_train_2.history['root_mean_squared_error'],color='red', alpha=0.8, label='RMSE-Train')\n",
    "plt.plot(history_train_2.history['val_root_mean_squared_error'],color='green', alpha=0.8, label='RMSE-Test')\n",
    "plt.title(\"RMSE over epochs\", fontsize=14)\n",
    "#plt.ylabel('Loss Total')\n",
    "plt.xlabel('epochs')\n",
    "plt.legend(loc='upper right')\n",
    "plt.show()"
   ]
  },
  {
   "cell_type": "code",
   "execution_count": 83,
   "id": "7e557fe3",
   "metadata": {},
   "outputs": [
    {
     "name": "stdout",
     "output_type": "stream",
     "text": [
      "123/123 [==============================] - 1s 9ms/step - root_mean_squared_error: 0.8738 - loss: 0.7642 - regularization_loss: 0.0000e+00 - total_loss: 0.7642\n"
     ]
    },
    {
     "data": {
      "text/plain": [
       "{'root_mean_squared_error': 0.8737925887107849,\n",
       " 'loss': 0.8057142496109009,\n",
       " 'regularization_loss': 0,\n",
       " 'total_loss': 0.8057142496109009}"
      ]
     },
     "execution_count": 83,
     "metadata": {},
     "output_type": "execute_result"
    }
   ],
   "source": [
    "#Evaluate the model\n",
    "model_2.evaluate(cached_test, return_dict=True)"
   ]
  },
  {
   "cell_type": "markdown",
   "id": "eee303f7",
   "metadata": {},
   "source": [
    "### 5.3 Deeper Network: 4 Dense Layers + embedding_dimension = 64 + epochs = 32"
   ]
  },
  {
   "cell_type": "code",
   "execution_count": 100,
   "id": "9170d513",
   "metadata": {},
   "outputs": [],
   "source": [
    "class RankingModel(tf.keras.Model):\n",
    "\n",
    "    def __init__(self):\n",
    "        super().__init__()\n",
    "        #Higher values will correspond to models that may be more accurate, but will also be slower to fit and more prone to overfitting:\n",
    "        embedding_dimension = 64\n",
    "\n",
    "        # Compute embeddings for users.\n",
    "        self.user_embeddings = tf.keras.Sequential([\n",
    "                               tf.keras.layers.experimental.preprocessing.StringLookup(\n",
    "                               vocabulary=unique_user_ids, mask_token=None),\n",
    "                               tf.keras.layers.Embedding(len(unique_user_ids) + 1, embedding_dimension)\n",
    "                                                  ])\n",
    "\n",
    "        # Compute embeddings for movies.\n",
    "        self.movie_embeddings = tf.keras.Sequential([\n",
    "                                tf.keras.layers.experimental.preprocessing.StringLookup(\n",
    "                                vocabulary=unique_movie_titles, mask_token=None),\n",
    "                                tf.keras.layers.Embedding(len(unique_movie_titles) + 1, embedding_dimension)\n",
    "                                                   ])\n",
    "\n",
    "        # Compute predictions.\n",
    "        self.ratings = tf.keras.Sequential([\n",
    "                                          # Learn multiple dense layers.\n",
    "                                          tf.keras.layers.Dense(128, activation=\"relu\"),\n",
    "                                          tf.keras.layers.Dense(128, activation=\"relu\"),\n",
    "                                          tf.keras.layers.Dense(128, activation=\"relu\"),\n",
    "                                          tf.keras.layers.Dense(64, activation=\"relu\"),\n",
    "                                          # Make rating predictions in the final layer.\n",
    "                                          tf.keras.layers.Dense(1)\n",
    "                                          ])\n",
    "\n",
    "    def call(self, inputs):\n",
    "\n",
    "        user_id, movie_title = inputs\n",
    "\n",
    "        user_embedding = self.user_embeddings(user_id)\n",
    "        movie_embedding = self.movie_embeddings(movie_title)\n",
    "\n",
    "        return self.ratings(tf.concat([user_embedding, movie_embedding], axis=1))"
   ]
  },
  {
   "cell_type": "code",
   "execution_count": 101,
   "id": "30f6a555",
   "metadata": {
    "scrolled": true
   },
   "outputs": [
    {
     "name": "stdout",
     "output_type": "stream",
     "text": [
      "WARNING:tensorflow:Layers in a Sequential model should only have a single input tensor, but we receive a <class 'list'> input: ['42']\n",
      "Consider rewriting this model with the Functional API.\n"
     ]
    },
    {
     "name": "stderr",
     "output_type": "stream",
     "text": [
      "WARNING:tensorflow:Layers in a Sequential model should only have a single input tensor, but we receive a <class 'list'> input: ['42']\n",
      "Consider rewriting this model with the Functional API.\n"
     ]
    },
    {
     "name": "stdout",
     "output_type": "stream",
     "text": [
      "WARNING:tensorflow:Layers in a Sequential model should only have a single input tensor, but we receive a <class 'list'> input: ['7th Voyage of Sinbad, The (1958)']\n",
      "Consider rewriting this model with the Functional API.\n"
     ]
    },
    {
     "name": "stderr",
     "output_type": "stream",
     "text": [
      "WARNING:tensorflow:Layers in a Sequential model should only have a single input tensor, but we receive a <class 'list'> input: ['7th Voyage of Sinbad, The (1958)']\n",
      "Consider rewriting this model with the Functional API.\n"
     ]
    },
    {
     "data": {
      "text/plain": [
       "<tf.Tensor: shape=(1, 1), dtype=float32, numpy=array([[-0.01385202]], dtype=float32)>"
      ]
     },
     "execution_count": 101,
     "metadata": {},
     "output_type": "execute_result"
    }
   ],
   "source": [
    "RankingModel()(([\"42\"], [\"7th Voyage of Sinbad, The (1958)\"]))\n"
   ]
  },
  {
   "cell_type": "code",
   "execution_count": 102,
   "id": "302f7bb2",
   "metadata": {},
   "outputs": [],
   "source": [
    "task = tfrs.tasks.Ranking(\n",
    "                         loss = tf.keras.losses.MeanSquaredError(),\n",
    "                         metrics=[tf.keras.metrics.RootMeanSquaredError()]\n",
    "                         )"
   ]
  },
  {
   "cell_type": "code",
   "execution_count": 103,
   "id": "cb1229a5",
   "metadata": {},
   "outputs": [],
   "source": [
    "class MovielensModel(tfrs.models.Model):\n",
    "\n",
    "    def __init__(self):\n",
    "        super().__init__()\n",
    "        self.ranking_model: tf.keras.Model = RankingModel()\n",
    "        self.task: tf.keras.layers.Layer = tfrs.tasks.Ranking(\n",
    "                                                              loss = tf.keras.losses.MeanSquaredError(),\n",
    "                                                               metrics=[tf.keras.metrics.RootMeanSquaredError()]\n",
    "                                                              )\n",
    "\n",
    "    def compute_loss(self, features: Dict[Text, tf.Tensor], training=False) -> tf.Tensor:\n",
    "        rating_predictions = self.ranking_model((features[\"user_id\"], features[\"movie_title\"]))\n",
    "\n",
    "        # The task computes the loss and the metrics.\n",
    "        return self.task(labels=features[\"user_rating\"], predictions=rating_predictions)"
   ]
  },
  {
   "cell_type": "code",
   "execution_count": 104,
   "id": "743c66b6",
   "metadata": {},
   "outputs": [],
   "source": [
    "#Let's first instantiate the model.\n",
    "model_3 = MovielensModel()\n",
    "model_3.compile(optimizer=tf.keras.optimizers.Adagrad(learning_rate=0.1)) #defauly learning_rate=0.001"
   ]
  },
  {
   "cell_type": "code",
   "execution_count": 105,
   "id": "d97c485c",
   "metadata": {},
   "outputs": [],
   "source": [
    "# Then shuffle, batch, and cache the training and evaluation data:\n",
    "# Segment the batches so that the model runs 13 training batches (2^13) and 11 test batches (2^11) per epoch, \n",
    "# while having a batch size which is a multiple of 2^n.\n",
    "cached_train = train.shuffle(l).batch(8192).cache()\n",
    "cached_test = test.batch(2048).cache()"
   ]
  },
  {
   "cell_type": "code",
   "execution_count": 106,
   "id": "d6faf6d8",
   "metadata": {
    "scrolled": false
   },
   "outputs": [
    {
     "name": "stdout",
     "output_type": "stream",
     "text": [
      "Epoch 1/32\n",
      "92/92 [==============================] - 48s 376ms/step - root_mean_squared_error: 1.4066 - loss: 1.9673 - regularization_loss: 0.0000e+00 - total_loss: 1.9673 - val_root_mean_squared_error: 1.1129 - val_loss: 1.0904 - val_regularization_loss: 0.0000e+00 - val_total_loss: 1.0904\n",
      "Epoch 2/32\n",
      "92/92 [==============================] - 7s 71ms/step - root_mean_squared_error: 1.0978 - loss: 1.2029 - regularization_loss: 0.0000e+00 - total_loss: 1.2029 - val_root_mean_squared_error: 1.0236 - val_loss: 0.9517 - val_regularization_loss: 0.0000e+00 - val_total_loss: 0.9517\n",
      "Epoch 3/32\n",
      "92/92 [==============================] - 7s 72ms/step - root_mean_squared_error: 0.9864 - loss: 0.9719 - regularization_loss: 0.0000e+00 - total_loss: 0.9719 - val_root_mean_squared_error: 0.9431 - val_loss: 0.8265 - val_regularization_loss: 0.0000e+00 - val_total_loss: 0.8265\n",
      "Epoch 4/32\n",
      "92/92 [==============================] - 7s 71ms/step - root_mean_squared_error: 0.9343 - loss: 0.8725 - regularization_loss: 0.0000e+00 - total_loss: 0.8725 - val_root_mean_squared_error: 0.9170 - val_loss: 0.7829 - val_regularization_loss: 0.0000e+00 - val_total_loss: 0.7829\n",
      "Epoch 5/32\n",
      "92/92 [==============================] - 7s 71ms/step - root_mean_squared_error: 0.9195 - loss: 0.8455 - regularization_loss: 0.0000e+00 - total_loss: 0.8455 - val_root_mean_squared_error: 0.9164 - val_loss: 0.7835 - val_regularization_loss: 0.0000e+00 - val_total_loss: 0.7835\n",
      "Epoch 6/32\n",
      "92/92 [==============================] - 7s 72ms/step - root_mean_squared_error: 0.9120 - loss: 0.8319 - regularization_loss: 0.0000e+00 - total_loss: 0.8319 - val_root_mean_squared_error: 0.9141 - val_loss: 0.7732 - val_regularization_loss: 0.0000e+00 - val_total_loss: 0.7732\n",
      "Epoch 7/32\n",
      "92/92 [==============================] - 6s 66ms/step - root_mean_squared_error: 0.9047 - loss: 0.8186 - regularization_loss: 0.0000e+00 - total_loss: 0.8186 - val_root_mean_squared_error: 0.9044 - val_loss: 0.7494 - val_regularization_loss: 0.0000e+00 - val_total_loss: 0.7494\n",
      "Epoch 8/32\n",
      "92/92 [==============================] - 8s 85ms/step - root_mean_squared_error: 0.9024 - loss: 0.8143 - regularization_loss: 0.0000e+00 - total_loss: 0.8143 - val_root_mean_squared_error: 0.9017 - val_loss: 0.7416 - val_regularization_loss: 0.0000e+00 - val_total_loss: 0.7416\n",
      "Epoch 9/32\n",
      "92/92 [==============================] - 9s 100ms/step - root_mean_squared_error: 0.9003 - loss: 0.8106 - regularization_loss: 0.0000e+00 - total_loss: 0.8106 - val_root_mean_squared_error: 0.9013 - val_loss: 0.7407 - val_regularization_loss: 0.0000e+00 - val_total_loss: 0.7407\n",
      "Epoch 10/32\n",
      "92/92 [==============================] - 9s 102ms/step - root_mean_squared_error: 0.8984 - loss: 0.8071 - regularization_loss: 0.0000e+00 - total_loss: 0.8071 - val_root_mean_squared_error: 0.9003 - val_loss: 0.7380 - val_regularization_loss: 0.0000e+00 - val_total_loss: 0.7380\n",
      "Epoch 11/32\n",
      "92/92 [==============================] - 9s 103ms/step - root_mean_squared_error: 0.8968 - loss: 0.8042 - regularization_loss: 0.0000e+00 - total_loss: 0.8042 - val_root_mean_squared_error: 0.8989 - val_loss: 0.7341 - val_regularization_loss: 0.0000e+00 - val_total_loss: 0.7341\n",
      "Epoch 12/32\n",
      "92/92 [==============================] - 10s 111ms/step - root_mean_squared_error: 0.8953 - loss: 0.8015 - regularization_loss: 0.0000e+00 - total_loss: 0.8015 - val_root_mean_squared_error: 0.8972 - val_loss: 0.7298 - val_regularization_loss: 0.0000e+00 - val_total_loss: 0.7298\n",
      "Epoch 13/32\n",
      "92/92 [==============================] - 10s 108ms/step - root_mean_squared_error: 0.8939 - loss: 0.7989 - regularization_loss: 0.0000e+00 - total_loss: 0.7989 - val_root_mean_squared_error: 0.8955 - val_loss: 0.7259 - val_regularization_loss: 0.0000e+00 - val_total_loss: 0.7259\n",
      "Epoch 14/32\n",
      "92/92 [==============================] - 11s 117ms/step - root_mean_squared_error: 0.8924 - loss: 0.7963 - regularization_loss: 0.0000e+00 - total_loss: 0.7963 - val_root_mean_squared_error: 0.8936 - val_loss: 0.7215 - val_regularization_loss: 0.0000e+00 - val_total_loss: 0.7215\n",
      "Epoch 15/32\n",
      "92/92 [==============================] - 11s 119ms/step - root_mean_squared_error: 0.8911 - loss: 0.7940 - regularization_loss: 0.0000e+00 - total_loss: 0.7940 - val_root_mean_squared_error: 0.8920 - val_loss: 0.7181 - val_regularization_loss: 0.0000e+00 - val_total_loss: 0.7181\n",
      "Epoch 16/32\n",
      "92/92 [==============================] - 12s 126ms/step - root_mean_squared_error: 0.8897 - loss: 0.7914 - regularization_loss: 0.0000e+00 - total_loss: 0.7914 - val_root_mean_squared_error: 0.8904 - val_loss: 0.7147 - val_regularization_loss: 0.0000e+00 - val_total_loss: 0.7147\n",
      "Epoch 17/32\n",
      "92/92 [==============================] - 12s 125ms/step - root_mean_squared_error: 0.8883 - loss: 0.7889 - regularization_loss: 0.0000e+00 - total_loss: 0.7889 - val_root_mean_squared_error: 0.8886 - val_loss: 0.7100 - val_regularization_loss: 0.0000e+00 - val_total_loss: 0.7100\n",
      "Epoch 18/32\n",
      "92/92 [==============================] - 12s 127ms/step - root_mean_squared_error: 0.8872 - loss: 0.7870 - regularization_loss: 0.0000e+00 - total_loss: 0.7870 - val_root_mean_squared_error: 0.8879 - val_loss: 0.7083 - val_regularization_loss: 0.0000e+00 - val_total_loss: 0.7083\n",
      "Epoch 19/32\n",
      "92/92 [==============================] - 12s 129ms/step - root_mean_squared_error: 0.8854 - loss: 0.7838 - regularization_loss: 0.0000e+00 - total_loss: 0.7838 - val_root_mean_squared_error: 0.8851 - val_loss: 0.6981 - val_regularization_loss: 0.0000e+00 - val_total_loss: 0.6981\n",
      "Epoch 20/32\n",
      "92/92 [==============================] - 12s 130ms/step - root_mean_squared_error: 0.8864 - loss: 0.7856 - regularization_loss: 0.0000e+00 - total_loss: 0.7856 - val_root_mean_squared_error: 0.8917 - val_loss: 0.7152 - val_regularization_loss: 0.0000e+00 - val_total_loss: 0.7152\n",
      "Epoch 21/32\n",
      "92/92 [==============================] - 12s 136ms/step - root_mean_squared_error: 0.8839 - loss: 0.7811 - regularization_loss: 0.0000e+00 - total_loss: 0.7811 - val_root_mean_squared_error: 0.8865 - val_loss: 0.7040 - val_regularization_loss: 0.0000e+00 - val_total_loss: 0.7040\n",
      "Epoch 22/32\n",
      "92/92 [==============================] - 12s 134ms/step - root_mean_squared_error: 0.8821 - loss: 0.7779 - regularization_loss: 0.0000e+00 - total_loss: 0.7779 - val_root_mean_squared_error: 0.8814 - val_loss: 0.6884 - val_regularization_loss: 0.0000e+00 - val_total_loss: 0.6884\n",
      "Epoch 23/32\n",
      "92/92 [==============================] - 13s 141ms/step - root_mean_squared_error: 0.8813 - loss: 0.7767 - regularization_loss: 0.0000e+00 - total_loss: 0.7767 - val_root_mean_squared_error: 0.8917 - val_loss: 0.7134 - val_regularization_loss: 0.0000e+00 - val_total_loss: 0.7134\n",
      "Epoch 24/32\n",
      "92/92 [==============================] - 12s 131ms/step - root_mean_squared_error: 0.8809 - loss: 0.7756 - regularization_loss: 0.0000e+00 - total_loss: 0.7756 - val_root_mean_squared_error: 0.8818 - val_loss: 0.6930 - val_regularization_loss: 0.0000e+00 - val_total_loss: 0.6930\n",
      "Epoch 25/32\n",
      "92/92 [==============================] - 12s 132ms/step - root_mean_squared_error: 0.8790 - loss: 0.7723 - regularization_loss: 0.0000e+00 - total_loss: 0.7723 - val_root_mean_squared_error: 0.8778 - val_loss: 0.6808 - val_regularization_loss: 0.0000e+00 - val_total_loss: 0.6808\n",
      "Epoch 26/32\n",
      "92/92 [==============================] - 12s 130ms/step - root_mean_squared_error: 0.8769 - loss: 0.7689 - regularization_loss: 0.0000e+00 - total_loss: 0.7689 - val_root_mean_squared_error: 0.8916 - val_loss: 0.7111 - val_regularization_loss: 0.0000e+00 - val_total_loss: 0.7111\n",
      "Epoch 27/32\n",
      "92/92 [==============================] - 13s 143ms/step - root_mean_squared_error: 0.8779 - loss: 0.7704 - regularization_loss: 0.0000e+00 - total_loss: 0.7704 - val_root_mean_squared_error: 0.8793 - val_loss: 0.6853 - val_regularization_loss: 0.0000e+00 - val_total_loss: 0.6853\n",
      "Epoch 28/32\n",
      "92/92 [==============================] - 13s 137ms/step - root_mean_squared_error: 0.8749 - loss: 0.7650 - regularization_loss: 0.0000e+00 - total_loss: 0.7650 - val_root_mean_squared_error: 0.8763 - val_loss: 0.6795 - val_regularization_loss: 0.0000e+00 - val_total_loss: 0.6795\n",
      "Epoch 29/32\n"
     ]
    },
    {
     "name": "stdout",
     "output_type": "stream",
     "text": [
      "92/92 [==============================] - 12s 131ms/step - root_mean_squared_error: 0.8734 - loss: 0.7623 - regularization_loss: 0.0000e+00 - total_loss: 0.7623 - val_root_mean_squared_error: 0.8751 - val_loss: 0.6761 - val_regularization_loss: 0.0000e+00 - val_total_loss: 0.6761\n",
      "Epoch 30/32\n",
      "92/92 [==============================] - 12s 132ms/step - root_mean_squared_error: 0.8736 - loss: 0.7628 - regularization_loss: 0.0000e+00 - total_loss: 0.7628 - val_root_mean_squared_error: 0.8756 - val_loss: 0.6674 - val_regularization_loss: 0.0000e+00 - val_total_loss: 0.6674\n",
      "Epoch 31/32\n",
      "92/92 [==============================] - 12s 132ms/step - root_mean_squared_error: 0.8718 - loss: 0.7595 - regularization_loss: 0.0000e+00 - total_loss: 0.7595 - val_root_mean_squared_error: 0.8690 - val_loss: 0.6615 - val_regularization_loss: 0.0000e+00 - val_total_loss: 0.6615\n",
      "Epoch 32/32\n",
      "92/92 [==============================] - 13s 140ms/step - root_mean_squared_error: 0.8697 - loss: 0.7558 - regularization_loss: 0.0000e+00 - total_loss: 0.7558 - val_root_mean_squared_error: 0.8689 - val_loss: 0.6591 - val_regularization_loss: 0.0000e+00 - val_total_loss: 0.6591\n"
     ]
    }
   ],
   "source": [
    "# Then, let's train the model:\n",
    "history_train_3 = model_3.fit(cached_train, validation_data = cached_test, epochs=32)"
   ]
  },
  {
   "cell_type": "code",
   "execution_count": 107,
   "id": "d8279cb7",
   "metadata": {},
   "outputs": [
    {
     "data": {
      "image/png": "[encoded data removed]",
      "text/plain": [
       "<Figure size 1152x432 with 1 Axes>"
      ]
     },
     "metadata": {},
     "output_type": "display_data"
    }
   ],
   "source": [
    "plt.subplots(figsize = (16,6))\n",
    "plt.plot(history_train_3.history['total_loss'],color='red', alpha=0.8, label='loss')\n",
    "plt.title(\"Total Loss over epochs\", fontsize=14)\n",
    "#plt.ylabel('Loss Total')\n",
    "plt.xlabel('epochs')\n",
    "plt.legend(loc='upper right')\n",
    "plt.show()\n"
   ]
  },
  {
   "cell_type": "code",
   "execution_count": 108,
   "id": "9eea4800",
   "metadata": {},
   "outputs": [
    {
     "data": {
      "image/png": "[encoded data removed]",
      "text/plain": [
       "<Figure size 1152x432 with 1 Axes>"
      ]
     },
     "metadata": {},
     "output_type": "display_data"
    }
   ],
   "source": [
    "plt.subplots(figsize = (16,6))\n",
    "plt.plot(history_train_3.history['root_mean_squared_error'],color='red', alpha=0.8, label='RMSE-Train')\n",
    "plt.plot(history_train_3.history['val_root_mean_squared_error'],color='green', alpha=0.8, label='RMSE-Test')\n",
    "plt.title(\"RMSE over epochs\", fontsize=14)\n",
    "#plt.ylabel('Loss Total')\n",
    "plt.xlabel('epochs')\n",
    "plt.legend(loc='upper right')\n",
    "plt.show()"
   ]
  },
  {
   "cell_type": "code",
   "execution_count": 109,
   "id": "e77d7087",
   "metadata": {},
   "outputs": [
    {
     "name": "stdout",
     "output_type": "stream",
     "text": [
      "123/123 [==============================] - 1s 6ms/step - root_mean_squared_error: 0.8689 - loss: 0.7535 - regularization_loss: 0.0000e+00 - total_loss: 0.7535\n"
     ]
    },
    {
     "data": {
      "text/plain": [
       "{'root_mean_squared_error': 0.8689167499542236,\n",
       " 'loss': 0.6591469645500183,\n",
       " 'regularization_loss': 0,\n",
       " 'total_loss': 0.6591469645500183}"
      ]
     },
     "execution_count": 109,
     "metadata": {},
     "output_type": "execute_result"
    }
   ],
   "source": [
    "#Evaluate the model\n",
    "model_3.evaluate(cached_test, return_dict=True)"
   ]
  },
  {
   "cell_type": "markdown",
   "id": "4cdc6e67",
   "metadata": {},
   "source": [
    "## 6. Ranking Tuning Summary\n",
    "\n",
    "As shown below, we managed to reduce RMSE and loss from 93% to 86% and 81% to 65% respectively using below: \n",
    "\n",
    " * Increased embedding_dimension from 32 ==> 64.\n",
    " * Increased epochs from 3 ==> 32\n",
    " * Increase Dense Layers from 2 ==> 4\n",
    " \n",
    " |Ranking Tuning|RMSE | loss|\n",
    " |:--:|:--:|:--:|\n",
    " |Baseline Model: 2 Dense Layers + embedding_dimension = 32 + epochs = 3|0.931866|0.810238|\n",
    " |Model 1: 2 Dense Layers + embedding_dimension = 64 + epochs = 32|0.898368|0.853799|\n",
    " |Model 2: Deeper: 3 Dense Layers + embedding_dimension = 64 + epochs = 32|0.873792|0.805714|\n",
    " |Model 3: Deeper: 4 Dense Layers + embedding_dimension = 64 + epochs = 32|0.868916|0.65914|\n",
    " \n",
    " "
   ]
  },
  {
   "cell_type": "markdown",
   "id": "de99065a",
   "metadata": {},
   "source": [
    "## 7. Ranking\n",
    "\n",
    "Finally, let's take five movies from the test sets and see how user number \"42\" would rank them:"
   ]
  },
  {
   "cell_type": "code",
   "execution_count": 110,
   "id": "c28e9870",
   "metadata": {
    "scrolled": true
   },
   "outputs": [
    {
     "name": "stdout",
     "output_type": "stream",
     "text": [
      "WARNING:tensorflow:Layers in a Sequential model should only have a single input tensor, but we receive a <class 'list'> input: ['42']\n",
      "Consider rewriting this model with the Functional API.\n"
     ]
    },
    {
     "name": "stderr",
     "output_type": "stream",
     "text": [
      "WARNING:tensorflow:Layers in a Sequential model should only have a single input tensor, but we receive a <class 'list'> input: ['42']\n",
      "Consider rewriting this model with the Functional API.\n"
     ]
    },
    {
     "name": "stdout",
     "output_type": "stream",
     "text": [
      "WARNING:tensorflow:Layers in a Sequential model should only have a single input tensor, but we receive a <class 'list'> input: [<tf.Tensor: shape=(), dtype=string, numpy=b'Gladiator (2000)'>]\n",
      "Consider rewriting this model with the Functional API.\n"
     ]
    },
    {
     "name": "stderr",
     "output_type": "stream",
     "text": [
      "WARNING:tensorflow:Layers in a Sequential model should only have a single input tensor, but we receive a <class 'list'> input: [<tf.Tensor: shape=(), dtype=string, numpy=b'Gladiator (2000)'>]\n",
      "Consider rewriting this model with the Functional API.\n"
     ]
    },
    {
     "name": "stdout",
     "output_type": "stream",
     "text": [
      "WARNING:tensorflow:Layers in a Sequential model should only have a single input tensor, but we receive a <class 'list'> input: ['42']\n",
      "Consider rewriting this model with the Functional API.\n"
     ]
    },
    {
     "name": "stderr",
     "output_type": "stream",
     "text": [
      "WARNING:tensorflow:Layers in a Sequential model should only have a single input tensor, but we receive a <class 'list'> input: ['42']\n",
      "Consider rewriting this model with the Functional API.\n"
     ]
    },
    {
     "name": "stdout",
     "output_type": "stream",
     "text": [
      "WARNING:tensorflow:Layers in a Sequential model should only have a single input tensor, but we receive a <class 'list'> input: [<tf.Tensor: shape=(), dtype=string, numpy=b'Fast, Cheap & Out of Control (1997)'>]\n",
      "Consider rewriting this model with the Functional API.\n"
     ]
    },
    {
     "name": "stderr",
     "output_type": "stream",
     "text": [
      "WARNING:tensorflow:Layers in a Sequential model should only have a single input tensor, but we receive a <class 'list'> input: [<tf.Tensor: shape=(), dtype=string, numpy=b'Fast, Cheap & Out of Control (1997)'>]\n",
      "Consider rewriting this model with the Functional API.\n"
     ]
    },
    {
     "name": "stdout",
     "output_type": "stream",
     "text": [
      "WARNING:tensorflow:Layers in a Sequential model should only have a single input tensor, but we receive a <class 'list'> input: ['42']\n",
      "Consider rewriting this model with the Functional API.\n"
     ]
    },
    {
     "name": "stderr",
     "output_type": "stream",
     "text": [
      "WARNING:tensorflow:Layers in a Sequential model should only have a single input tensor, but we receive a <class 'list'> input: ['42']\n",
      "Consider rewriting this model with the Functional API.\n"
     ]
    },
    {
     "name": "stdout",
     "output_type": "stream",
     "text": [
      "WARNING:tensorflow:Layers in a Sequential model should only have a single input tensor, but we receive a <class 'list'> input: [<tf.Tensor: shape=(), dtype=string, numpy=b'Truman Show, The (1998)'>]\n",
      "Consider rewriting this model with the Functional API.\n"
     ]
    },
    {
     "name": "stderr",
     "output_type": "stream",
     "text": [
      "WARNING:tensorflow:Layers in a Sequential model should only have a single input tensor, but we receive a <class 'list'> input: [<tf.Tensor: shape=(), dtype=string, numpy=b'Truman Show, The (1998)'>]\n",
      "Consider rewriting this model with the Functional API.\n"
     ]
    },
    {
     "name": "stdout",
     "output_type": "stream",
     "text": [
      "WARNING:tensorflow:Layers in a Sequential model should only have a single input tensor, but we receive a <class 'list'> input: ['42']\n",
      "Consider rewriting this model with the Functional API.\n"
     ]
    },
    {
     "name": "stderr",
     "output_type": "stream",
     "text": [
      "WARNING:tensorflow:Layers in a Sequential model should only have a single input tensor, but we receive a <class 'list'> input: ['42']\n",
      "Consider rewriting this model with the Functional API.\n"
     ]
    },
    {
     "name": "stdout",
     "output_type": "stream",
     "text": [
      "WARNING:tensorflow:Layers in a Sequential model should only have a single input tensor, but we receive a <class 'list'> input: [<tf.Tensor: shape=(), dtype=string, numpy=b'Game, The (1997)'>]\n",
      "Consider rewriting this model with the Functional API.\n"
     ]
    },
    {
     "name": "stderr",
     "output_type": "stream",
     "text": [
      "WARNING:tensorflow:Layers in a Sequential model should only have a single input tensor, but we receive a <class 'list'> input: [<tf.Tensor: shape=(), dtype=string, numpy=b'Game, The (1997)'>]\n",
      "Consider rewriting this model with the Functional API.\n"
     ]
    },
    {
     "name": "stdout",
     "output_type": "stream",
     "text": [
      "WARNING:tensorflow:Layers in a Sequential model should only have a single input tensor, but we receive a <class 'list'> input: ['42']\n",
      "Consider rewriting this model with the Functional API.\n"
     ]
    },
    {
     "name": "stderr",
     "output_type": "stream",
     "text": [
      "WARNING:tensorflow:Layers in a Sequential model should only have a single input tensor, but we receive a <class 'list'> input: ['42']\n",
      "Consider rewriting this model with the Functional API.\n"
     ]
    },
    {
     "name": "stdout",
     "output_type": "stream",
     "text": [
      "WARNING:tensorflow:Layers in a Sequential model should only have a single input tensor, but we receive a <class 'list'> input: [<tf.Tensor: shape=(), dtype=string, numpy=b'Back to the Future (1985)'>]\n",
      "Consider rewriting this model with the Functional API.\n"
     ]
    },
    {
     "name": "stderr",
     "output_type": "stream",
     "text": [
      "WARNING:tensorflow:Layers in a Sequential model should only have a single input tensor, but we receive a <class 'list'> input: [<tf.Tensor: shape=(), dtype=string, numpy=b'Back to the Future (1985)'>]\n",
      "Consider rewriting this model with the Functional API.\n"
     ]
    },
    {
     "name": "stdout",
     "output_type": "stream",
     "text": [
      "b'Truman Show, The (1998)'\n",
      "b'Game, The (1997)'\n",
      "b'Back to the Future (1985)'\n",
      "b'Gladiator (2000)'\n",
      "b'Fast, Cheap & Out of Control (1997)'\n"
     ]
    }
   ],
   "source": [
    "test_ratings ={}\n",
    "\n",
    "for m in test.take(5):\n",
    "    test_ratings[m[\"movie_title\"].numpy()] = RankingModel()(([\"42\"], [m[\"movie_title\"]]))\n",
    "    \n",
    "for m in sorted(test_ratings, key=test_ratings.get, reverse=True):\n",
    "    print(m)"
   ]
  },
  {
   "cell_type": "markdown",
   "id": "7bfcf222",
   "metadata": {},
   "source": [
    "As we can see above, we managed to get the predicted ratings for those five movies, and then we sort them in descending order. In practice, we would be sorting the candidates generated from the retrieval stage."
   ]
  },
  {
   "cell_type": "code",
   "execution_count": 111,
   "id": "76d96ef3",
   "metadata": {},
   "outputs": [
    {
     "data": {
      "text/html": [
       "<style>.container { width:75% !important; }</style>"
      ],
      "text/plain": [
       "<IPython.core.display.HTML object>"
      ]
     },
     "metadata": {},
     "output_type": "display_data"
    }
   ],
   "source": [
    "from IPython.core.display import display, HTML\n",
    "display(HTML(\"<style>.container { width:75% !important; }</style>\"))"
   ]
  }
 ],
 "metadata": {
  "kernelspec": {
   "display_name": "Python [conda env:tfrs] *",
   "language": "python",
   "name": "conda-env-tfrs-py"
  },
  "language_info": {
   "codemirror_mode": {
    "name": "ipython",
    "version": 3
   },
   "file_extension": ".py",
   "mimetype": "text/x-python",
   "name": "python",
   "nbconvert_exporter": "python",
   "pygments_lexer": "ipython3",
   "version": "3.7.10"
  }
 },
 "nbformat": 4,
 "nbformat_minor": 5
}
